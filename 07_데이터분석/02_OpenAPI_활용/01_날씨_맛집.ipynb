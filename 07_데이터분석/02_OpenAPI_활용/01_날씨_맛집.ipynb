{
 "cells": [
  {
   "cell_type": "markdown",
   "metadata": {},
   "source": [
    "### OpenAPI 활용 - 날씨 정보를 사용한 맛집 추천 프로젝트"
   ]
  },
  {
   "cell_type": "code",
   "execution_count": 1,
   "metadata": {},
   "outputs": [],
   "source": [
    "import requests\n",
    "import json\n",
    "import datetime"
   ]
  },
  {
   "cell_type": "code",
   "execution_count": 6,
   "metadata": {},
   "outputs": [
    {
     "name": "stdout",
     "output_type": "stream",
     "text": [
      "2023-04-18 03:02:19.159352\n",
      "20230417\n",
      "{'item': [{'baseDate': '20230417', 'baseTime': '2300', 'category': 'TMP', 'fcstDate': '20230418', 'fcstTime': '0000', 'fcstValue': '13', 'nx': 55, 'ny': 124}, {'baseDate': '20230417', 'baseTime': '2300', 'category': 'UUU', 'fcstDate': '20230418', 'fcstTime': '0000', 'fcstValue': '-1.4', 'nx': 55, 'ny': 124}, {'baseDate': '20230417', 'baseTime': '2300', 'category': 'VVV', 'fcstDate': '20230418', 'fcstTime': '0000', 'fcstValue': '1.7', 'nx': 55, 'ny': 124}, {'baseDate': '20230417', 'baseTime': '2300', 'category': 'VEC', 'fcstDate': '20230418', 'fcstTime': '0000', 'fcstValue': '139', 'nx': 55, 'ny': 124}, {'baseDate': '20230417', 'baseTime': '2300', 'category': 'WSD', 'fcstDate': '20230418', 'fcstTime': '0000', 'fcstValue': '2.3', 'nx': 55, 'ny': 124}, {'baseDate': '20230417', 'baseTime': '2300', 'category': 'SKY', 'fcstDate': '20230418', 'fcstTime': '0000', 'fcstValue': '4', 'nx': 55, 'ny': 124}, {'baseDate': '20230417', 'baseTime': '2300', 'category': 'PTY', 'fcstDate': '20230418', 'fcstTime': '0000', 'fcstValue': '0', 'nx': 55, 'ny': 124}, {'baseDate': '20230417', 'baseTime': '2300', 'category': 'POP', 'fcstDate': '20230418', 'fcstTime': '0000', 'fcstValue': '30', 'nx': 55, 'ny': 124}, {'baseDate': '20230417', 'baseTime': '2300', 'category': 'WAV', 'fcstDate': '20230418', 'fcstTime': '0000', 'fcstValue': '0', 'nx': 55, 'ny': 124}, {'baseDate': '20230417', 'baseTime': '2300', 'category': 'PCP', 'fcstDate': '20230418', 'fcstTime': '0000', 'fcstValue': '강수없음', 'nx': 55, 'ny': 124}]}\n"
     ]
    }
   ],
   "source": [
    "vilage_weather_url = \"http://apis.data.go.kr/1360000/VilageFcstInfoService_2.0/getVilageFcst?\"\n",
    "\n",
    "service_key = \"aIsRditBsUScVGImZFHmF9Ks8mcHAdsVw1Pt6dqB1Eoum2lh0CBnDUX3lDb0S608y61RBcdJTKwLKH%2Ft%2BXVlrg%3D%3D\"\n",
    "\n",
    "today = datetime.datetime.today()\n",
    "print(today)\n",
    "base_date = \"20230417\" #today.strftime(\"%Y%m%d\") # \"20200214\" == 기준 날짜\n",
    "print(base_date)\n",
    "base_time = \"2300\" # 날씨 값\n",
    "\n",
    "# 인천 구월동  \n",
    "nx = \"55\"\n",
    "ny = \"124\"\n",
    "\n",
    "payload = \"serviceKey=\" + service_key + \"&\" +\\\n",
    "    \"dataType=json\" + \"&\" +\\\n",
    "    \"base_date=\" + base_date + \"&\" +\\\n",
    "    \"base_time=\" + base_time + \"&\" +\\\n",
    "    \"nx=\" + nx + \"&\" +\\\n",
    "    \"ny=\" + ny\n",
    "\n",
    "# 값 요청\n",
    "res = requests.get(vilage_weather_url + payload)\n",
    "\n",
    "try:\n",
    "    items = res.json().get('response').get('body').get('items')\n",
    "    print(items)\n",
    "except:\n",
    "    print(\"날씨 정보 요청 실패 : \", res.text)"
   ]
  },
  {
   "cell_type": "code",
   "execution_count": 7,
   "metadata": {},
   "outputs": [
    {
     "data": {
      "text/plain": [
       "{'tmp': '13', 'code': '0', 'state': '없음'}"
      ]
     },
     "execution_count": 7,
     "metadata": {},
     "output_type": "execute_result"
    }
   ],
   "source": [
    "data = dict()\n",
    "data['date'] = base_date\n",
    "\n",
    "weather_data = dict()\n",
    "for item in items['item']:\n",
    "    # 기온\n",
    "    if item['category'] == 'TMP':   # 1시간 기온 (℃)\n",
    "        weather_data['tmp'] = item['fcstValue'] # 예보 값\n",
    "    \n",
    "    # 기상상태\n",
    "    if item['category'] == 'PTY':     # 강수 형태 (코드값)\n",
    "        \n",
    "        weather_code = item['fcstValue'] # 예보 값 - 0: 없음, 1: 비, 2: 비/눈, 3: 눈, 4: 소나기\n",
    "        \n",
    "        if weather_code == '1':\n",
    "            weather_state = '비'\n",
    "        elif weather_code == '2':\n",
    "            weather_state = '비/눈'\n",
    "        elif weather_code == '3':\n",
    "            weather_state = '눈'\n",
    "        elif weather_code == '4':\n",
    "            weather_state = '소나기'\n",
    "        else:\n",
    "            weather_state = '없음'\n",
    "        \n",
    "        weather_data['code'] = weather_code\n",
    "        weather_data['state'] = weather_state\n",
    "\n",
    "data['weather'] = weather_data\n",
    "data['weather']\n",
    "# {'code': '0', 'state': '없음', 'tmp': '9'} # 9도 / 기상 이상 없음"
   ]
  },
  {
   "cell_type": "markdown",
   "metadata": {},
   "source": [
    "### 미세 먼지 정보 가져오기"
   ]
  },
  {
   "cell_type": "code",
   "execution_count": 8,
   "metadata": {},
   "outputs": [
    {
     "name": "stdout",
     "output_type": "stream",
     "text": [
      "[{'so2Grade': '1', 'coFlag': None, 'khaiValue': '133', 'so2Value': '0.004', 'coValue': '0.4', 'pm25Flag': None, 'pm10Flag': None, 'o3Grade': '2', 'pm10Value': '89', 'khaiGrade': '3', 'pm25Value': '23', 'sidoName': '인천', 'no2Flag': None, 'no2Grade': '1', 'o3Flag': None, 'pm25Grade': '2', 'so2Flag': None, 'dataTime': '2023-04-18 03:00', 'coGrade': '1', 'no2Value': '0.018', 'stationName': '신흥', 'pm10Grade': '3', 'o3Value': '0.044'}, {'so2Grade': '1', 'coFlag': None, 'khaiValue': '153', 'so2Value': '0.003', 'coValue': '0.6', 'pm25Flag': None, 'pm10Flag': None, 'o3Grade': '2', 'pm10Value': '118', 'khaiGrade': '3', 'pm25Value': '41', 'sidoName': '인천', 'no2Flag': None, 'no2Grade': '1', 'o3Flag': None, 'pm25Grade': '2', 'so2Flag': None, 'dataTime': '2023-04-18 03:00', 'coGrade': '1', 'no2Value': '0.027', 'stationName': '서해', 'pm10Grade': '3', 'o3Value': '0.032'}, {'so2Grade': '1', 'coFlag': None, 'khaiValue': '118', 'so2Value': '0.003', 'coValue': '0.5', 'pm25Flag': None, 'pm10Flag': None, 'o3Grade': '2', 'pm10Value': '98', 'khaiGrade': '3', 'pm25Value': '30', 'sidoName': '인천', 'no2Flag': None, 'no2Grade': '1', 'o3Flag': None, 'pm25Grade': '2', 'so2Flag': None, 'dataTime': '2023-04-18 02:00', 'coGrade': '1', 'no2Value': '0.022', 'stationName': '영종', 'pm10Grade': '3', 'o3Value': '0.036'}, {'so2Grade': '1', 'coFlag': None, 'khaiValue': '120', 'so2Value': '0.003', 'coValue': '0.4', 'pm25Flag': None, 'pm10Flag': None, 'o3Grade': '2', 'pm10Value': '89', 'khaiGrade': '3', 'pm25Value': '25', 'sidoName': '인천', 'no2Flag': None, 'no2Grade': '1', 'o3Flag': None, 'pm25Grade': '2', 'so2Flag': None, 'dataTime': '2023-04-18 02:00', 'coGrade': '1', 'no2Value': '0.018', 'stationName': '송림', 'pm10Grade': '3', 'o3Value': '0.047'}, {'so2Grade': '1', 'coFlag': None, 'khaiValue': '131', 'so2Value': '0.003', 'coValue': '0.5', 'pm25Flag': None, 'pm10Flag': None, 'o3Grade': '2', 'pm10Value': '93', 'khaiGrade': '3', 'pm25Value': '26', 'sidoName': '인천', 'no2Flag': None, 'no2Grade': '1', 'o3Flag': None, 'pm25Grade': '2', 'so2Flag': None, 'dataTime': '2023-04-18 02:00', 'coGrade': '1', 'no2Value': '0.016', 'stationName': '구월동', 'pm10Grade': '3', 'o3Value': '0.041'}, {'so2Grade': '1', 'coFlag': None, 'khaiValue': '107', 'so2Value': '0.003', 'coValue': '0.5', 'pm25Flag': None, 'pm10Flag': None, 'o3Grade': '2', 'pm10Value': '83', 'khaiGrade': '3', 'pm25Value': '26', 'sidoName': '인천', 'no2Flag': None, 'no2Grade': '1', 'o3Flag': None, 'pm25Grade': '2', 'so2Flag': None, 'dataTime': '2023-04-18 02:00', 'coGrade': '1', 'no2Value': '0.020', 'stationName': '숭의', 'pm10Grade': '3', 'o3Value': '0.044'}, {'so2Grade': '1', 'coFlag': None, 'khaiValue': '131', 'so2Value': '0.003', 'coValue': '0.5', 'pm25Flag': None, 'pm10Flag': None, 'o3Grade': '2', 'pm10Value': '88', 'khaiGrade': '3', 'pm25Value': '31', 'sidoName': '인천', 'no2Flag': None, 'no2Grade': '1', 'o3Flag': None, 'pm25Grade': '2', 'so2Flag': None, 'dataTime': '2023-04-18 02:00', 'coGrade': '1', 'no2Value': '0.022', 'stationName': '석바위', 'pm10Grade': '3', 'o3Value': '0.038'}, {'so2Grade': '1', 'coFlag': None, 'khaiValue': '127', 'so2Value': '0.004', 'coValue': '0.4', 'pm25Flag': None, 'pm10Flag': None, 'o3Grade': '2', 'pm10Value': '78', 'khaiGrade': '3', 'pm25Value': '32', 'sidoName': '인천', 'no2Flag': None, 'no2Grade': '1', 'o3Flag': None, 'pm25Grade': '2', 'so2Flag': None, 'dataTime': '2023-04-18 02:00', 'coGrade': '1', 'no2Value': '0.021', 'stationName': '부평역', 'pm10Grade': '3', 'o3Value': '0.044'}, {'so2Grade': '1', 'coFlag': None, 'khaiValue': '155', 'so2Value': '0.004', 'coValue': '0.8', 'pm25Flag': None, 'pm10Flag': None, 'o3Grade': '1', 'pm10Value': '99', 'khaiGrade': '3', 'pm25Value': '33', 'sidoName': '인천', 'no2Flag': None, 'no2Grade': '1', 'o3Flag': None, 'pm25Grade': '2', 'so2Flag': None, 'dataTime': '2023-04-18 02:00', 'coGrade': '1', 'no2Value': '0.027', 'stationName': '남동', 'pm10Grade': '3', 'o3Value': '0.029'}, {'so2Grade': '1', 'coFlag': None, 'khaiValue': '129', 'so2Value': '0.003', 'coValue': '0.5', 'pm25Flag': None, 'pm10Flag': None, 'o3Grade': '2', 'pm10Value': '88', 'khaiGrade': '3', 'pm25Value': '32', 'sidoName': '인천', 'no2Flag': None, 'no2Grade': '1', 'o3Flag': None, 'pm25Grade': '2', 'so2Flag': None, 'dataTime': '2023-04-18 02:00', 'coGrade': '1', 'no2Value': '0.019', 'stationName': '주안', 'pm10Grade': '3', 'o3Value': '0.042'}, {'so2Grade': '1', 'coFlag': None, 'khaiValue': '103', 'so2Value': '0.003', 'coValue': '0.5', 'pm25Flag': None, 'pm10Flag': None, 'o3Grade': '2', 'pm10Value': '81', 'khaiGrade': '3', 'pm25Value': '30', 'sidoName': '인천', 'no2Flag': None, 'no2Grade': '1', 'o3Flag': None, 'pm25Grade': '2', 'so2Flag': None, 'dataTime': '2023-04-18 02:00', 'coGrade': '1', 'no2Value': '0.018', 'stationName': '부평', 'pm10Grade': '3', 'o3Value': '0.044'}, {'so2Grade': '1', 'coFlag': None, 'khaiValue': '100', 'so2Value': '0.003', 'coValue': '0.4', 'pm25Flag': None, 'pm10Flag': None, 'o3Grade': '2', 'pm10Value': '79', 'khaiGrade': '2', 'pm25Value': '32', 'sidoName': '인천', 'no2Flag': None, 'no2Grade': '1', 'o3Flag': None, 'pm25Grade': '2', 'so2Flag': None, 'dataTime': '2023-04-18 02:00', 'coGrade': '1', 'no2Value': '0.016', 'stationName': '연희', 'pm10Grade': '2', 'o3Value': '0.047'}, {'so2Grade': '1', 'coFlag': None, 'khaiValue': '116', 'so2Value': '0.003', 'coValue': '0.5', 'pm25Flag': None, 'pm10Flag': None, 'o3Grade': '2', 'pm10Value': '95', 'khaiGrade': '3', 'pm25Value': '39', 'sidoName': '인천', 'no2Flag': None, 'no2Grade': '1', 'o3Flag': None, 'pm25Grade': '2', 'so2Flag': None, 'dataTime': '2023-04-18 03:00', 'coGrade': '1', 'no2Value': '0.018', 'stationName': '검단', 'pm10Grade': '3', 'o3Value': '0.039'}, {'so2Grade': '1', 'coFlag': None, 'khaiValue': '123', 'so2Value': '0.003', 'coValue': '0.5', 'pm25Flag': None, 'pm10Flag': None, 'o3Grade': '2', 'pm10Value': '95', 'khaiGrade': '3', 'pm25Value': '33', 'sidoName': '인천', 'no2Flag': None, 'no2Grade': '1', 'o3Flag': None, 'pm25Grade': '2', 'so2Flag': None, 'dataTime': '2023-04-18 03:00', 'coGrade': '1', 'no2Value': '0.023', 'stationName': '중봉', 'pm10Grade': '3', 'o3Value': '0.035'}, {'so2Grade': '1', 'coFlag': None, 'khaiValue': '125', 'so2Value': '0.003', 'coValue': '0.4', 'pm25Flag': None, 'pm10Flag': None, 'o3Grade': '2', 'pm10Value': '82', 'khaiGrade': '3', 'pm25Value': '29', 'sidoName': '인천', 'no2Flag': None, 'no2Grade': '1', 'o3Flag': None, 'pm25Grade': '2', 'so2Flag': None, 'dataTime': '2023-04-18 03:00', 'coGrade': '1', 'no2Value': '0.017', 'stationName': '계산', 'pm10Grade': '3', 'o3Value': '0.037'}, {'so2Grade': '1', 'coFlag': None, 'khaiValue': '105', 'so2Value': '0.003', 'coValue': '0.4', 'pm25Flag': None, 'pm10Flag': None, 'o3Grade': '2', 'pm10Value': '84', 'khaiGrade': '3', 'pm25Value': '25', 'sidoName': '인천', 'no2Flag': None, 'no2Grade': '1', 'o3Flag': None, 'pm25Grade': '2', 'so2Flag': None, 'dataTime': '2023-04-18 02:00', 'coGrade': '1', 'no2Value': '0.017', 'stationName': '효성', 'pm10Grade': '3', 'o3Value': '0.040'}, {'so2Grade': '1', 'coFlag': None, 'khaiValue': '136', 'so2Value': '0.004', 'coValue': '0.5', 'pm25Flag': None, 'pm10Flag': None, 'o3Grade': '2', 'pm10Value': '90', 'khaiGrade': '3', 'pm25Value': '34', 'sidoName': '인천', 'no2Flag': None, 'no2Grade': '1', 'o3Flag': None, 'pm25Grade': '2', 'so2Flag': None, 'dataTime': '2023-04-18 03:00', 'coGrade': '1', 'no2Value': '0.022', 'stationName': '고잔', 'pm10Grade': '3', 'o3Value': '0.040'}, {'so2Grade': '1', 'coFlag': None, 'khaiValue': '114', 'so2Value': '0.003', 'coValue': '0.4', 'pm25Flag': None, 'pm10Flag': None, 'o3Grade': '2', 'pm10Value': '90', 'khaiGrade': '3', 'pm25Value': '33', 'sidoName': '인천', 'no2Flag': None, 'no2Grade': '1', 'o3Flag': None, 'pm25Grade': '2', 'so2Flag': None, 'dataTime': '2023-04-18 02:00', 'coGrade': '1', 'no2Value': '0.021', 'stationName': '서창', 'pm10Grade': '3', 'o3Value': '0.033'}, {'so2Grade': '1', 'coFlag': None, 'khaiValue': '127', 'so2Value': '0.003', 'coValue': '0.5', 'pm25Flag': None, 'pm10Flag': None, 'o3Grade': '2', 'pm10Value': '92', 'khaiGrade': '3', 'pm25Value': '28', 'sidoName': '인천', 'no2Flag': None, 'no2Grade': '1', 'o3Flag': None, 'pm25Grade': '2', 'so2Flag': None, 'dataTime': '2023-04-18 02:00', 'coGrade': '1', 'no2Value': '0.018', 'stationName': '석남', 'pm10Grade': '3', 'o3Value': '0.048'}, {'so2Grade': '1', 'coFlag': None, 'khaiValue': '116', 'so2Value': '0.003', 'coValue': '0.4', 'pm25Flag': None, 'pm10Flag': None, 'o3Grade': '2', 'pm10Value': '86', 'khaiGrade': '3', 'pm25Value': '34', 'sidoName': '인천', 'no2Flag': None, 'no2Grade': '1', 'o3Flag': None, 'pm25Grade': '2', 'so2Flag': None, 'dataTime': '2023-04-18 03:00', 'coGrade': '1', 'no2Value': '0.010', 'stationName': '송해', 'pm10Grade': '3', 'o3Value': '0.040'}, {'so2Grade': '1', 'coFlag': None, 'khaiValue': '110', 'so2Value': '0.003', 'coValue': '0.5', 'pm25Flag': None, 'pm10Flag': None, 'o3Grade': '2', 'pm10Value': '85', 'khaiGrade': '3', 'pm25Value': '32', 'sidoName': '인천', 'no2Flag': None, 'no2Grade': '1', 'o3Flag': None, 'pm25Grade': '2', 'so2Flag': None, 'dataTime': '2023-04-18 02:00', 'coGrade': '1', 'no2Value': '0.019', 'stationName': '동춘', 'pm10Grade': '3', 'o3Value': '0.043'}, {'so2Grade': '1', 'coFlag': None, 'khaiValue': '103', 'so2Value': '0.002', 'coValue': '0.5', 'pm25Flag': None, 'pm10Flag': None, 'o3Grade': '1', 'pm10Value': '97', 'khaiGrade': '3', 'pm25Value': '36', 'sidoName': '인천', 'no2Flag': None, 'no2Grade': '1', 'o3Flag': None, 'pm25Grade': '2', 'so2Flag': None, 'dataTime': '2023-04-18 02:00', 'coGrade': '1', 'no2Value': '0.019', 'stationName': '운서', 'pm10Grade': '3', 'o3Value': '0.029'}, {'so2Grade': '1', 'coFlag': None, 'khaiValue': '112', 'so2Value': '0.004', 'coValue': '0.4', 'pm25Flag': None, 'pm10Flag': None, 'o3Grade': '2', 'pm10Value': '84', 'khaiGrade': '3', 'pm25Value': '29', 'sidoName': '인천', 'no2Flag': None, 'no2Grade': '1', 'o3Flag': None, 'pm25Grade': '2', 'so2Flag': None, 'dataTime': '2023-04-18 02:00', 'coGrade': '1', 'no2Value': '0.025', 'stationName': '송현', 'pm10Grade': '3', 'o3Value': '0.037'}, {'so2Grade': '1', 'coFlag': None, 'khaiValue': '99', 'so2Value': '0.003', 'coValue': '0.5', 'pm25Flag': None, 'pm10Flag': None, 'o3Grade': '2', 'pm10Value': '76', 'khaiGrade': '2', 'pm25Value': '33', 'sidoName': '인천', 'no2Flag': None, 'no2Grade': '1', 'o3Flag': None, 'pm25Grade': '2', 'so2Flag': None, 'dataTime': '2023-04-18 02:00', 'coGrade': '1', 'no2Value': '0.026', 'stationName': '논현', 'pm10Grade': '2', 'o3Value': '0.037'}, {'so2Grade': '1', 'coFlag': None, 'khaiValue': '105', 'so2Value': '0.004', 'coValue': '0.5', 'pm25Flag': None, 'pm10Flag': None, 'o3Grade': '2', 'pm10Value': '96', 'khaiGrade': '3', 'pm25Value': '32', 'sidoName': '인천', 'no2Flag': None, 'no2Grade': '1', 'o3Flag': None, 'pm25Grade': '2', 'so2Flag': None, 'dataTime': '2023-04-18 02:00', 'coGrade': '1', 'no2Value': '0.014', 'stationName': '청라', 'pm10Grade': '3', 'o3Value': '0.048'}, {'so2Grade': '1', 'coFlag': None, 'khaiValue': '127', 'so2Value': '0.004', 'coValue': '0.5', 'pm25Flag': None, 'pm10Flag': None, 'o3Grade': '2', 'pm10Value': '97', 'khaiGrade': '3', 'pm25Value': '30', 'sidoName': '인천', 'no2Flag': None, 'no2Grade': '1', 'o3Flag': None, 'pm25Grade': '2', 'so2Flag': None, 'dataTime': '2023-04-18 02:00', 'coGrade': '1', 'no2Value': '0.016', 'stationName': '송도', 'pm10Grade': '3', 'o3Value': '0.042'}, {'so2Grade': '1', 'coFlag': None, 'khaiValue': '136', 'so2Value': '0.003', 'coValue': '0.4', 'pm25Flag': None, 'pm10Flag': None, 'o3Grade': '2', 'pm10Value': '100', 'khaiGrade': '3', 'pm25Value': '32', 'sidoName': '인천', 'no2Flag': None, 'no2Grade': '1', 'o3Flag': None, 'pm25Grade': '2', 'so2Flag': None, 'dataTime': '2023-04-18 02:00', 'coGrade': '1', 'no2Value': '0.019', 'stationName': '아암', 'pm10Grade': '3', 'o3Value': '0.045'}, {'so2Grade': '1', 'coFlag': None, 'khaiValue': '107', 'so2Value': '0.003', 'coValue': '0.5', 'pm25Flag': None, 'pm10Flag': None, 'o3Grade': '2', 'pm10Value': '91', 'khaiGrade': '3', 'pm25Value': '25', 'sidoName': '인천', 'no2Flag': None, 'no2Grade': '1', 'o3Flag': None, 'pm25Grade': '2', 'so2Flag': None, 'dataTime': '2023-04-18 02:00', 'coGrade': '1', 'no2Value': '0.019', 'stationName': '원당', 'pm10Grade': '3', 'o3Value': '0.039'}, {'so2Grade': '1', 'coFlag': None, 'khaiValue': '101', 'so2Value': '0.003', 'coValue': '0.5', 'pm25Flag': None, 'pm10Flag': None, 'o3Grade': '2', 'pm10Value': '89', 'khaiGrade': '3', 'pm25Value': '35', 'sidoName': '인천', 'no2Flag': None, 'no2Grade': '1', 'o3Flag': None, 'pm25Grade': '2', 'so2Flag': None, 'dataTime': '2023-04-18 03:00', 'coGrade': '1', 'no2Value': '0.010', 'stationName': '길상', 'pm10Grade': '3', 'o3Value': '0.036'}, {'so2Grade': '1', 'coFlag': None, 'khaiValue': '101', 'so2Value': '0.003', 'coValue': '0.5', 'pm25Flag': None, 'pm10Flag': None, 'o3Grade': '2', 'pm10Value': '87', 'khaiGrade': '3', 'pm25Value': '35', 'sidoName': '인천', 'no2Flag': None, 'no2Grade': '1', 'o3Flag': None, 'pm25Grade': '2', 'so2Flag': None, 'dataTime': '2023-04-18 02:00', 'coGrade': '1', 'no2Value': '0.019', 'stationName': '삼산', 'pm10Grade': '3', 'o3Value': '0.039'}, {'so2Grade': '1', 'coFlag': None, 'khaiValue': '96', 'so2Value': '0.003', 'coValue': '0.4', 'pm25Flag': None, 'pm10Flag': None, 'o3Grade': '2', 'pm10Value': '84', 'khaiGrade': '2', 'pm25Value': '22', 'sidoName': '인천', 'no2Flag': None, 'no2Grade': '1', 'o3Flag': None, 'pm25Grade': '2', 'so2Flag': None, 'dataTime': '2023-04-18 02:00', 'coGrade': '1', 'no2Value': '0.026', 'stationName': '경인항', 'pm10Grade': '2', 'o3Value': '0.033'}, {'so2Grade': '1', 'coFlag': None, 'khaiValue': '155', 'so2Value': '0.002', 'coValue': '0.3', 'pm25Flag': None, 'pm10Flag': None, 'o3Grade': '2', 'pm10Value': '95', 'khaiGrade': '3', 'pm25Value': '27', 'sidoName': '인천', 'no2Flag': None, 'no2Grade': '1', 'o3Flag': None, 'pm25Grade': '2', 'so2Flag': None, 'dataTime': '2023-04-18 02:00', 'coGrade': '1', 'no2Value': '0.030', 'stationName': '인천항', 'pm10Grade': '3', 'o3Value': '0.036'}, {'so2Grade': '1', 'coFlag': None, 'khaiValue': '91', 'so2Value': '0.002', 'coValue': '0.4', 'pm25Flag': '통신장애', 'pm10Flag': None, 'o3Grade': '2', 'pm10Value': '78', 'khaiGrade': '2', 'pm25Value': '-', 'sidoName': '인천', 'no2Flag': None, 'no2Grade': '1', 'o3Flag': None, 'pm25Grade': '2', 'so2Flag': None, 'dataTime': '2023-04-18 03:00', 'coGrade': '1', 'no2Value': '0.017', 'stationName': '인천 신항', 'pm10Grade': '2', 'o3Value': '0.036'}, {'so2Grade': '1', 'coFlag': None, 'khaiValue': '99', 'so2Value': '0.003', 'coValue': '0.4', 'pm25Flag': None, 'pm10Flag': None, 'o3Grade': '1', 'pm10Value': '83', 'khaiGrade': '2', 'pm25Value': '27', 'sidoName': '인천', 'no2Flag': None, 'no2Grade': '1', 'o3Flag': None, 'pm25Grade': '2', 'so2Flag': None, 'dataTime': '2023-04-18 02:00', 'coGrade': '1', 'no2Value': '0.022', 'stationName': '인천 북항', 'pm10Grade': '2', 'o3Value': '0.030'}, {'so2Grade': '1', 'coFlag': None, 'khaiValue': '118', 'so2Value': '0.003', 'coValue': '0.4', 'pm25Flag': '통신장애', 'pm10Flag': None, 'o3Grade': '2', 'pm10Value': '89', 'khaiGrade': '3', 'pm25Value': '-', 'sidoName': '인천', 'no2Flag': None, 'no2Grade': '1', 'o3Flag': None, 'pm25Grade': '2', 'so2Flag': None, 'dataTime': '2023-04-18 03:00', 'coGrade': '1', 'no2Value': '0.023', 'stationName': '인천 남항', 'pm10Grade': '3', 'o3Value': '0.035'}, {'so2Grade': '1', 'coFlag': None, 'khaiValue': '97', 'so2Value': '0.002', 'coValue': '0.5', 'pm25Flag': None, 'pm10Flag': None, 'o3Grade': '1', 'pm10Value': '89', 'khaiGrade': '2', 'pm25Value': '40', 'sidoName': '인천', 'no2Flag': None, 'no2Grade': '1', 'o3Flag': None, 'pm25Grade': '2', 'so2Flag': None, 'dataTime': '2023-04-18 02:00', 'coGrade': '1', 'no2Value': '0.009', 'stationName': '석모리', 'pm10Grade': '2', 'o3Value': '0.029'}, {'so2Grade': '1', 'coFlag': None, 'khaiValue': '112', 'so2Value': '0.004', 'coValue': '0.3', 'pm25Flag': None, 'pm10Flag': None, 'o3Grade': '1', 'pm10Value': '114', 'khaiGrade': '3', 'pm25Value': '43', 'sidoName': '인천', 'no2Flag': None, 'no2Grade': '1', 'o3Flag': None, 'pm25Grade': '2', 'so2Flag': None, 'dataTime': '2023-04-18 02:00', 'coGrade': '1', 'no2Value': '0.030', 'stationName': '덕적도', 'pm10Grade': '3', 'o3Value': '0.026'}, {'so2Grade': '1', 'coFlag': None, 'khaiValue': '100', 'so2Value': '0.002', 'coValue': '0.4', 'pm25Flag': '통신장애', 'pm10Flag': None, 'o3Grade': '2', 'pm10Value': '92', 'khaiGrade': '2', 'pm25Value': '-', 'sidoName': '인천', 'no2Flag': None, 'no2Grade': '1', 'o3Flag': None, 'pm25Grade': '2', 'so2Flag': None, 'dataTime': '2023-04-18 03:00', 'coGrade': '1', 'no2Value': '0.007', 'stationName': '백령도', 'pm10Grade': '2', 'o3Value': '0.054'}, {'so2Grade': '1', 'coFlag': None, 'khaiValue': '116', 'so2Value': '0.003', 'coValue': '0.4', 'pm25Flag': None, 'pm10Flag': None, 'o3Grade': '2', 'pm10Value': '102', 'khaiGrade': '3', 'pm25Value': '37', 'sidoName': '인천', 'no2Flag': None, 'no2Grade': '1', 'o3Flag': None, 'pm25Grade': '2', 'so2Flag': None, 'dataTime': '2023-04-18 03:00', 'coGrade': '1', 'no2Value': '0.017', 'stationName': '영흥', 'pm10Grade': '3', 'o3Value': '0.036'}, {'so2Grade': '1', 'coFlag': None, 'khaiValue': '84', 'so2Value': '0.002', 'coValue': '0.4', 'pm25Flag': None, 'pm10Flag': None, 'o3Grade': '2', 'pm10Value': '73', 'khaiGrade': '2', 'pm25Value': '34', 'sidoName': '인천', 'no2Flag': None, 'no2Grade': '1', 'o3Flag': None, 'pm25Grade': '2', 'so2Flag': None, 'dataTime': '2023-04-18 03:00', 'coGrade': '1', 'no2Value': '0.010', 'stationName': '연평도', 'pm10Grade': '2', 'o3Value': '0.048'}, {'so2Grade': '1', 'coFlag': None, 'khaiValue': '116', 'so2Value': '0.004', 'coValue': '0.5', 'pm25Flag': '통신장애', 'pm10Flag': None, 'o3Grade': '1', 'pm10Value': '105', 'khaiGrade': '3', 'pm25Value': '-', 'sidoName': '인천', 'no2Flag': None, 'no2Grade': '1', 'o3Flag': None, 'pm25Grade': '2', 'so2Flag': None, 'dataTime': '2023-04-18 03:00', 'coGrade': '1', 'no2Value': '0.026', 'stationName': '울도', 'pm10Grade': '3', 'o3Value': '0.029'}]\n"
     ]
    }
   ],
   "source": [
    "dust_url = \"http://apis.data.go.kr/B552584/ArpltnInforInqireSvc/getCtprvnRltmMesureDnsty?\"\n",
    "\n",
    "service_key = \"aIsRditBsUScVGImZFHmF9Ks8mcHAdsVw1Pt6dqB1Eoum2lh0CBnDUX3lDb0S608y61RBcdJTKwLKH%2Ft%2BXVlrg%3D%3D\"\n",
    "\n",
    "sidoName = \"인천\"\n",
    "\n",
    "payload = \"serviceKey=\" + service_key + \"&\" +\\\n",
    "    \"returnType=json\" + \"&\" +\\\n",
    "    \"numOfRows=100\" + \"&\" +\\\n",
    "    \"pageNo=1\" + \"&\" +\\\n",
    "    \"sidoName=인천\" + \"&\" +\\\n",
    "    \"ver=1.0\"\n",
    "\n",
    "res = requests.get(dust_url + payload) \n",
    "\n",
    "try:\n",
    "    items = res.json().get('response').get('body').get('items')\n",
    "    print(items)\n",
    "except:\n",
    "    print(\"날씨 정보 요청 실패 : \", res.text)"
   ]
  },
  {
   "cell_type": "code",
   "execution_count": 9,
   "metadata": {},
   "outputs": [
    {
     "name": "stdout",
     "output_type": "stream",
     "text": [
      "{'PM10': {'value': 89}, 'PM2.5': {'value': 23}}\n"
     ]
    }
   ],
   "source": [
    "result = res.json()\n",
    "dust = dict()\n",
    "\n",
    "if (res.status_code == 200) & (result['response']['header']['resultCode'] == '00'):\n",
    "    dust['PM10'] = {'value' : int(result['response']['body']['items'][0]['pm10Value'])}\n",
    "    dust['PM2.5'] = {'value' : int(result['response']['body']['items'][0]['pm25Value'])}\n",
    "else:\n",
    "    print(\"미세먼지 가져오기 실패 : \", result['response']['header']['resultMsg'])\n",
    "\n",
    "print(dust)"
   ]
  }
 ],
 "metadata": {
  "kernelspec": {
   "display_name": "Python 3.11.1 64-bit",
   "language": "python",
   "name": "python3"
  },
  "language_info": {
   "codemirror_mode": {
    "name": "ipython",
    "version": 3
   },
   "file_extension": ".py",
   "mimetype": "text/x-python",
   "name": "python",
   "nbconvert_exporter": "python",
   "pygments_lexer": "ipython3",
   "version": "3.11.1"
  },
  "orig_nbformat": 4,
  "vscode": {
   "interpreter": {
    "hash": "81eef19b52451e11e3f8bf6bc518dd5f147d5a651198624c9c211c83ec7c4923"
   }
  }
 },
 "nbformat": 4,
 "nbformat_minor": 2
}
