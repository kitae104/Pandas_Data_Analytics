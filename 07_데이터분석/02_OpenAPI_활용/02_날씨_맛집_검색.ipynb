{
 "cells": [
  {
   "cell_type": "markdown",
   "metadata": {},
   "source": [
    "### OpenAPI 활용 - 날씨 정보를 사용한 맛집 추천 프로젝트"
   ]
  },
  {
   "cell_type": "code",
   "execution_count": 1,
   "metadata": {},
   "outputs": [],
   "source": [
    "import requests\n",
    "import json\n",
    "import datetime"
   ]
  },
  {
   "cell_type": "markdown",
   "metadata": {},
   "source": [
    "### 날씨 정보 가져오기"
   ]
  },
  {
   "cell_type": "code",
   "execution_count": 2,
   "metadata": {},
   "outputs": [
    {
     "name": "stdout",
     "output_type": "stream",
     "text": [
      "2023-04-18 03:03:29.540865\n",
      "20230417\n",
      "{'date': '20230417'}\n",
      "{'tmp': '13', 'code': '0', 'state': '없음'}\n",
      "{'date': '20230417', 'weather': {'tmp': '13', 'code': '0', 'state': '없음'}}\n"
     ]
    }
   ],
   "source": [
    "vilage_weather_url = \"http://apis.data.go.kr/1360000/VilageFcstInfoService_2.0/getVilageFcst?\"\n",
    "\n",
    "service_key = \"aIsRditBsUScVGImZFHmF9Ks8mcHAdsVw1Pt6dqB1Eoum2lh0CBnDUX3lDb0S608y61RBcdJTKwLKH%2Ft%2BXVlrg%3D%3D\"\n",
    "\n",
    "today = datetime.datetime.today()\n",
    "print(today)\n",
    "base_date = \"20230417\" #today.strftime(\"%Y%m%d\") # \"20200214\" == 기준 날짜\n",
    "print(base_date)\n",
    "base_time = \"2300\" # 날씨 값\n",
    "\n",
    "# 인천 구월동  \n",
    "nx = \"55\"\n",
    "ny = \"124\"\n",
    "\n",
    "payload = \"serviceKey=\" + service_key + \"&\" +\\\n",
    "    \"dataType=json\" + \"&\" +\\\n",
    "    \"base_date=\" + base_date + \"&\" +\\\n",
    "    \"base_time=\" + base_time + \"&\" +\\\n",
    "    \"nx=\" + nx + \"&\" +\\\n",
    "    \"ny=\" + ny\n",
    "\n",
    "pty_code = { \"0\": \"없음\", \"1\" : \"비\", \"2\" : \"비/눈\", \"3\":\"눈\", \"4\":\"소나기\", \"5\":\"빗방울\", \"6\":\"빗방울/눈날림\", \"7\":\"눈날림\"}\n",
    "\n",
    "data = dict()\n",
    "data['date'] = base_date\n",
    "print(data)\n",
    "weather = dict()\n",
    "\n",
    "# 값 요청\n",
    "res = requests.get(vilage_weather_url + payload)\n",
    "try:\n",
    "    items = res.json().get('response').get('body').get('items')\n",
    "    \n",
    "    for item in items['item']:\n",
    "        # 기온\n",
    "        if item['category'] == 'TMP':\n",
    "            weather['tmp'] = item['fcstValue']\n",
    "\n",
    "        # 강수상태\n",
    "        if item['category'] == 'PTY':\n",
    "            weather['code'] = item['fcstValue']\n",
    "            weather['state'] = pty_code[item['fcstValue']]\n",
    "except:\n",
    "    print(\"날씨 정보 가져오기 실패 : \", res.text)\n",
    "\n",
    "data['weather'] = weather\n",
    "print(data['weather'])\n",
    "print(data)"
   ]
  },
  {
   "cell_type": "markdown",
   "metadata": {},
   "source": [
    "### 미세 먼지 정보 가져오기"
   ]
  },
  {
   "cell_type": "code",
   "execution_count": 3,
   "metadata": {},
   "outputs": [],
   "source": [
    "def get_pm10_state(pm10_value):\n",
    "    if pm10_value < 30:\n",
    "        pm10_state = \"좋음\"\n",
    "    elif pm10_value < 80:\n",
    "        pm10_state = \"보통\"\n",
    "    elif pm10_value < 150:\n",
    "        pm10_state = \"나쁨\"\n",
    "    else:\n",
    "        pm10_state = \"매우 나쁨\"\n",
    "\n",
    "    return pm10_state\n",
    "\n",
    "def get_pm25_state(pm25_value):\n",
    "    if pm25_value < 15:\n",
    "        pm25_state = \"좋음\"\n",
    "    elif pm25_value < 35:\n",
    "        pm25_state = \"보통\"\n",
    "    elif pm25_value < 75:\n",
    "        pm25_state = \"나쁨\"\n",
    "    else:\n",
    "        pm25_state = \"매우 나쁨\"\n",
    "\n",
    "    return pm25_state"
   ]
  },
  {
   "cell_type": "code",
   "execution_count": 4,
   "metadata": {},
   "outputs": [
    {
     "name": "stdout",
     "output_type": "stream",
     "text": [
      "{'PM10': {'value': 89, 'state': '나쁨'}, 'PM2.5': {'value': 23, 'state': '보통'}}\n"
     ]
    }
   ],
   "source": [
    "dust_url = \"http://apis.data.go.kr/B552584/ArpltnInforInqireSvc/getCtprvnRltmMesureDnsty?\"\n",
    "\n",
    "service_key = \"aIsRditBsUScVGImZFHmF9Ks8mcHAdsVw1Pt6dqB1Eoum2lh0CBnDUX3lDb0S608y61RBcdJTKwLKH%2Ft%2BXVlrg%3D%3D\"\n",
    "\n",
    "sidoName = \"인천\"\n",
    "\n",
    "payload = \"serviceKey=\" + service_key + \"&\" +\\\n",
    "    \"returnType=json\" + \"&\" +\\\n",
    "    \"numOfRows=100\" + \"&\" +\\\n",
    "    \"pageNo=1\" + \"&\" +\\\n",
    "    \"sidoName=인천\" + \"&\" +\\\n",
    "    \"ver=1.0\"\n",
    "\n",
    "# pm10 pm2.5 수치 가져오기\n",
    "res = requests.get(dust_url + payload)\n",
    "result = res.json()\n",
    "dust = dict()\n",
    "if (res.status_code == 200) & (result['response']['header']['resultCode'] == '00'):\n",
    "    dust['PM10'] = {'value' : int(result['response']['body']['items'][0]['pm10Value'])}\n",
    "    dust['PM2.5'] = {'value' : int(result['response']['body']['items'][0]['pm25Value'])}\n",
    "    # PM10 미세먼지 30 80 150\n",
    "    pm10_value = dust.get('PM10').get('value')\n",
    "    pm10_state = get_pm10_state(pm10_value)\n",
    "\n",
    "    # PM2.5 초미세먼지 15 35 75\n",
    "    pm25_value = dust.get('PM2.5').get('value')\n",
    "    pm25_state = get_pm25_state(pm25_value)\n",
    "\n",
    "    dust.get('PM10')['state'] = pm10_state\n",
    "    dust.get('PM2.5')['state'] = pm25_state\n",
    "else:\n",
    "    print(\"미세먼지 가져오기 실패 : \", result['response']['header']['resultMsg'])\n",
    "\n",
    "data['dust'] = dust\n",
    "print(data['dust'])\n"
   ]
  },
  {
   "cell_type": "markdown",
   "metadata": {},
   "source": [
    "### 날씨에 따른 음식 데이터 구하기 "
   ]
  },
  {
   "cell_type": "code",
   "execution_count": 5,
   "metadata": {},
   "outputs": [],
   "source": [
    "import random # 랜덤하게 음식 리스트 뽑기\n",
    "\n",
    "rain_foods = \"부대찌개,아구찜,해물탕,칼국수,수제비,짬뽕,우동,치킨,국밥,김치부침개,두부김치,파전\".split(',')\n",
    "pmhigh_foods = \"콩나물국밥,고등어,굴,쌀국수,마라탕\".split(',')\n",
    "\n",
    "def get_foods_list(weather,dust_pm10, dust_pm20):\n",
    "    if weather != '0':\n",
    "        recommand_state = 'Case1'\n",
    "        # random.sample(x, k=len(x)) 무작위로 리스트 섞기\n",
    "        foods_list = random.sample(rain_foods, k=len(rain_foods))\n",
    "    elif dust_pm10 == '매우나쁨' or dust_pm20 == '매우나쁨' :\n",
    "        recommand_state = 'Case2'\n",
    "        foods_list = random.sample(pmhigh_foods, k=len(pmhigh_foods))\n",
    "    else:\n",
    "        recommand_state = 'Case3'\n",
    "        foods_list = ['']\n",
    "    \n",
    "    return recommand_state, foods_list"
   ]
  },
  {
   "cell_type": "code",
   "execution_count": 6,
   "metadata": {},
   "outputs": [
    {
     "name": "stdout",
     "output_type": "stream",
     "text": [
      "Case3\n",
      "['']\n"
     ]
    }
   ],
   "source": [
    "weather = data.get('weather').get('code')\n",
    "dust_pm10 = data.get('dust').get('PM10').get(\"state\")\n",
    "dust_pm20 = data.get('dust').get('PM2.5').get(\"state\")\n",
    "\n",
    "a, b = get_foods_list(weather,dust_pm10, dust_pm20)\n",
    "print(a)\n",
    "print(b)"
   ]
  },
  {
   "cell_type": "markdown",
   "metadata": {},
   "source": [
    "### 네이버 맛집 검색"
   ]
  },
  {
   "cell_type": "code",
   "execution_count": 7,
   "metadata": {},
   "outputs": [],
   "source": [
    "def naver_local_search(query, display):\n",
    "    # 네이버 애플리케이션의 client_id와 client_secret 키 설정\n",
    "    headers = {\n",
    "        \"X-Naver-Client-Id\" : \"SNA8wBH7IeZOY6d2Xz68\",\n",
    "        \"X-Naver-Client-Secret\" : \"gpAXis8weS\"\n",
    "    }\n",
    "\n",
    "    # 지역 검색 요청 파라미터 설정\n",
    "    params = {\n",
    "        \"sort\" : \"comment\",\n",
    "        \"query\" : query,\n",
    "        \"display\" : display\n",
    "    }\n",
    "\n",
    "    # 지역 검색 URL과 요청 파라미터\n",
    "    naver_local_url = \"https://openapi.naver.com/v1/search/local.json\"\n",
    "\n",
    "    # 지역 검색 요청\n",
    "    res = requests.get(naver_local_url, headers=headers, params=params)\n",
    "\n",
    "    # 지역 검색 결과 확인\n",
    "    places = res.json().get('items')\n",
    "\n",
    "    return places"
   ]
  },
  {
   "cell_type": "code",
   "execution_count": 8,
   "metadata": {},
   "outputs": [
    {
     "name": "stdout",
     "output_type": "stream",
     "text": [
      "Case3\n",
      "['']\n",
      "[{'title': '그라나다 구월점', 'link': 'http://instagram.com/guwol_granada032', 'category': '음식점>양식', 'description': '', 'telephone': '', 'address': '인천광역시 남동구 구월동 1173-14 1층', 'roadAddress': '인천광역시 남동구 성말로32번길 26 1층', 'mapx': '285514', 'mapy': '538794'}, {'title': '동두천솥뚜껑삼겹살 구월점', 'link': '', 'category': '음식점>한식>육류,고기요리>돼지고기구이', 'description': '', 'telephone': '', 'address': '인천광역시 남동구 구월동 1468-1 신현프라자 1층', 'roadAddress': '인천광역시 남동구 인하로 497-9 신현프라자 1층', 'mapx': '285315', 'mapy': '538790'}, {'title': '와규몽', 'link': 'https://www.instagram.com/woois9101', 'category': '한식>소고기구이', 'description': '', 'telephone': '', 'address': '인천광역시 남동구 구월동 1537-1 301호, 302호', 'roadAddress': '인천광역시 남동구 선수촌공원로23번길 10-22 301호, 302호', 'mapx': '285961', 'mapy': '538575'}]\n"
     ]
    }
   ],
   "source": [
    "# 경우 1 : 비/눈/소나기 => 비오는날 음식 3개 추천\n",
    "# 경우 2 : 초/미세먼지 나쁨 이상 => 미세먼지에 좋은 음식 3개 추천\n",
    "# 경우 3 : 정상 => 블로그 리뷰 순 맛집 추천\n",
    "weather = data.get('weather').get('code')\n",
    "dust_pm10 = data.get('dust').get('PM10').get(\"state\")\n",
    "dust_pm20 = data.get('dust').get('PM2.5').get(\"state\")\n",
    "\n",
    "# 날씨 상태와 음식 종류 선정\n",
    "weather_state, foods_list = get_foods_list(weather, dust_pm10, dust_pm20)\n",
    "print(weather_state)\n",
    "print(foods_list)\n",
    "\n",
    "# 위치는 사용자가 사용할 지역으로 변경 가능\n",
    "location = \"구월동\"\n",
    "\n",
    "# 추천된 맛집을 담을 리스트\n",
    "recommands = []\n",
    "for food in foods_list:\n",
    "    # 지역 검색 요청 파라미터 설정\n",
    "    # 만약, 날씨가 맑은 경우, food가 ''이므로, '문래동 맛집'이 된다.\n",
    "    query= location + \" \" + food + \" 맛집\"\n",
    "\n",
    "    # 맛집 검색 결과\n",
    "    result_list = naver_local_search(query, 3)\n",
    "\n",
    "    if len(result_list) > 0:\n",
    "        if weather_state == 'Case3': # Case3 처리 로직 : 맛집 검색 결과에서 가장 상위 3개를 가져옴\n",
    "            recommands = result_list\n",
    "            break\n",
    "        else: # Case1, Case2 처리 로직 : 해당 음식 검색 결과에서 가장 상위를 가져옴\n",
    "            recommands.append(result_list[0])\n",
    "    else:\n",
    "        print(\"검색 결과 없음\") # 메뉴에 해당하는 맛집이 없을 수 있음\n",
    "\n",
    "    if len(recommands) == 3:\n",
    "        break\n",
    "\n",
    "print(recommands)\n"
   ]
  },
  {
   "cell_type": "code",
   "execution_count": 9,
   "metadata": {},
   "outputs": [
    {
     "name": "stdout",
     "output_type": "stream",
     "text": [
      "3\n"
     ]
    }
   ],
   "source": [
    "print(len(recommands))"
   ]
  },
  {
   "cell_type": "code",
   "execution_count": 10,
   "metadata": {},
   "outputs": [
    {
     "name": "stdout",
     "output_type": "stream",
     "text": [
      "이름 : 그라나다 구월점\n",
      "링크 : http://instagram.com/guwol_granada032\n",
      "종류 : 음식점>양식\n",
      "주소 : 인천광역시 남동구 구월동 1173-14 1층\n",
      "\n",
      "이름 : 동두천솥뚜껑삼겹살 구월점\n",
      "링크 : \n",
      "종류 : 음식점>한식>육류,고기요리>돼지고기구이\n",
      "주소 : 인천광역시 남동구 구월동 1468-1 신현프라자 1층\n",
      "\n",
      "이름 : 와규몽\n",
      "링크 : https://www.instagram.com/woois9101\n",
      "종류 : 한식>소고기구이\n",
      "주소 : 인천광역시 남동구 구월동 1537-1 301호, 302호\n",
      "\n"
     ]
    }
   ],
   "source": [
    "for recommand in recommands:\n",
    "    print(\"이름 :\", recommand.get('title'))\n",
    "    print(\"링크 :\", recommand.get('link'))\n",
    "    print(\"종류 :\", recommand.get('category'))\n",
    "    print(\"주소 :\", recommand.get('address'))\n",
    "    print()"
   ]
  }
 ],
 "metadata": {
  "kernelspec": {
   "display_name": "Python 3.11.1 64-bit",
   "language": "python",
   "name": "python3"
  },
  "language_info": {
   "codemirror_mode": {
    "name": "ipython",
    "version": 3
   },
   "file_extension": ".py",
   "mimetype": "text/x-python",
   "name": "python",
   "nbconvert_exporter": "python",
   "pygments_lexer": "ipython3",
   "version": "3.11.1"
  },
  "orig_nbformat": 4,
  "vscode": {
   "interpreter": {
    "hash": "81eef19b52451e11e3f8bf6bc518dd5f147d5a651198624c9c211c83ec7c4923"
   }
  }
 },
 "nbformat": 4,
 "nbformat_minor": 2
}
