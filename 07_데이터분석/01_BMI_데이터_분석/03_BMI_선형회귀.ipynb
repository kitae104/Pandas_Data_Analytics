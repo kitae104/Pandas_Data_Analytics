{
 "cells": [
  {
   "cell_type": "code",
   "execution_count": 3,
   "metadata": {},
   "outputs": [
    {
     "name": "stdout",
     "output_type": "stream",
     "text": [
      "(26, 5)\n",
      "       구분 성별  키(cm)  몸무게(kg)  검사인원수\n",
      "0    만 6세  남  120.5     24.2   1818\n",
      "1    만 6세  여  119.3     22.9   1649\n",
      "2    만 7세  남  125.7     27.1   2896\n",
      "3    만 7세  여  124.5     25.7   2721\n",
      "4    만 8세  남  131.8     31.4   2959\n",
      "5    만 8세  여  130.2     29.0   2801\n",
      "6    만 9세  남  137.4     35.6   2779\n",
      "7    만 9세  여  136.6     33.1   2602\n",
      "8   만 10세  남  142.7     40.3   2844\n",
      "9   만 10세  여  143.1     38.0   2644\n",
      "10  만 11세  남  149.2     45.9   2919\n",
      "11  만 11세  여  150.1     43.6   2735\n",
      "12  만 12세  남  157.2     52.0   3456\n",
      "13  만 12세  여  155.3     48.4   3189\n",
      "14  만 13세  남  164.0     57.6   3948\n",
      "15  만 13세  여  158.4     52.0   3651\n",
      "16   만14세  남  168.9     62.4   4004\n",
      "17   만14세  여  159.7     53.9   3920\n",
      "18  만 15세  남  171.6     65.4   4525\n",
      "19  만 15세  여  160.3     55.6   4363\n",
      "20  만 16세  남  172.8     68.1   4531\n",
      "21  만 16세  여  160.6     56.8   4587\n",
      "22  만 17세  남  173.5     69.6   4247\n",
      "23  만 17세  여  160.8     57.1   4480\n",
      "24  만 18세  남  173.5     70.0   1296\n",
      "25  만 18세  여  160.7     56.6   1267\n"
     ]
    }
   ],
   "source": [
    "import pandas as pd\n",
    "import numpy as np\n",
    "import matplotlib.pyplot as plt\n",
    "from sklearn.linear_model import LinearRegression\n",
    "\n",
    "# Load data\n",
    "df = pd.read_csv('data/교육부.csv')\n",
    "print(df.shape)\n",
    "print(df)\n"
   ]
  },
  {
   "cell_type": "code",
   "execution_count": 4,
   "metadata": {},
   "outputs": [
    {
     "data": {
      "text/html": [
       "<div>\n",
       "<style scoped>\n",
       "    .dataframe tbody tr th:only-of-type {\n",
       "        vertical-align: middle;\n",
       "    }\n",
       "\n",
       "    .dataframe tbody tr th {\n",
       "        vertical-align: top;\n",
       "    }\n",
       "\n",
       "    .dataframe thead th {\n",
       "        text-align: right;\n",
       "    }\n",
       "</style>\n",
       "<table border=\"1\" class=\"dataframe\">\n",
       "  <thead>\n",
       "    <tr style=\"text-align: right;\">\n",
       "      <th></th>\n",
       "      <th>키(cm)</th>\n",
       "      <th>몸무게(kg)</th>\n",
       "      <th>검사인원수</th>\n",
       "    </tr>\n",
       "  </thead>\n",
       "  <tbody>\n",
       "    <tr>\n",
       "      <th>count</th>\n",
       "      <td>26.000000</td>\n",
       "      <td>26.000000</td>\n",
       "      <td>26.000000</td>\n",
       "    </tr>\n",
       "    <tr>\n",
       "      <th>mean</th>\n",
       "      <td>150.323077</td>\n",
       "      <td>47.011538</td>\n",
       "      <td>3185.807692</td>\n",
       "    </tr>\n",
       "    <tr>\n",
       "      <th>std</th>\n",
       "      <td>17.380663</td>\n",
       "      <td>14.988431</td>\n",
       "      <td>1000.170906</td>\n",
       "    </tr>\n",
       "    <tr>\n",
       "      <th>min</th>\n",
       "      <td>119.300000</td>\n",
       "      <td>22.900000</td>\n",
       "      <td>1267.000000</td>\n",
       "    </tr>\n",
       "    <tr>\n",
       "      <th>25%</th>\n",
       "      <td>136.800000</td>\n",
       "      <td>33.725000</td>\n",
       "      <td>2724.500000</td>\n",
       "    </tr>\n",
       "    <tr>\n",
       "      <th>50%</th>\n",
       "      <td>156.250000</td>\n",
       "      <td>50.200000</td>\n",
       "      <td>2939.000000</td>\n",
       "    </tr>\n",
       "    <tr>\n",
       "      <th>75%</th>\n",
       "      <td>160.775000</td>\n",
       "      <td>57.025000</td>\n",
       "      <td>3990.000000</td>\n",
       "    </tr>\n",
       "    <tr>\n",
       "      <th>max</th>\n",
       "      <td>173.500000</td>\n",
       "      <td>70.000000</td>\n",
       "      <td>4587.000000</td>\n",
       "    </tr>\n",
       "  </tbody>\n",
       "</table>\n",
       "</div>"
      ],
      "text/plain": [
       "            키(cm)    몸무게(kg)        검사인원수\n",
       "count   26.000000  26.000000    26.000000\n",
       "mean   150.323077  47.011538  3185.807692\n",
       "std     17.380663  14.988431  1000.170906\n",
       "min    119.300000  22.900000  1267.000000\n",
       "25%    136.800000  33.725000  2724.500000\n",
       "50%    156.250000  50.200000  2939.000000\n",
       "75%    160.775000  57.025000  3990.000000\n",
       "max    173.500000  70.000000  4587.000000"
      ]
     },
     "execution_count": 4,
     "metadata": {},
     "output_type": "execute_result"
    }
   ],
   "source": [
    "df.describe()"
   ]
  },
  {
   "cell_type": "code",
   "execution_count": 5,
   "metadata": {},
   "outputs": [
    {
     "name": "stdout",
     "output_type": "stream",
     "text": [
      "<class 'pandas.core.frame.DataFrame'>\n",
      "RangeIndex: 26 entries, 0 to 25\n",
      "Data columns (total 5 columns):\n",
      " #   Column   Non-Null Count  Dtype  \n",
      "---  ------   --------------  -----  \n",
      " 0   구분       26 non-null     object \n",
      " 1   성별       26 non-null     object \n",
      " 2   키(cm)    26 non-null     float64\n",
      " 3   몸무게(kg)  26 non-null     float64\n",
      " 4   검사인원수    26 non-null     int64  \n",
      "dtypes: float64(2), int64(1), object(2)\n",
      "memory usage: 1.1+ KB\n"
     ]
    }
   ],
   "source": [
    "df.info()"
   ]
  },
  {
   "cell_type": "code",
   "execution_count": 6,
   "metadata": {},
   "outputs": [
    {
     "data": {
      "text/plain": [
       "구분         0\n",
       "성별         0\n",
       "키(cm)      0\n",
       "몸무게(kg)    0\n",
       "검사인원수      0\n",
       "dtype: int64"
      ]
     },
     "execution_count": 6,
     "metadata": {},
     "output_type": "execute_result"
    }
   ],
   "source": [
    "# 결측치 확인\n",
    "df.isnull().sum() "
   ]
  },
  {
   "cell_type": "code",
   "execution_count": 17,
   "metadata": {},
   "outputs": [
    {
     "data": {
      "text/html": [
       "<div>\n",
       "<style scoped>\n",
       "    .dataframe tbody tr th:only-of-type {\n",
       "        vertical-align: middle;\n",
       "    }\n",
       "\n",
       "    .dataframe tbody tr th {\n",
       "        vertical-align: top;\n",
       "    }\n",
       "\n",
       "    .dataframe thead th {\n",
       "        text-align: right;\n",
       "    }\n",
       "</style>\n",
       "<table border=\"1\" class=\"dataframe\">\n",
       "  <thead>\n",
       "    <tr style=\"text-align: right;\">\n",
       "      <th></th>\n",
       "      <th>구분</th>\n",
       "      <th>성별</th>\n",
       "      <th>키(cm)</th>\n",
       "      <th>몸무게(kg)</th>\n",
       "    </tr>\n",
       "  </thead>\n",
       "  <tbody>\n",
       "    <tr>\n",
       "      <th>0</th>\n",
       "      <td>만 6세</td>\n",
       "      <td>남</td>\n",
       "      <td>120.5</td>\n",
       "      <td>24.2</td>\n",
       "    </tr>\n",
       "    <tr>\n",
       "      <th>1</th>\n",
       "      <td>만 6세</td>\n",
       "      <td>여</td>\n",
       "      <td>119.3</td>\n",
       "      <td>22.9</td>\n",
       "    </tr>\n",
       "    <tr>\n",
       "      <th>2</th>\n",
       "      <td>만 7세</td>\n",
       "      <td>남</td>\n",
       "      <td>125.7</td>\n",
       "      <td>27.1</td>\n",
       "    </tr>\n",
       "    <tr>\n",
       "      <th>3</th>\n",
       "      <td>만 7세</td>\n",
       "      <td>여</td>\n",
       "      <td>124.5</td>\n",
       "      <td>25.7</td>\n",
       "    </tr>\n",
       "    <tr>\n",
       "      <th>4</th>\n",
       "      <td>만 8세</td>\n",
       "      <td>남</td>\n",
       "      <td>131.8</td>\n",
       "      <td>31.4</td>\n",
       "    </tr>\n",
       "  </tbody>\n",
       "</table>\n",
       "</div>"
      ],
      "text/plain": [
       "     구분 성별  키(cm)  몸무게(kg)\n",
       "0  만 6세  남  120.5     24.2\n",
       "1  만 6세  여  119.3     22.9\n",
       "2  만 7세  남  125.7     27.1\n",
       "3  만 7세  여  124.5     25.7\n",
       "4  만 8세  남  131.8     31.4"
      ]
     },
     "execution_count": 17,
     "metadata": {},
     "output_type": "execute_result"
    }
   ],
   "source": [
    "data = df.loc[:, ['구분','성별','키(cm)','몸무게(kg)']]\n",
    "data.head()"
   ]
  },
  {
   "cell_type": "code",
   "execution_count": 18,
   "metadata": {},
   "outputs": [
    {
     "data": {
      "text/html": [
       "<div>\n",
       "<style scoped>\n",
       "    .dataframe tbody tr th:only-of-type {\n",
       "        vertical-align: middle;\n",
       "    }\n",
       "\n",
       "    .dataframe tbody tr th {\n",
       "        vertical-align: top;\n",
       "    }\n",
       "\n",
       "    .dataframe thead th {\n",
       "        text-align: right;\n",
       "    }\n",
       "</style>\n",
       "<table border=\"1\" class=\"dataframe\">\n",
       "  <thead>\n",
       "    <tr style=\"text-align: right;\">\n",
       "      <th></th>\n",
       "      <th>구분</th>\n",
       "      <th>성별</th>\n",
       "      <th>키</th>\n",
       "      <th>몸무게</th>\n",
       "    </tr>\n",
       "  </thead>\n",
       "  <tbody>\n",
       "    <tr>\n",
       "      <th>0</th>\n",
       "      <td>만 6세</td>\n",
       "      <td>남</td>\n",
       "      <td>120.5</td>\n",
       "      <td>24.2</td>\n",
       "    </tr>\n",
       "    <tr>\n",
       "      <th>1</th>\n",
       "      <td>만 6세</td>\n",
       "      <td>여</td>\n",
       "      <td>119.3</td>\n",
       "      <td>22.9</td>\n",
       "    </tr>\n",
       "    <tr>\n",
       "      <th>2</th>\n",
       "      <td>만 7세</td>\n",
       "      <td>남</td>\n",
       "      <td>125.7</td>\n",
       "      <td>27.1</td>\n",
       "    </tr>\n",
       "    <tr>\n",
       "      <th>3</th>\n",
       "      <td>만 7세</td>\n",
       "      <td>여</td>\n",
       "      <td>124.5</td>\n",
       "      <td>25.7</td>\n",
       "    </tr>\n",
       "    <tr>\n",
       "      <th>4</th>\n",
       "      <td>만 8세</td>\n",
       "      <td>남</td>\n",
       "      <td>131.8</td>\n",
       "      <td>31.4</td>\n",
       "    </tr>\n",
       "  </tbody>\n",
       "</table>\n",
       "</div>"
      ],
      "text/plain": [
       "     구분 성별      키   몸무게\n",
       "0  만 6세  남  120.5  24.2\n",
       "1  만 6세  여  119.3  22.9\n",
       "2  만 7세  남  125.7  27.1\n",
       "3  만 7세  여  124.5  25.7\n",
       "4  만 8세  남  131.8  31.4"
      ]
     },
     "execution_count": 18,
     "metadata": {},
     "output_type": "execute_result"
    }
   ],
   "source": [
    "data.rename(columns={'키(cm)':'키', '몸무게(kg)':'몸무게'}, inplace=True)\n",
    "data.head()"
   ]
  },
  {
   "cell_type": "code",
   "execution_count": 19,
   "metadata": {},
   "outputs": [
    {
     "data": {
      "text/html": [
       "<div>\n",
       "<style scoped>\n",
       "    .dataframe tbody tr th:only-of-type {\n",
       "        vertical-align: middle;\n",
       "    }\n",
       "\n",
       "    .dataframe tbody tr th {\n",
       "        vertical-align: top;\n",
       "    }\n",
       "\n",
       "    .dataframe thead th {\n",
       "        text-align: right;\n",
       "    }\n",
       "</style>\n",
       "<table border=\"1\" class=\"dataframe\">\n",
       "  <thead>\n",
       "    <tr style=\"text-align: right;\">\n",
       "      <th></th>\n",
       "      <th>구분</th>\n",
       "      <th>성별</th>\n",
       "      <th>키</th>\n",
       "      <th>몸무게</th>\n",
       "      <th>BMI</th>\n",
       "    </tr>\n",
       "  </thead>\n",
       "  <tbody>\n",
       "    <tr>\n",
       "      <th>0</th>\n",
       "      <td>만 6세</td>\n",
       "      <td>남</td>\n",
       "      <td>120.5</td>\n",
       "      <td>24.2</td>\n",
       "      <td>16.666380</td>\n",
       "    </tr>\n",
       "    <tr>\n",
       "      <th>1</th>\n",
       "      <td>만 6세</td>\n",
       "      <td>여</td>\n",
       "      <td>119.3</td>\n",
       "      <td>22.9</td>\n",
       "      <td>16.089946</td>\n",
       "    </tr>\n",
       "    <tr>\n",
       "      <th>2</th>\n",
       "      <td>만 7세</td>\n",
       "      <td>남</td>\n",
       "      <td>125.7</td>\n",
       "      <td>27.1</td>\n",
       "      <td>17.151367</td>\n",
       "    </tr>\n",
       "    <tr>\n",
       "      <th>3</th>\n",
       "      <td>만 7세</td>\n",
       "      <td>여</td>\n",
       "      <td>124.5</td>\n",
       "      <td>25.7</td>\n",
       "      <td>16.580378</td>\n",
       "    </tr>\n",
       "    <tr>\n",
       "      <th>4</th>\n",
       "      <td>만 8세</td>\n",
       "      <td>남</td>\n",
       "      <td>131.8</td>\n",
       "      <td>31.4</td>\n",
       "      <td>18.075854</td>\n",
       "    </tr>\n",
       "  </tbody>\n",
       "</table>\n",
       "</div>"
      ],
      "text/plain": [
       "     구분 성별      키   몸무게        BMI\n",
       "0  만 6세  남  120.5  24.2  16.666380\n",
       "1  만 6세  여  119.3  22.9  16.089946\n",
       "2  만 7세  남  125.7  27.1  17.151367\n",
       "3  만 7세  여  124.5  25.7  16.580378\n",
       "4  만 8세  남  131.8  31.4  18.075854"
      ]
     },
     "execution_count": 19,
     "metadata": {},
     "output_type": "execute_result"
    }
   ],
   "source": [
    "#BMI 항목 추가\n",
    "data['BMI'] = data['몸무게'] / (data['키'] / 100) ** 2\n",
    "data.head()"
   ]
  },
  {
   "cell_type": "code",
   "execution_count": 20,
   "metadata": {},
   "outputs": [
    {
     "name": "stdout",
     "output_type": "stream",
     "text": [
      "(13, 5)\n"
     ]
    },
    {
     "data": {
      "text/html": [
       "<div>\n",
       "<style scoped>\n",
       "    .dataframe tbody tr th:only-of-type {\n",
       "        vertical-align: middle;\n",
       "    }\n",
       "\n",
       "    .dataframe tbody tr th {\n",
       "        vertical-align: top;\n",
       "    }\n",
       "\n",
       "    .dataframe thead th {\n",
       "        text-align: right;\n",
       "    }\n",
       "</style>\n",
       "<table border=\"1\" class=\"dataframe\">\n",
       "  <thead>\n",
       "    <tr style=\"text-align: right;\">\n",
       "      <th></th>\n",
       "      <th>구분</th>\n",
       "      <th>성별</th>\n",
       "      <th>키</th>\n",
       "      <th>몸무게</th>\n",
       "      <th>BMI</th>\n",
       "    </tr>\n",
       "  </thead>\n",
       "  <tbody>\n",
       "    <tr>\n",
       "      <th>0</th>\n",
       "      <td>만 6세</td>\n",
       "      <td>남</td>\n",
       "      <td>120.5</td>\n",
       "      <td>24.2</td>\n",
       "      <td>16.666380</td>\n",
       "    </tr>\n",
       "    <tr>\n",
       "      <th>2</th>\n",
       "      <td>만 7세</td>\n",
       "      <td>남</td>\n",
       "      <td>125.7</td>\n",
       "      <td>27.1</td>\n",
       "      <td>17.151367</td>\n",
       "    </tr>\n",
       "    <tr>\n",
       "      <th>4</th>\n",
       "      <td>만 8세</td>\n",
       "      <td>남</td>\n",
       "      <td>131.8</td>\n",
       "      <td>31.4</td>\n",
       "      <td>18.075854</td>\n",
       "    </tr>\n",
       "    <tr>\n",
       "      <th>6</th>\n",
       "      <td>만 9세</td>\n",
       "      <td>남</td>\n",
       "      <td>137.4</td>\n",
       "      <td>35.6</td>\n",
       "      <td>18.857171</td>\n",
       "    </tr>\n",
       "    <tr>\n",
       "      <th>8</th>\n",
       "      <td>만 10세</td>\n",
       "      <td>남</td>\n",
       "      <td>142.7</td>\n",
       "      <td>40.3</td>\n",
       "      <td>19.790515</td>\n",
       "    </tr>\n",
       "  </tbody>\n",
       "</table>\n",
       "</div>"
      ],
      "text/plain": [
       "      구분 성별      키   몸무게        BMI\n",
       "0   만 6세  남  120.5  24.2  16.666380\n",
       "2   만 7세  남  125.7  27.1  17.151367\n",
       "4   만 8세  남  131.8  31.4  18.075854\n",
       "6   만 9세  남  137.4  35.6  18.857171\n",
       "8  만 10세  남  142.7  40.3  19.790515"
      ]
     },
     "execution_count": 20,
     "metadata": {},
     "output_type": "execute_result"
    }
   ],
   "source": [
    "# 남자 데이터 분리하기 \n",
    "mask_male = (data.성별 == '남')\n",
    "df_male = data.loc[mask_male, :]\n",
    "print(df_male.shape)\n",
    "df_male.head()"
   ]
  },
  {
   "cell_type": "code",
   "execution_count": 21,
   "metadata": {},
   "outputs": [
    {
     "name": "stdout",
     "output_type": "stream",
     "text": [
      "(13, 5)\n"
     ]
    },
    {
     "data": {
      "text/html": [
       "<div>\n",
       "<style scoped>\n",
       "    .dataframe tbody tr th:only-of-type {\n",
       "        vertical-align: middle;\n",
       "    }\n",
       "\n",
       "    .dataframe tbody tr th {\n",
       "        vertical-align: top;\n",
       "    }\n",
       "\n",
       "    .dataframe thead th {\n",
       "        text-align: right;\n",
       "    }\n",
       "</style>\n",
       "<table border=\"1\" class=\"dataframe\">\n",
       "  <thead>\n",
       "    <tr style=\"text-align: right;\">\n",
       "      <th></th>\n",
       "      <th>구분</th>\n",
       "      <th>성별</th>\n",
       "      <th>키</th>\n",
       "      <th>몸무게</th>\n",
       "      <th>BMI</th>\n",
       "    </tr>\n",
       "  </thead>\n",
       "  <tbody>\n",
       "    <tr>\n",
       "      <th>1</th>\n",
       "      <td>만 6세</td>\n",
       "      <td>여</td>\n",
       "      <td>119.3</td>\n",
       "      <td>22.9</td>\n",
       "      <td>16.089946</td>\n",
       "    </tr>\n",
       "    <tr>\n",
       "      <th>3</th>\n",
       "      <td>만 7세</td>\n",
       "      <td>여</td>\n",
       "      <td>124.5</td>\n",
       "      <td>25.7</td>\n",
       "      <td>16.580378</td>\n",
       "    </tr>\n",
       "    <tr>\n",
       "      <th>5</th>\n",
       "      <td>만 8세</td>\n",
       "      <td>여</td>\n",
       "      <td>130.2</td>\n",
       "      <td>29.0</td>\n",
       "      <td>17.107086</td>\n",
       "    </tr>\n",
       "    <tr>\n",
       "      <th>7</th>\n",
       "      <td>만 9세</td>\n",
       "      <td>여</td>\n",
       "      <td>136.6</td>\n",
       "      <td>33.1</td>\n",
       "      <td>17.738896</td>\n",
       "    </tr>\n",
       "    <tr>\n",
       "      <th>9</th>\n",
       "      <td>만 10세</td>\n",
       "      <td>여</td>\n",
       "      <td>143.1</td>\n",
       "      <td>38.0</td>\n",
       "      <td>18.556853</td>\n",
       "    </tr>\n",
       "  </tbody>\n",
       "</table>\n",
       "</div>"
      ],
      "text/plain": [
       "      구분 성별      키   몸무게        BMI\n",
       "1   만 6세  여  119.3  22.9  16.089946\n",
       "3   만 7세  여  124.5  25.7  16.580378\n",
       "5   만 8세  여  130.2  29.0  17.107086\n",
       "7   만 9세  여  136.6  33.1  17.738896\n",
       "9  만 10세  여  143.1  38.0  18.556853"
      ]
     },
     "execution_count": 21,
     "metadata": {},
     "output_type": "execute_result"
    }
   ],
   "source": [
    "# 여자 데이터 분리하기 \n",
    "mask_female = (data.성별 == '여')\n",
    "df_female = data.loc[mask_female, :]\n",
    "print(df_female.shape)\n",
    "df_female.head()"
   ]
  },
  {
   "cell_type": "code",
   "execution_count": 22,
   "metadata": {},
   "outputs": [
    {
     "data": {
      "text/plain": [
       "남    13\n",
       "여    13\n",
       "Name: 성별, dtype: int64"
      ]
     },
     "execution_count": 22,
     "metadata": {},
     "output_type": "execute_result"
    }
   ],
   "source": [
    "# 남녀 숫자 계산하기 \n",
    "gender_count = data['성별'].value_counts()\n",
    "gender_count"
   ]
  },
  {
   "cell_type": "code",
   "execution_count": 24,
   "metadata": {},
   "outputs": [],
   "source": [
    "# 한글 처리 \n",
    "import matplotlib.pyplot as plt\n",
    "from matplotlib import font_manager, rc\n",
    "font_path = \"C:/Windows/Fonts/NGULIM.TTF\"\n",
    "font = font_manager.FontProperties(fname=font_path).get_name()\n",
    "rc('font', family=font)"
   ]
  },
  {
   "cell_type": "code",
   "execution_count": 25,
   "metadata": {},
   "outputs": [
    {
     "data": {
      "image/png": "[encoded data removed]",
      "text/plain": [
       "<Figure size 640x480 with 1 Axes>"
      ]
     },
     "metadata": {},
     "output_type": "display_data"
    }
   ],
   "source": [
    "plt.bar(gender_count.index, gender_count.values)\n",
    "plt.title(\"남성과 여성 인원수\")\n",
    "plt.xlabel(\"성별\")\n",
    "plt.ylabel(\"명수\")\n",
    "plt.show()"
   ]
  },
  {
   "cell_type": "code",
   "execution_count": 27,
   "metadata": {},
   "outputs": [],
   "source": [
    "# 판단 함수 \n",
    "def determination(bmi):\n",
    "    if bmi < 18.5:\n",
    "        decision = '저체중'\n",
    "    elif bmi < 23:\n",
    "        decision = '정상'\n",
    "    elif bmi < 25:\n",
    "        decision = '과체중'\n",
    "    else:\n",
    "        decision = '비만'\n",
    "    return decision"
   ]
  },
  {
   "cell_type": "markdown",
   "metadata": {},
   "source": [
    "전체에 대해 분석하기"
   ]
  },
  {
   "cell_type": "code",
   "execution_count": 30,
   "metadata": {},
   "outputs": [
    {
     "data": {
      "text/html": [
       "<div>\n",
       "<style scoped>\n",
       "    .dataframe tbody tr th:only-of-type {\n",
       "        vertical-align: middle;\n",
       "    }\n",
       "\n",
       "    .dataframe tbody tr th {\n",
       "        vertical-align: top;\n",
       "    }\n",
       "\n",
       "    .dataframe thead th {\n",
       "        text-align: right;\n",
       "    }\n",
       "</style>\n",
       "<table border=\"1\" class=\"dataframe\">\n",
       "  <thead>\n",
       "    <tr style=\"text-align: right;\">\n",
       "      <th></th>\n",
       "      <th>구분</th>\n",
       "      <th>성별</th>\n",
       "      <th>키</th>\n",
       "      <th>몸무게</th>\n",
       "      <th>BMI</th>\n",
       "      <th>Result</th>\n",
       "    </tr>\n",
       "  </thead>\n",
       "  <tbody>\n",
       "    <tr>\n",
       "      <th>0</th>\n",
       "      <td>만 6세</td>\n",
       "      <td>남</td>\n",
       "      <td>120.5</td>\n",
       "      <td>24.2</td>\n",
       "      <td>16.666380</td>\n",
       "      <td>저체중</td>\n",
       "    </tr>\n",
       "    <tr>\n",
       "      <th>1</th>\n",
       "      <td>만 6세</td>\n",
       "      <td>여</td>\n",
       "      <td>119.3</td>\n",
       "      <td>22.9</td>\n",
       "      <td>16.089946</td>\n",
       "      <td>저체중</td>\n",
       "    </tr>\n",
       "    <tr>\n",
       "      <th>2</th>\n",
       "      <td>만 7세</td>\n",
       "      <td>남</td>\n",
       "      <td>125.7</td>\n",
       "      <td>27.1</td>\n",
       "      <td>17.151367</td>\n",
       "      <td>저체중</td>\n",
       "    </tr>\n",
       "    <tr>\n",
       "      <th>3</th>\n",
       "      <td>만 7세</td>\n",
       "      <td>여</td>\n",
       "      <td>124.5</td>\n",
       "      <td>25.7</td>\n",
       "      <td>16.580378</td>\n",
       "      <td>저체중</td>\n",
       "    </tr>\n",
       "    <tr>\n",
       "      <th>4</th>\n",
       "      <td>만 8세</td>\n",
       "      <td>남</td>\n",
       "      <td>131.8</td>\n",
       "      <td>31.4</td>\n",
       "      <td>18.075854</td>\n",
       "      <td>저체중</td>\n",
       "    </tr>\n",
       "  </tbody>\n",
       "</table>\n",
       "</div>"
      ],
      "text/plain": [
       "     구분 성별      키   몸무게        BMI Result\n",
       "0  만 6세  남  120.5  24.2  16.666380    저체중\n",
       "1  만 6세  여  119.3  22.9  16.089946    저체중\n",
       "2  만 7세  남  125.7  27.1  17.151367    저체중\n",
       "3  만 7세  여  124.5  25.7  16.580378    저체중\n",
       "4  만 8세  남  131.8  31.4  18.075854    저체중"
      ]
     },
     "execution_count": 30,
     "metadata": {},
     "output_type": "execute_result"
    }
   ],
   "source": [
    "# 판단 함수 적용\n",
    "data['Result'] = data['BMI'].apply(determination)\n",
    "data.head()"
   ]
  },
  {
   "cell_type": "code",
   "execution_count": 31,
   "metadata": {},
   "outputs": [
    {
     "data": {
      "text/plain": [
       "정상     17\n",
       "저체중     7\n",
       "과체중     2\n",
       "Name: Result, dtype: int64"
      ]
     },
     "execution_count": 31,
     "metadata": {},
     "output_type": "execute_result"
    }
   ],
   "source": [
    "value_count = data['Result'].value_counts()\n",
    "value_count"
   ]
  },
  {
   "cell_type": "code",
   "execution_count": 32,
   "metadata": {},
   "outputs": [
    {
     "data": {
      "image/png": "[encoded data removed]",
      "text/plain": [
       "<Figure size 640x480 with 1 Axes>"
      ]
     },
     "metadata": {},
     "output_type": "display_data"
    }
   ],
   "source": [
    "plt.bar(value_count.index, value_count.values)\n",
    "plt.title(\"BMI 전체 결과\")\n",
    "plt.xlabel(\"결과\")\n",
    "plt.ylabel(\"명수\")\n",
    "plt.show()"
   ]
  },
  {
   "cell_type": "markdown",
   "metadata": {},
   "source": [
    "남학생에 대해 분석하기"
   ]
  },
  {
   "cell_type": "code",
   "execution_count": 33,
   "metadata": {},
   "outputs": [
    {
     "name": "stderr",
     "output_type": "stream",
     "text": [
      "C:\\Users\\UserK\\AppData\\Local\\Temp\\ipykernel_13124\\1293725952.py:1: SettingWithCopyWarning: \n",
      "A value is trying to be set on a copy of a slice from a DataFrame.\n",
      "Try using .loc[row_indexer,col_indexer] = value instead\n",
      "\n",
      "See the caveats in the documentation: https://pandas.pydata.org/pandas-docs/stable/user_guide/indexing.html#returning-a-view-versus-a-copy\n",
      "  df_male['Result'] = df_male['BMI'].apply(determination)\n"
     ]
    },
    {
     "data": {
      "text/html": [
       "<div>\n",
       "<style scoped>\n",
       "    .dataframe tbody tr th:only-of-type {\n",
       "        vertical-align: middle;\n",
       "    }\n",
       "\n",
       "    .dataframe tbody tr th {\n",
       "        vertical-align: top;\n",
       "    }\n",
       "\n",
       "    .dataframe thead th {\n",
       "        text-align: right;\n",
       "    }\n",
       "</style>\n",
       "<table border=\"1\" class=\"dataframe\">\n",
       "  <thead>\n",
       "    <tr style=\"text-align: right;\">\n",
       "      <th></th>\n",
       "      <th>구분</th>\n",
       "      <th>성별</th>\n",
       "      <th>키</th>\n",
       "      <th>몸무게</th>\n",
       "      <th>BMI</th>\n",
       "      <th>Result</th>\n",
       "    </tr>\n",
       "  </thead>\n",
       "  <tbody>\n",
       "    <tr>\n",
       "      <th>0</th>\n",
       "      <td>만 6세</td>\n",
       "      <td>남</td>\n",
       "      <td>120.5</td>\n",
       "      <td>24.2</td>\n",
       "      <td>16.666380</td>\n",
       "      <td>저체중</td>\n",
       "    </tr>\n",
       "    <tr>\n",
       "      <th>2</th>\n",
       "      <td>만 7세</td>\n",
       "      <td>남</td>\n",
       "      <td>125.7</td>\n",
       "      <td>27.1</td>\n",
       "      <td>17.151367</td>\n",
       "      <td>저체중</td>\n",
       "    </tr>\n",
       "    <tr>\n",
       "      <th>4</th>\n",
       "      <td>만 8세</td>\n",
       "      <td>남</td>\n",
       "      <td>131.8</td>\n",
       "      <td>31.4</td>\n",
       "      <td>18.075854</td>\n",
       "      <td>저체중</td>\n",
       "    </tr>\n",
       "    <tr>\n",
       "      <th>6</th>\n",
       "      <td>만 9세</td>\n",
       "      <td>남</td>\n",
       "      <td>137.4</td>\n",
       "      <td>35.6</td>\n",
       "      <td>18.857171</td>\n",
       "      <td>정상</td>\n",
       "    </tr>\n",
       "    <tr>\n",
       "      <th>8</th>\n",
       "      <td>만 10세</td>\n",
       "      <td>남</td>\n",
       "      <td>142.7</td>\n",
       "      <td>40.3</td>\n",
       "      <td>19.790515</td>\n",
       "      <td>정상</td>\n",
       "    </tr>\n",
       "  </tbody>\n",
       "</table>\n",
       "</div>"
      ],
      "text/plain": [
       "      구분 성별      키   몸무게        BMI Result\n",
       "0   만 6세  남  120.5  24.2  16.666380    저체중\n",
       "2   만 7세  남  125.7  27.1  17.151367    저체중\n",
       "4   만 8세  남  131.8  31.4  18.075854    저체중\n",
       "6   만 9세  남  137.4  35.6  18.857171     정상\n",
       "8  만 10세  남  142.7  40.3  19.790515     정상"
      ]
     },
     "execution_count": 33,
     "metadata": {},
     "output_type": "execute_result"
    }
   ],
   "source": [
    "df_male['Result'] = df_male['BMI'].apply(determination)\n",
    "df_male.head()"
   ]
  },
  {
   "cell_type": "code",
   "execution_count": 34,
   "metadata": {},
   "outputs": [
    {
     "data": {
      "text/plain": [
       "정상     8\n",
       "저체중    3\n",
       "과체중    2\n",
       "Name: Result, dtype: int64"
      ]
     },
     "execution_count": 34,
     "metadata": {},
     "output_type": "execute_result"
    }
   ],
   "source": [
    "value_count = df_male['Result'].value_counts()\n",
    "value_count"
   ]
  },
  {
   "cell_type": "code",
   "execution_count": 35,
   "metadata": {},
   "outputs": [
    {
     "data": {
      "text/plain": [
       "<AxesSubplot: >"
      ]
     },
     "execution_count": 35,
     "metadata": {},
     "output_type": "execute_result"
    },
    {
     "data": {
      "image/png": "[encoded data removed]",
      "text/plain": [
       "<Figure size 640x480 with 1 Axes>"
      ]
     },
     "metadata": {},
     "output_type": "display_data"
    }
   ],
   "source": [
    "value_count.plot(kind='bar')"
   ]
  },
  {
   "cell_type": "code",
   "execution_count": 36,
   "metadata": {},
   "outputs": [
    {
     "name": "stdout",
     "output_type": "stream",
     "text": [
      "Index(['정상', '저체중', '과체중'], dtype='object')\n",
      "[8 3 2]\n"
     ]
    }
   ],
   "source": [
    "print(value_count.index)\n",
    "print(value_count.values)"
   ]
  },
  {
   "cell_type": "code",
   "execution_count": 38,
   "metadata": {},
   "outputs": [
    {
     "data": {
      "text/plain": [
       "<AxesSubplot: xlabel='키', ylabel='몸무게'>"
      ]
     },
     "execution_count": 38,
     "metadata": {},
     "output_type": "execute_result"
    },
    {
     "data": {
      "image/png": "[encoded data removed]",
      "text/plain": [
       "<Figure size 640x480 with 1 Axes>"
      ]
     },
     "metadata": {},
     "output_type": "display_data"
    }
   ],
   "source": [
    "# 남자 여자 키, 몸무게 데이터 가져와서 시각화 하기\n",
    "# 남자 키, 몸무게 데이터 가져오기\n",
    "data_male = df_male[['키', '몸무게']]\n",
    "data_male.plot.scatter(x='키', y='몸무게')\n"
   ]
  },
  {
   "cell_type": "code",
   "execution_count": 39,
   "metadata": {},
   "outputs": [
    {
     "data": {
      "text/plain": [
       "<AxesSubplot: xlabel='키', ylabel='몸무게'>"
      ]
     },
     "execution_count": 39,
     "metadata": {},
     "output_type": "execute_result"
    },
    {
     "data": {
      "image/png": "[encoded data removed]",
      "text/plain": [
       "<Figure size 640x480 with 1 Axes>"
      ]
     },
     "metadata": {},
     "output_type": "display_data"
    }
   ],
   "source": [
    "data_female = df_female[['키', '몸무게']]\n",
    "data_female.plot.scatter(x='키', y='몸무게')"
   ]
  },
  {
   "cell_type": "code",
   "execution_count": 40,
   "metadata": {},
   "outputs": [
    {
     "name": "stdout",
     "output_type": "stream",
     "text": [
      "[119.3 124.5 130.2 136.6 143.1 150.1 155.3 158.4 159.7 160.3 160.6 160.8\n",
      " 160.7]\n"
     ]
    }
   ],
   "source": [
    "# 시리즈를 넘파이 배열로 변경하기 \n",
    "male_height = np.array(data_male['키'])\n",
    "male_weight = np.array(data_male['몸무게'])\n",
    "female_height = np.array(data_female['키'])\n",
    "female_weight = np.array(data_female['몸무게'])\n",
    "print(female_height)"
   ]
  },
  {
   "cell_type": "code",
   "execution_count": 41,
   "metadata": {},
   "outputs": [
    {
     "data": {
      "image/png": "[encoded data removed]",
      "text/plain": [
       "<Figure size 640x480 with 1 Axes>"
      ]
     },
     "metadata": {},
     "output_type": "display_data"
    }
   ],
   "source": [
    "plt.plot(male_height, male_weight, 'o', color='blue')\n",
    "plt.plot(female_height, female_weight, '^', color='red')\n",
    "plt.title(\"남녀 키와 몸무게의 관계\")\n",
    "plt.xlabel(\"키\")\n",
    "plt.ylabel(\"몸무게\")\n",
    "plt.show()\n"
   ]
  },
  {
   "cell_type": "markdown",
   "metadata": {},
   "source": [
    "### 선형회귀 분석"
   ]
  },
  {
   "cell_type": "code",
   "execution_count": 54,
   "metadata": {},
   "outputs": [],
   "source": [
    "heights = np.array(data['키'])\n",
    "heights = heights.reshape(-1, 1)\n",
    "weights = np.array(data['몸무게'])"
   ]
  },
  {
   "cell_type": "code",
   "execution_count": 60,
   "metadata": {},
   "outputs": [
    {
     "name": "stdout",
     "output_type": "stream",
     "text": [
      "[68.14276696]\n"
     ]
    }
   ],
   "source": [
    "from sklearn.linear_model import LinearRegression\n",
    "model = LinearRegression() # 모델을 생성합니다.\n",
    "model.fit(X=heights, y=weights) # 모델에 X, y 값들을 적용합니다. fit 함수는 리스트 또는 배열 형태의 X, y 인수들을 필요로 합니다.\n",
    "weight = model.predict([[175]])\n",
    "print(weight)"
   ]
  },
  {
   "cell_type": "code",
   "execution_count": 64,
   "metadata": {},
   "outputs": [
    {
     "data": {
      "image/png": "[encoded data removed]",
      "text/plain": [
       "<Figure size 640x480 with 1 Axes>"
      ]
     },
     "metadata": {},
     "output_type": "display_data"
    }
   ],
   "source": [
    "plt.plot(heights, weights, 'o', color='blue')\n",
    "plt.plot(heights, model.predict(heights), color='r') # 선형 회귀 선을 그립니다.\n",
    "plt.title('키 대비 몸무게 그래프')\n",
    "plt.xlabel('키(cm)')\n",
    "plt.ylabel('몸무게(kg)')\n",
    "plt.show()"
   ]
  },
  {
   "cell_type": "code",
   "execution_count": 66,
   "metadata": {},
   "outputs": [
    {
     "data": {
      "image/png": "[encoded data removed]",
      "text/plain": [
       "<Figure size 640x480 with 1 Axes>"
      ]
     },
     "metadata": {},
     "output_type": "display_data"
    }
   ],
   "source": [
    "plt.plot(male_height, male_weight, 'o', color='blue', label='남자')\n",
    "plt.plot(female_height, female_weight, '^', color='red', label='여자')\n",
    "plt.plot(heights, model.predict(heights), color='g') # 선형 회귀 선을 그립니다.\n",
    "plt.title('키 대비 몸무게 그래프')\n",
    "plt.xlabel('키(cm)')\n",
    "plt.ylabel('몸무게(kg)')\n",
    "plt.legend()\n",
    "plt.show()"
   ]
  }
 ],
 "metadata": {
  "kernelspec": {
   "display_name": "Python 3.11.1 64-bit",
   "language": "python",
   "name": "python3"
  },
  "language_info": {
   "codemirror_mode": {
    "name": "ipython",
    "version": 3
   },
   "file_extension": ".py",
   "mimetype": "text/x-python",
   "name": "python",
   "nbconvert_exporter": "python",
   "pygments_lexer": "ipython3",
   "version": "3.11.1"
  },
  "orig_nbformat": 4,
  "vscode": {
   "interpreter": {
    "hash": "81eef19b52451e11e3f8bf6bc518dd5f147d5a651198624c9c211c83ec7c4923"
   }
  }
 },
 "nbformat": 4,
 "nbformat_minor": 2
}
