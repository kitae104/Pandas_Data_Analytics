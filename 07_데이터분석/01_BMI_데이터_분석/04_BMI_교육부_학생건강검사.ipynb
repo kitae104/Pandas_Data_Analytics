{
 "cells": [
  {
   "cell_type": "code",
   "execution_count": 1,
   "metadata": {},
   "outputs": [],
   "source": [
    "# 모듈 추가 \n",
    "import pandas as pd\n",
    "import numpy as np\n",
    "import matplotlib.pyplot as plt"
   ]
  },
  {
   "cell_type": "code",
   "execution_count": 2,
   "metadata": {},
   "outputs": [
    {
     "name": "stdout",
     "output_type": "stream",
     "text": [
      "(9686, 25)\n",
      "    고유식별번호(ID)       최종가중치 학교고유번호(ID)      도시규모 도시규모별분석용   학년도 광역시도       시도별  \\\n",
      "0  Aa011남10101  169.550665       Aa01  대도시/중소도시   특별/광역시  2015   서울  서울특별시교육청   \n",
      "1  Aa011남10102  169.550665       Aa01  대도시/중소도시   특별/광역시  2015   서울  서울특별시교육청   \n",
      "2  Aa011남10103  169.550665       Aa01  대도시/중소도시   특별/광역시  2015   서울  서울특별시교육청   \n",
      "3  Aa011남10104  169.550665       Aa01  대도시/중소도시   특별/광역시  2015   서울  서울특별시교육청   \n",
      "4  Aa011남10105  169.550665       Aa01  대도시/중소도시   특별/광역시  2015   서울  서울특별시교육청   \n",
      "\n",
      "   학교급별       학교명  ...      키   몸무게  혈당식전(mgdl) 총콜레스테롤(mgdl) 간기능(AST)단위(UL)  \\\n",
      "0     1  서울대도초등학교  ...  125.8  27.3         NaN          NaN            NaN   \n",
      "1     1  서울대도초등학교  ...  124.3  25.4         NaN          NaN            NaN   \n",
      "2     1  서울대도초등학교  ...  119.2  23.5         NaN          NaN            NaN   \n",
      "3     1  서울대도초등학교  ...  115.0  20.0         NaN          NaN            NaN   \n",
      "4     1  서울대도초등학교  ...  120.0  33.5         NaN          NaN            NaN   \n",
      "\n",
      "   간기능(ALT)단위(UL)  혈색소(gdl)  간염검사    수축기   이완기  \n",
      "0             NaN       NaN   NaN   77.0  58.0  \n",
      "1             NaN       NaN   NaN   83.0  51.0  \n",
      "2             NaN       NaN   NaN  103.0  65.0  \n",
      "3             NaN       NaN   NaN   92.0  66.0  \n",
      "4             NaN       NaN   NaN  102.0  59.0  \n",
      "\n",
      "[5 rows x 25 columns]\n"
     ]
    }
   ],
   "source": [
    "df = pd.read_csv('교육부_학생건강검사.csv')\n",
    "print(df.shape)   # 형태 확인 (행, 열)\n",
    "print(df.head())"
   ]
  },
  {
   "cell_type": "markdown",
   "metadata": {},
   "source": [
    "* 일단 불필요한 데이터 제거 전에 데이터 정보 확인"
   ]
  },
  {
   "cell_type": "code",
   "execution_count": 3,
   "metadata": {},
   "outputs": [
    {
     "name": "stdout",
     "output_type": "stream",
     "text": [
      "<class 'pandas.core.frame.DataFrame'>\n",
      "RangeIndex: 9686 entries, 0 to 9685\n",
      "Data columns (total 25 columns):\n",
      " #   Column          Non-Null Count  Dtype  \n",
      "---  ------          --------------  -----  \n",
      " 0   고유식별번호(ID)      9686 non-null   object \n",
      " 1   최종가중치           9686 non-null   float64\n",
      " 2   학교고유번호(ID)      9686 non-null   object \n",
      " 3   도시규모            9686 non-null   object \n",
      " 4   도시규모별분석용        9686 non-null   object \n",
      " 5   학년도             9686 non-null   int64  \n",
      " 6   광역시도            9686 non-null   object \n",
      " 7   시도별             9686 non-null   object \n",
      " 8   학교급별            9686 non-null   int64  \n",
      " 9   학교명             9686 non-null   object \n",
      " 10  공학여부            9686 non-null   object \n",
      " 11  학년              9686 non-null   int64  \n",
      " 12  반               9686 non-null   int64  \n",
      " 13  성별              9686 non-null   object \n",
      " 14  건강검진일           9686 non-null   object \n",
      " 15  키               9686 non-null   float64\n",
      " 16  몸무게             9682 non-null   float64\n",
      " 17  혈당식전(mgdl)      338 non-null    float64\n",
      " 18  총콜레스테롤(mgdl)    339 non-null    float64\n",
      " 19  간기능(AST)단위(UL)  336 non-null    float64\n",
      " 20  간기능(ALT)단위(UL)  337 non-null    float64\n",
      " 21  혈색소(gdl)        578 non-null    float64\n",
      " 22  간염검사            831 non-null    object \n",
      " 23  수축기             3025 non-null   float64\n",
      " 24  이완기             3025 non-null   float64\n",
      "dtypes: float64(10), int64(4), object(11)\n",
      "memory usage: 1.8+ MB\n"
     ]
    }
   ],
   "source": [
    "df.info()   # 데이터 정보 확인 - 결측치 확인 및 데이터 타입 확인"
   ]
  },
  {
   "cell_type": "code",
   "execution_count": 4,
   "metadata": {},
   "outputs": [
    {
     "data": {
      "text/html": [
       "<div>\n",
       "<style scoped>\n",
       "    .dataframe tbody tr th:only-of-type {\n",
       "        vertical-align: middle;\n",
       "    }\n",
       "\n",
       "    .dataframe tbody tr th {\n",
       "        vertical-align: top;\n",
       "    }\n",
       "\n",
       "    .dataframe thead th {\n",
       "        text-align: right;\n",
       "    }\n",
       "</style>\n",
       "<table border=\"1\" class=\"dataframe\">\n",
       "  <thead>\n",
       "    <tr style=\"text-align: right;\">\n",
       "      <th></th>\n",
       "      <th>최종가중치</th>\n",
       "      <th>학년도</th>\n",
       "      <th>학교급별</th>\n",
       "      <th>학년</th>\n",
       "      <th>반</th>\n",
       "      <th>키</th>\n",
       "      <th>몸무게</th>\n",
       "      <th>혈당식전(mgdl)</th>\n",
       "      <th>총콜레스테롤(mgdl)</th>\n",
       "      <th>간기능(AST)단위(UL)</th>\n",
       "      <th>간기능(ALT)단위(UL)</th>\n",
       "      <th>혈색소(gdl)</th>\n",
       "      <th>수축기</th>\n",
       "      <th>이완기</th>\n",
       "    </tr>\n",
       "  </thead>\n",
       "  <tbody>\n",
       "    <tr>\n",
       "      <th>count</th>\n",
       "      <td>9686.000000</td>\n",
       "      <td>9686.0</td>\n",
       "      <td>9686.000000</td>\n",
       "      <td>9686.000000</td>\n",
       "      <td>9686.000000</td>\n",
       "      <td>9686.000000</td>\n",
       "      <td>9682.000000</td>\n",
       "      <td>338.00000</td>\n",
       "      <td>339.000000</td>\n",
       "      <td>336.000000</td>\n",
       "      <td>337.000000</td>\n",
       "      <td>578.000000</td>\n",
       "      <td>3025.000000</td>\n",
       "      <td>3025.000000</td>\n",
       "    </tr>\n",
       "    <tr>\n",
       "      <th>mean</th>\n",
       "      <td>104.894487</td>\n",
       "      <td>2015.0</td>\n",
       "      <td>1.995767</td>\n",
       "      <td>2.567933</td>\n",
       "      <td>2.659096</td>\n",
       "      <td>154.564444</td>\n",
       "      <td>50.207591</td>\n",
       "      <td>92.14497</td>\n",
       "      <td>173.516519</td>\n",
       "      <td>27.824405</td>\n",
       "      <td>30.311573</td>\n",
       "      <td>12.976990</td>\n",
       "      <td>104.830083</td>\n",
       "      <td>62.987438</td>\n",
       "    </tr>\n",
       "    <tr>\n",
       "      <th>std</th>\n",
       "      <td>39.376988</td>\n",
       "      <td>0.0</td>\n",
       "      <td>0.856499</td>\n",
       "      <td>1.414243</td>\n",
       "      <td>2.601067</td>\n",
       "      <td>16.968590</td>\n",
       "      <td>17.075953</td>\n",
       "      <td>10.49571</td>\n",
       "      <td>32.567571</td>\n",
       "      <td>19.327395</td>\n",
       "      <td>32.191960</td>\n",
       "      <td>1.092454</td>\n",
       "      <td>12.661348</td>\n",
       "      <td>7.948402</td>\n",
       "    </tr>\n",
       "    <tr>\n",
       "      <th>min</th>\n",
       "      <td>23.325794</td>\n",
       "      <td>2015.0</td>\n",
       "      <td>1.000000</td>\n",
       "      <td>1.000000</td>\n",
       "      <td>1.000000</td>\n",
       "      <td>107.700000</td>\n",
       "      <td>15.900000</td>\n",
       "      <td>65.00000</td>\n",
       "      <td>102.000000</td>\n",
       "      <td>11.000000</td>\n",
       "      <td>8.000000</td>\n",
       "      <td>9.000000</td>\n",
       "      <td>65.000000</td>\n",
       "      <td>23.000000</td>\n",
       "    </tr>\n",
       "    <tr>\n",
       "      <th>25%</th>\n",
       "      <td>76.966829</td>\n",
       "      <td>2015.0</td>\n",
       "      <td>1.000000</td>\n",
       "      <td>1.000000</td>\n",
       "      <td>1.000000</td>\n",
       "      <td>142.000000</td>\n",
       "      <td>37.200000</td>\n",
       "      <td>85.00000</td>\n",
       "      <td>148.500000</td>\n",
       "      <td>19.000000</td>\n",
       "      <td>14.000000</td>\n",
       "      <td>12.400000</td>\n",
       "      <td>98.000000</td>\n",
       "      <td>60.000000</td>\n",
       "    </tr>\n",
       "    <tr>\n",
       "      <th>50%</th>\n",
       "      <td>99.963287</td>\n",
       "      <td>2015.0</td>\n",
       "      <td>2.000000</td>\n",
       "      <td>2.000000</td>\n",
       "      <td>1.000000</td>\n",
       "      <td>158.700000</td>\n",
       "      <td>50.700000</td>\n",
       "      <td>91.00000</td>\n",
       "      <td>170.000000</td>\n",
       "      <td>24.000000</td>\n",
       "      <td>20.000000</td>\n",
       "      <td>13.200000</td>\n",
       "      <td>105.000000</td>\n",
       "      <td>62.000000</td>\n",
       "    </tr>\n",
       "    <tr>\n",
       "      <th>75%</th>\n",
       "      <td>133.231158</td>\n",
       "      <td>2015.0</td>\n",
       "      <td>3.000000</td>\n",
       "      <td>3.000000</td>\n",
       "      <td>3.000000</td>\n",
       "      <td>167.200000</td>\n",
       "      <td>60.600000</td>\n",
       "      <td>99.00000</td>\n",
       "      <td>191.000000</td>\n",
       "      <td>30.000000</td>\n",
       "      <td>32.000000</td>\n",
       "      <td>13.675000</td>\n",
       "      <td>112.000000</td>\n",
       "      <td>69.000000</td>\n",
       "    </tr>\n",
       "    <tr>\n",
       "      <th>max</th>\n",
       "      <td>248.300844</td>\n",
       "      <td>2015.0</td>\n",
       "      <td>3.000000</td>\n",
       "      <td>6.000000</td>\n",
       "      <td>15.000000</td>\n",
       "      <td>194.200000</td>\n",
       "      <td>130.700000</td>\n",
       "      <td>132.00000</td>\n",
       "      <td>300.000000</td>\n",
       "      <td>186.000000</td>\n",
       "      <td>272.000000</td>\n",
       "      <td>15.700000</td>\n",
       "      <td>180.000000</td>\n",
       "      <td>98.000000</td>\n",
       "    </tr>\n",
       "  </tbody>\n",
       "</table>\n",
       "</div>"
      ],
      "text/plain": [
       "             최종가중치     학년도         학교급별           학년            반  \\\n",
       "count  9686.000000  9686.0  9686.000000  9686.000000  9686.000000   \n",
       "mean    104.894487  2015.0     1.995767     2.567933     2.659096   \n",
       "std      39.376988     0.0     0.856499     1.414243     2.601067   \n",
       "min      23.325794  2015.0     1.000000     1.000000     1.000000   \n",
       "25%      76.966829  2015.0     1.000000     1.000000     1.000000   \n",
       "50%      99.963287  2015.0     2.000000     2.000000     1.000000   \n",
       "75%     133.231158  2015.0     3.000000     3.000000     3.000000   \n",
       "max     248.300844  2015.0     3.000000     6.000000    15.000000   \n",
       "\n",
       "                 키          몸무게  혈당식전(mgdl)  총콜레스테롤(mgdl)  간기능(AST)단위(UL)  \\\n",
       "count  9686.000000  9682.000000   338.00000    339.000000      336.000000   \n",
       "mean    154.564444    50.207591    92.14497    173.516519       27.824405   \n",
       "std      16.968590    17.075953    10.49571     32.567571       19.327395   \n",
       "min     107.700000    15.900000    65.00000    102.000000       11.000000   \n",
       "25%     142.000000    37.200000    85.00000    148.500000       19.000000   \n",
       "50%     158.700000    50.700000    91.00000    170.000000       24.000000   \n",
       "75%     167.200000    60.600000    99.00000    191.000000       30.000000   \n",
       "max     194.200000   130.700000   132.00000    300.000000      186.000000   \n",
       "\n",
       "       간기능(ALT)단위(UL)    혈색소(gdl)          수축기          이완기  \n",
       "count      337.000000  578.000000  3025.000000  3025.000000  \n",
       "mean        30.311573   12.976990   104.830083    62.987438  \n",
       "std         32.191960    1.092454    12.661348     7.948402  \n",
       "min          8.000000    9.000000    65.000000    23.000000  \n",
       "25%         14.000000   12.400000    98.000000    60.000000  \n",
       "50%         20.000000   13.200000   105.000000    62.000000  \n",
       "75%         32.000000   13.675000   112.000000    69.000000  \n",
       "max        272.000000   15.700000   180.000000    98.000000  "
      ]
     },
     "execution_count": 4,
     "metadata": {},
     "output_type": "execute_result"
    }
   ],
   "source": [
    "df.describe()   # 기술통계 확인"
   ]
  },
  {
   "cell_type": "code",
   "execution_count": 5,
   "metadata": {},
   "outputs": [
    {
     "data": {
      "text/plain": [
       "고유식별번호(ID)           0\n",
       "최종가중치                0\n",
       "학교고유번호(ID)           0\n",
       "도시규모                 0\n",
       "도시규모별분석용             0\n",
       "학년도                  0\n",
       "광역시도                 0\n",
       "시도별                  0\n",
       "학교급별                 0\n",
       "학교명                  0\n",
       "공학여부                 0\n",
       "학년                   0\n",
       "반                    0\n",
       "성별                   0\n",
       "건강검진일                0\n",
       "키                    0\n",
       "몸무게                  4\n",
       "혈당식전(mgdl)        9348\n",
       "총콜레스테롤(mgdl)      9347\n",
       "간기능(AST)단위(UL)    9350\n",
       "간기능(ALT)단위(UL)    9349\n",
       "혈색소(gdl)          9108\n",
       "간염검사              8855\n",
       "수축기               6661\n",
       "이완기               6661\n",
       "dtype: int64"
      ]
     },
     "execution_count": 5,
     "metadata": {},
     "output_type": "execute_result"
    }
   ],
   "source": [
    "# 필요한 컬럼 추출을 하기 전에 결측치를 확인\n",
    "df.isnull().sum()   # 결측치 확인"
   ]
  },
  {
   "cell_type": "markdown",
   "metadata": {},
   "source": [
    "위에 생성된 데이터를 확인 했을 때 키 몸무게 외에 다른 측정 값들은 전체9686 중에 빈 데이터가 많아서 제거하는 방법을 선택해야 할 것으로 판단됨\n",
    "- 사용하지 않을 컬럼 제거 \n",
    "- 빈 데이터가 4개 있는 몸무게 정보를 채우거나 제거하기  "
   ]
  },
  {
   "cell_type": "code",
   "execution_count": 6,
   "metadata": {},
   "outputs": [
    {
     "data": {
      "text/html": [
       "<div>\n",
       "<style scoped>\n",
       "    .dataframe tbody tr th:only-of-type {\n",
       "        vertical-align: middle;\n",
       "    }\n",
       "\n",
       "    .dataframe tbody tr th {\n",
       "        vertical-align: top;\n",
       "    }\n",
       "\n",
       "    .dataframe thead th {\n",
       "        text-align: right;\n",
       "    }\n",
       "</style>\n",
       "<table border=\"1\" class=\"dataframe\">\n",
       "  <thead>\n",
       "    <tr style=\"text-align: right;\">\n",
       "      <th></th>\n",
       "      <th>학교고유번호(ID)</th>\n",
       "      <th>광역시도</th>\n",
       "      <th>학교명</th>\n",
       "      <th>학년</th>\n",
       "      <th>성별</th>\n",
       "      <th>키</th>\n",
       "      <th>몸무게</th>\n",
       "    </tr>\n",
       "  </thead>\n",
       "  <tbody>\n",
       "    <tr>\n",
       "      <th>0</th>\n",
       "      <td>Aa01</td>\n",
       "      <td>서울</td>\n",
       "      <td>서울대도초등학교</td>\n",
       "      <td>1</td>\n",
       "      <td>남</td>\n",
       "      <td>125.8</td>\n",
       "      <td>27.3</td>\n",
       "    </tr>\n",
       "    <tr>\n",
       "      <th>1</th>\n",
       "      <td>Aa01</td>\n",
       "      <td>서울</td>\n",
       "      <td>서울대도초등학교</td>\n",
       "      <td>1</td>\n",
       "      <td>남</td>\n",
       "      <td>124.3</td>\n",
       "      <td>25.4</td>\n",
       "    </tr>\n",
       "    <tr>\n",
       "      <th>2</th>\n",
       "      <td>Aa01</td>\n",
       "      <td>서울</td>\n",
       "      <td>서울대도초등학교</td>\n",
       "      <td>1</td>\n",
       "      <td>남</td>\n",
       "      <td>119.2</td>\n",
       "      <td>23.5</td>\n",
       "    </tr>\n",
       "    <tr>\n",
       "      <th>3</th>\n",
       "      <td>Aa01</td>\n",
       "      <td>서울</td>\n",
       "      <td>서울대도초등학교</td>\n",
       "      <td>1</td>\n",
       "      <td>남</td>\n",
       "      <td>115.0</td>\n",
       "      <td>20.0</td>\n",
       "    </tr>\n",
       "    <tr>\n",
       "      <th>4</th>\n",
       "      <td>Aa01</td>\n",
       "      <td>서울</td>\n",
       "      <td>서울대도초등학교</td>\n",
       "      <td>1</td>\n",
       "      <td>남</td>\n",
       "      <td>120.0</td>\n",
       "      <td>33.5</td>\n",
       "    </tr>\n",
       "  </tbody>\n",
       "</table>\n",
       "</div>"
      ],
      "text/plain": [
       "  학교고유번호(ID) 광역시도       학교명  학년 성별      키   몸무게\n",
       "0       Aa01   서울  서울대도초등학교   1  남  125.8  27.3\n",
       "1       Aa01   서울  서울대도초등학교   1  남  124.3  25.4\n",
       "2       Aa01   서울  서울대도초등학교   1  남  119.2  23.5\n",
       "3       Aa01   서울  서울대도초등학교   1  남  115.0  20.0\n",
       "4       Aa01   서울  서울대도초등학교   1  남  120.0  33.5"
      ]
     },
     "execution_count": 6,
     "metadata": {},
     "output_type": "execute_result"
    }
   ],
   "source": [
    "# 실제 사용할 데이터만 추출 \n",
    "data = df.loc[:, ['학교고유번호(ID)','광역시도',\t'학교명',\t'학년',\t'성별',\t'키',\t'몸무게']]\n",
    "data.head()"
   ]
  },
  {
   "cell_type": "code",
   "execution_count": 7,
   "metadata": {},
   "outputs": [
    {
     "data": {
      "text/html": [
       "<div>\n",
       "<style scoped>\n",
       "    .dataframe tbody tr th:only-of-type {\n",
       "        vertical-align: middle;\n",
       "    }\n",
       "\n",
       "    .dataframe tbody tr th {\n",
       "        vertical-align: top;\n",
       "    }\n",
       "\n",
       "    .dataframe thead th {\n",
       "        text-align: right;\n",
       "    }\n",
       "</style>\n",
       "<table border=\"1\" class=\"dataframe\">\n",
       "  <thead>\n",
       "    <tr style=\"text-align: right;\">\n",
       "      <th></th>\n",
       "      <th>학교고유번호</th>\n",
       "      <th>광역시도</th>\n",
       "      <th>학교명</th>\n",
       "      <th>학년</th>\n",
       "      <th>성별</th>\n",
       "      <th>키</th>\n",
       "      <th>몸무게</th>\n",
       "    </tr>\n",
       "  </thead>\n",
       "  <tbody>\n",
       "    <tr>\n",
       "      <th>0</th>\n",
       "      <td>Aa01</td>\n",
       "      <td>서울</td>\n",
       "      <td>서울대도초등학교</td>\n",
       "      <td>1</td>\n",
       "      <td>남</td>\n",
       "      <td>125.8</td>\n",
       "      <td>27.3</td>\n",
       "    </tr>\n",
       "    <tr>\n",
       "      <th>1</th>\n",
       "      <td>Aa01</td>\n",
       "      <td>서울</td>\n",
       "      <td>서울대도초등학교</td>\n",
       "      <td>1</td>\n",
       "      <td>남</td>\n",
       "      <td>124.3</td>\n",
       "      <td>25.4</td>\n",
       "    </tr>\n",
       "    <tr>\n",
       "      <th>2</th>\n",
       "      <td>Aa01</td>\n",
       "      <td>서울</td>\n",
       "      <td>서울대도초등학교</td>\n",
       "      <td>1</td>\n",
       "      <td>남</td>\n",
       "      <td>119.2</td>\n",
       "      <td>23.5</td>\n",
       "    </tr>\n",
       "    <tr>\n",
       "      <th>3</th>\n",
       "      <td>Aa01</td>\n",
       "      <td>서울</td>\n",
       "      <td>서울대도초등학교</td>\n",
       "      <td>1</td>\n",
       "      <td>남</td>\n",
       "      <td>115.0</td>\n",
       "      <td>20.0</td>\n",
       "    </tr>\n",
       "    <tr>\n",
       "      <th>4</th>\n",
       "      <td>Aa01</td>\n",
       "      <td>서울</td>\n",
       "      <td>서울대도초등학교</td>\n",
       "      <td>1</td>\n",
       "      <td>남</td>\n",
       "      <td>120.0</td>\n",
       "      <td>33.5</td>\n",
       "    </tr>\n",
       "  </tbody>\n",
       "</table>\n",
       "</div>"
      ],
      "text/plain": [
       "  학교고유번호 광역시도       학교명  학년 성별      키   몸무게\n",
       "0   Aa01   서울  서울대도초등학교   1  남  125.8  27.3\n",
       "1   Aa01   서울  서울대도초등학교   1  남  124.3  25.4\n",
       "2   Aa01   서울  서울대도초등학교   1  남  119.2  23.5\n",
       "3   Aa01   서울  서울대도초등학교   1  남  115.0  20.0\n",
       "4   Aa01   서울  서울대도초등학교   1  남  120.0  33.5"
      ]
     },
     "execution_count": 7,
     "metadata": {},
     "output_type": "execute_result"
    }
   ],
   "source": [
    "# 컬럼 이름 변경 \n",
    "data.rename(columns={'학교고유번호(ID)':'학교고유번호'}, inplace=True)\n",
    "data.head()"
   ]
  },
  {
   "cell_type": "code",
   "execution_count": 8,
   "metadata": {},
   "outputs": [
    {
     "data": {
      "text/html": [
       "<div>\n",
       "<style scoped>\n",
       "    .dataframe tbody tr th:only-of-type {\n",
       "        vertical-align: middle;\n",
       "    }\n",
       "\n",
       "    .dataframe tbody tr th {\n",
       "        vertical-align: top;\n",
       "    }\n",
       "\n",
       "    .dataframe thead th {\n",
       "        text-align: right;\n",
       "    }\n",
       "</style>\n",
       "<table border=\"1\" class=\"dataframe\">\n",
       "  <thead>\n",
       "    <tr style=\"text-align: right;\">\n",
       "      <th></th>\n",
       "      <th>학교고유번호</th>\n",
       "      <th>광역시도</th>\n",
       "      <th>학교명</th>\n",
       "      <th>학년</th>\n",
       "      <th>성별</th>\n",
       "      <th>키</th>\n",
       "      <th>몸무게</th>\n",
       "      <th>BMI</th>\n",
       "    </tr>\n",
       "  </thead>\n",
       "  <tbody>\n",
       "    <tr>\n",
       "      <th>0</th>\n",
       "      <td>Aa01</td>\n",
       "      <td>서울</td>\n",
       "      <td>서울대도초등학교</td>\n",
       "      <td>1</td>\n",
       "      <td>남</td>\n",
       "      <td>125.8</td>\n",
       "      <td>27.3</td>\n",
       "      <td>17.250487</td>\n",
       "    </tr>\n",
       "    <tr>\n",
       "      <th>1</th>\n",
       "      <td>Aa01</td>\n",
       "      <td>서울</td>\n",
       "      <td>서울대도초등학교</td>\n",
       "      <td>1</td>\n",
       "      <td>남</td>\n",
       "      <td>124.3</td>\n",
       "      <td>25.4</td>\n",
       "      <td>16.439608</td>\n",
       "    </tr>\n",
       "    <tr>\n",
       "      <th>2</th>\n",
       "      <td>Aa01</td>\n",
       "      <td>서울</td>\n",
       "      <td>서울대도초등학교</td>\n",
       "      <td>1</td>\n",
       "      <td>남</td>\n",
       "      <td>119.2</td>\n",
       "      <td>23.5</td>\n",
       "      <td>16.539232</td>\n",
       "    </tr>\n",
       "    <tr>\n",
       "      <th>3</th>\n",
       "      <td>Aa01</td>\n",
       "      <td>서울</td>\n",
       "      <td>서울대도초등학교</td>\n",
       "      <td>1</td>\n",
       "      <td>남</td>\n",
       "      <td>115.0</td>\n",
       "      <td>20.0</td>\n",
       "      <td>15.122873</td>\n",
       "    </tr>\n",
       "    <tr>\n",
       "      <th>4</th>\n",
       "      <td>Aa01</td>\n",
       "      <td>서울</td>\n",
       "      <td>서울대도초등학교</td>\n",
       "      <td>1</td>\n",
       "      <td>남</td>\n",
       "      <td>120.0</td>\n",
       "      <td>33.5</td>\n",
       "      <td>23.263889</td>\n",
       "    </tr>\n",
       "  </tbody>\n",
       "</table>\n",
       "</div>"
      ],
      "text/plain": [
       "  학교고유번호 광역시도       학교명  학년 성별      키   몸무게        BMI\n",
       "0   Aa01   서울  서울대도초등학교   1  남  125.8  27.3  17.250487\n",
       "1   Aa01   서울  서울대도초등학교   1  남  124.3  25.4  16.439608\n",
       "2   Aa01   서울  서울대도초등학교   1  남  119.2  23.5  16.539232\n",
       "3   Aa01   서울  서울대도초등학교   1  남  115.0  20.0  15.122873\n",
       "4   Aa01   서울  서울대도초등학교   1  남  120.0  33.5  23.263889"
      ]
     },
     "execution_count": 8,
     "metadata": {},
     "output_type": "execute_result"
    }
   ],
   "source": [
    "#BMI 항목 추가\n",
    "data['BMI'] = data['몸무게'] / (data['키'] / 100) ** 2\n",
    "data.head()"
   ]
  },
  {
   "cell_type": "code",
   "execution_count": 9,
   "metadata": {},
   "outputs": [
    {
     "data": {
      "text/plain": [
       "array(['Aa01', 'Aa02', 'Aa03', 'Aa04', 'Aa06', 'Aa07', 'Aa08', 'Aa09',\n",
       "       'Aa10', 'Aa11', 'Aa12', 'Aa13', 'Aa14', 'Aa15', 'Aa16', 'Aa17',\n",
       "       'Aa18', 'Aa19', 'Aa20', 'Aa21', 'Aa22', 'Aa23', 'Aa24', 'Aa25',\n",
       "       'Ab01', 'Ab02', 'Ab03', 'Ab04', 'Ab05', 'Ab06', 'Ab07', 'Ab08',\n",
       "       'Ab09', 'Ab10', 'Ab11', 'Ab12', 'Ab13', 'Ab14', 'Ab15', 'Ab16',\n",
       "       'Ab17', 'Ab19', 'Ab20', 'Ab21', 'Ab22', 'Ab23', 'Ab24', 'Ab25',\n",
       "       'Ab26', 'Ab27', 'Ab28', 'Ab29', 'Ab30', 'Ac01', 'Ac02', 'Ac03',\n",
       "       'Ac04', 'Ac05', 'Ac07', 'Ac08', 'Ac09', 'Ac10', 'Ac11', 'Ac12',\n",
       "       'Ac13', 'Ac14', 'Ac15', 'Ac16', 'Ac17', 'Ac18', 'Ac19', 'Ac20',\n",
       "       'Ac21', 'Ac22', 'Ac23', 'Ac24', 'Ac25', 'Ac26', 'Ac27', 'Ac28',\n",
       "       'Ac29', 'Ac30', 'Ac31', 'Ac32', 'Ac33', 'Ac34'], dtype=object)"
      ]
     },
     "execution_count": 9,
     "metadata": {},
     "output_type": "execute_result"
    }
   ],
   "source": [
    "# 유일한 데이터 추출 \n",
    "data['학교고유번호'].unique()  "
   ]
  },
  {
   "cell_type": "markdown",
   "metadata": {},
   "source": [
    "위에 출력 내용에 따른 데이터를 확인하면 Aa로 시작하면 초등학교, Ab로 시작하면 중학교, Ac로 시작하면 고등학교인 것을 학인할 수 있다. "
   ]
  },
  {
   "cell_type": "code",
   "execution_count": 10,
   "metadata": {},
   "outputs": [
    {
     "data": {
      "text/plain": [
       "array(['서울'], dtype=object)"
      ]
     },
     "execution_count": 10,
     "metadata": {},
     "output_type": "execute_result"
    }
   ],
   "source": [
    "# 유일한 데이터 추출 \n",
    "data['광역시도'].unique()\n"
   ]
  },
  {
   "cell_type": "code",
   "execution_count": 11,
   "metadata": {},
   "outputs": [
    {
     "data": {
      "text/plain": [
       "array(['서울대도초등학교', '서울은빛초등학교', '서울구일초등학교', '서울길원초등학교', '서울원촌초등학교',\n",
       "       '서울면동초등학교', '서울성내초등학교', '서울구산초등학교', '서울강명초등학교', '서울삼전초등학교',\n",
       "       '서울난향초등학교', '서울천호초등학교', '서울독산초등학교', '서울쌍문초등학교', '서울영원초등학교',\n",
       "       '경기초등학교', '서울가원초등학교', '서울중목초등학교', '서울신구초등학교', '서울월천초등학교',\n",
       "       '서울삼광초등학교', '서울백산초등학교', '서울풍성초등학교', '서울창천초등학교', '정신여자중학교',\n",
       "       '숙명여자중학교', '서울여자중학교', '배명중학교', '휘문중학교', '동북중학교', '경신중학교', '고척중학교',\n",
       "       '양진중학교', '금옥중학교', '진관중학교', '한천중학교', '창동중학교', '창일중학교', '상봉중학교',\n",
       "       '용강중학교', '창북중학교', '문정중학교', '구룡중학교', '불광중학교', '도곡중학교', '대림중학교',\n",
       "       '강일중학교', '방학중학교', '고덕중학교', '한산중학교', '신연중학교', '태릉중학교', '관악중학교',\n",
       "       '숙명여자고등학교', '대진여자고등학교', '동명여자고등학교', '동국대학교사범대학부속여자고등학교',\n",
       "       '홍익대학교사범대학부속여자고등학교', '성심여자고등학교', '신정여자상업고등학교', '예일디자인고등학교',\n",
       "       '서라벌고등학교', '동북고등학교', '대일고등학교', '문일고등학교', '용산고등학교', '면목고등학교',\n",
       "       '오산고등학교', '영등포고등학교', '명지고등학교', '창동고등학교', '덕수고등학교', '불암고등학교',\n",
       "       '선화예술고등학교', '서울세종고등학교', '청담고등학교', '한영외국어고등학교', '강동고등학교', '세현고등학교',\n",
       "       '신서고등학교', '인덕공업고등학교', '서울문화고등학교', '서울금융고등학교', '고명경영고등학교',\n",
       "       '은평메디텍고등학교', '세종과학고등학교'], dtype=object)"
      ]
     },
     "execution_count": 11,
     "metadata": {},
     "output_type": "execute_result"
    }
   ],
   "source": [
    "# 유일한 데이터 추출 \n",
    "data['학교명'].unique()"
   ]
  },
  {
   "cell_type": "code",
   "execution_count": 12,
   "metadata": {},
   "outputs": [
    {
     "data": {
      "text/plain": [
       "array([1, 2, 3, 4, 5, 6], dtype=int64)"
      ]
     },
     "execution_count": 12,
     "metadata": {},
     "output_type": "execute_result"
    }
   ],
   "source": [
    "# 유일한 데이터 추출\n",
    "data['학년'].unique()"
   ]
  },
  {
   "cell_type": "markdown",
   "metadata": {},
   "source": [
    "지금 데이터 내용을 봐서는 학교별, 초중고별, 남여별로 분석이 가능 + 학년별 "
   ]
  },
  {
   "cell_type": "code",
   "execution_count": 13,
   "metadata": {},
   "outputs": [
    {
     "name": "stdout",
     "output_type": "stream",
     "text": [
      "(3573, 8)\n",
      "  학교고유번호 광역시도       학교명  학년 성별      키   몸무게        BMI\n",
      "0   Aa01   서울  서울대도초등학교   1  남  125.8  27.3  17.250487\n",
      "1   Aa01   서울  서울대도초등학교   1  남  124.3  25.4  16.439608\n",
      "2   Aa01   서울  서울대도초등학교   1  남  119.2  23.5  16.539232\n",
      "3   Aa01   서울  서울대도초등학교   1  남  115.0  20.0  15.122873\n",
      "4   Aa01   서울  서울대도초등학교   1  남  120.0  33.5  23.263889\n"
     ]
    }
   ],
   "source": [
    "# 특정 문자열을 포함하는 경우 추출 (학교고유번호가 Aa로 시작하는 경우 - 초등학교만 추출)\n",
    "elementary = data[data['학교고유번호'].str.startswith('Aa')]\n",
    "print(elementary.shape)   # 형태 확인 (행, 열)\n",
    "print(elementary.head())"
   ]
  },
  {
   "cell_type": "code",
   "execution_count": 14,
   "metadata": {},
   "outputs": [
    {
     "name": "stdout",
     "output_type": "stream",
     "text": [
      "(2581, 8)\n",
      "     학교고유번호 광역시도      학교명  학년 성별      키   몸무게        BMI\n",
      "3573   Ab01   서울  정신여자중학교   1  여  153.7  50.0  21.165195\n",
      "3574   Ab01   서울  정신여자중학교   1  여  156.8  46.5  18.913018\n",
      "3575   Ab01   서울  정신여자중학교   1  여  160.7  47.9  18.548285\n",
      "3576   Ab01   서울  정신여자중학교   1  여  161.8  51.0  19.481085\n",
      "3577   Ab01   서울  정신여자중학교   1  여  157.3  45.0  18.186749\n"
     ]
    }
   ],
   "source": [
    "# 학교고유번호가 Ab로 시작하는 경우 - 중학교만 추출\n",
    "middle = data[data['학교고유번호'].str.startswith('Ab')]\n",
    "print(middle.shape)   # 형태 확인 (행, 열)\n",
    "print(middle.head())"
   ]
  },
  {
   "cell_type": "code",
   "execution_count": 15,
   "metadata": {},
   "outputs": [
    {
     "name": "stdout",
     "output_type": "stream",
     "text": [
      "(3532, 8)\n",
      "     학교고유번호 광역시도       학교명  학년 성별      키   몸무게        BMI\n",
      "6154   Ac01   서울  숙명여자고등학교   1  여  162.3  81.7  31.015945\n",
      "6155   Ac01   서울  숙명여자고등학교   1  여  161.8  59.6  22.766131\n",
      "6156   Ac01   서울  숙명여자고등학교   1  여  162.3  51.0  19.361239\n",
      "6157   Ac01   서울  숙명여자고등학교   1  여  165.2  44.3  16.232434\n",
      "6158   Ac01   서울  숙명여자고등학교   1  여  166.5  51.8  18.685352\n"
     ]
    }
   ],
   "source": [
    "# 학교고유번호가 Ac로 시작하는 경우 - 중학교만 추출\n",
    "high = data[data['학교고유번호'].str.startswith('Ac')]\n",
    "print(high.shape)   # 형태 확인 (행, 열)\n",
    "print(high.head())"
   ]
  },
  {
   "cell_type": "markdown",
   "metadata": {},
   "source": [
    "고등학교 데이터에 대해 분석"
   ]
  },
  {
   "cell_type": "code",
   "execution_count": 16,
   "metadata": {},
   "outputs": [
    {
     "name": "stdout",
     "output_type": "stream",
     "text": [
      "명지고등학교               219\n",
      "서울세종고등학교             218\n",
      "불암고등학교               204\n",
      "청담고등학교               201\n",
      "강동고등학교               135\n",
      "숙명여자고등학교             121\n",
      "창동고등학교               120\n",
      "서라벌고등학교              116\n",
      "선화예술고등학교             115\n",
      "대진여자고등학교             113\n",
      "홍익대학교사범대학부속여자고등학교    109\n",
      "동명여자고등학교             106\n",
      "동국대학교사범대학부속여자고등학교    103\n",
      "용산고등학교               102\n",
      "오산고등학교               100\n",
      "성심여자고등학교              99\n",
      "동북고등학교                99\n",
      "문일고등학교                96\n",
      "신서고등학교                95\n",
      "대일고등학교                94\n",
      "세현고등학교                87\n",
      "영등포고등학교               85\n",
      "한영외국어고등학교             81\n",
      "예일디자인고등학교             79\n",
      "면목고등학교                79\n",
      "서울문화고등학교              75\n",
      "은평메디텍고등학교             75\n",
      "서울금융고등학교              74\n",
      "신정여자상업고등학교            74\n",
      "인덕공업고등학교              74\n",
      "덕수고등학교                73\n",
      "고명경영고등학교              64\n",
      "세종과학고등학교              47\n",
      "Name: 학교명, dtype: int64\n"
     ]
    }
   ],
   "source": [
    "high_count = high['학교명'].value_counts()\n",
    "print(high_count)"
   ]
  },
  {
   "cell_type": "code",
   "execution_count": 17,
   "metadata": {},
   "outputs": [
    {
     "name": "stdout",
     "output_type": "stream",
     "text": [
      "2    1211\n",
      "3    1166\n",
      "1    1155\n",
      "Name: 학년, dtype: int64\n"
     ]
    }
   ],
   "source": [
    "high_count = high['학년'].value_counts()\n",
    "print(high_count)"
   ]
  },
  {
   "cell_type": "code",
   "execution_count": 18,
   "metadata": {},
   "outputs": [
    {
     "name": "stdout",
     "output_type": "stream",
     "text": [
      "여    1777\n",
      "남    1755\n",
      "Name: 성별, dtype: int64\n"
     ]
    }
   ],
   "source": [
    "high_count = high['성별'].value_counts()\n",
    "print(high_count)"
   ]
  }
 ],
 "metadata": {
  "kernelspec": {
   "display_name": "Python 3.11.1 64-bit",
   "language": "python",
   "name": "python3"
  },
  "language_info": {
   "codemirror_mode": {
    "name": "ipython",
    "version": 3
   },
   "file_extension": ".py",
   "mimetype": "text/x-python",
   "name": "python",
   "nbconvert_exporter": "python",
   "pygments_lexer": "ipython3",
   "version": "3.11.1"
  },
  "orig_nbformat": 4,
  "vscode": {
   "interpreter": {
    "hash": "81eef19b52451e11e3f8bf6bc518dd5f147d5a651198624c9c211c83ec7c4923"
   }
  }
 },
 "nbformat": 4,
 "nbformat_minor": 2
}
