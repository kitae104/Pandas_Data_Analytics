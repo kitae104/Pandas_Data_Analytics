{
 "cells": [
  {
   "cell_type": "code",
   "execution_count": 26,
   "metadata": {},
   "outputs": [],
   "source": [
    "# 모듈 추가 \n",
    "import pandas as pd\n",
    "import numpy as np\n",
    "import matplotlib.pyplot as plt\n",
    "from matplotlib import font_manager, rc\n",
    "font_path = \"C:/Windows/Fonts/NGULIM.TTF\"\n",
    "font = font_manager.FontProperties(fname=font_path).get_name()\n",
    "rc('font', family=font)"
   ]
  },
  {
   "cell_type": "code",
   "execution_count": 2,
   "metadata": {},
   "outputs": [
    {
     "name": "stdout",
     "output_type": "stream",
     "text": [
      "(9686, 25)\n",
      "    고유식별번호(ID)       최종가중치 학교고유번호(ID)      도시규모 도시규모별분석용   학년도 광역시도       시도별  \\\n",
      "0  Aa011남10101  169.550665       Aa01  대도시/중소도시   특별/광역시  2015   서울  서울특별시교육청   \n",
      "1  Aa011남10102  169.550665       Aa01  대도시/중소도시   특별/광역시  2015   서울  서울특별시교육청   \n",
      "2  Aa011남10103  169.550665       Aa01  대도시/중소도시   특별/광역시  2015   서울  서울특별시교육청   \n",
      "3  Aa011남10104  169.550665       Aa01  대도시/중소도시   특별/광역시  2015   서울  서울특별시교육청   \n",
      "4  Aa011남10105  169.550665       Aa01  대도시/중소도시   특별/광역시  2015   서울  서울특별시교육청   \n",
      "\n",
      "   학교급별       학교명  ...      키   몸무게  혈당식전(mgdl) 총콜레스테롤(mgdl) 간기능(AST)단위(UL)  \\\n",
      "0     1  서울대도초등학교  ...  125.8  27.3         NaN          NaN            NaN   \n",
      "1     1  서울대도초등학교  ...  124.3  25.4         NaN          NaN            NaN   \n",
      "2     1  서울대도초등학교  ...  119.2  23.5         NaN          NaN            NaN   \n",
      "3     1  서울대도초등학교  ...  115.0  20.0         NaN          NaN            NaN   \n",
      "4     1  서울대도초등학교  ...  120.0  33.5         NaN          NaN            NaN   \n",
      "\n",
      "   간기능(ALT)단위(UL)  혈색소(gdl)  간염검사    수축기   이완기  \n",
      "0             NaN       NaN   NaN   77.0  58.0  \n",
      "1             NaN       NaN   NaN   83.0  51.0  \n",
      "2             NaN       NaN   NaN  103.0  65.0  \n",
      "3             NaN       NaN   NaN   92.0  66.0  \n",
      "4             NaN       NaN   NaN  102.0  59.0  \n",
      "\n",
      "[5 rows x 25 columns]\n"
     ]
    }
   ],
   "source": [
    "df = pd.read_csv('교육부_학생건강검사.csv')\n",
    "print(df.shape)   # 형태 확인 (행, 열)\n",
    "print(df.head())"
   ]
  },
  {
   "cell_type": "markdown",
   "metadata": {},
   "source": [
    "* 일단 불필요한 데이터 제거 전에 데이터 정보 확인"
   ]
  },
  {
   "cell_type": "code",
   "execution_count": 3,
   "metadata": {},
   "outputs": [
    {
     "name": "stdout",
     "output_type": "stream",
     "text": [
      "<class 'pandas.core.frame.DataFrame'>\n",
      "RangeIndex: 9686 entries, 0 to 9685\n",
      "Data columns (total 25 columns):\n",
      " #   Column          Non-Null Count  Dtype  \n",
      "---  ------          --------------  -----  \n",
      " 0   고유식별번호(ID)      9686 non-null   object \n",
      " 1   최종가중치           9686 non-null   float64\n",
      " 2   학교고유번호(ID)      9686 non-null   object \n",
      " 3   도시규모            9686 non-null   object \n",
      " 4   도시규모별분석용        9686 non-null   object \n",
      " 5   학년도             9686 non-null   int64  \n",
      " 6   광역시도            9686 non-null   object \n",
      " 7   시도별             9686 non-null   object \n",
      " 8   학교급별            9686 non-null   int64  \n",
      " 9   학교명             9686 non-null   object \n",
      " 10  공학여부            9686 non-null   object \n",
      " 11  학년              9686 non-null   int64  \n",
      " 12  반               9686 non-null   int64  \n",
      " 13  성별              9686 non-null   object \n",
      " 14  건강검진일           9686 non-null   object \n",
      " 15  키               9686 non-null   float64\n",
      " 16  몸무게             9682 non-null   float64\n",
      " 17  혈당식전(mgdl)      338 non-null    float64\n",
      " 18  총콜레스테롤(mgdl)    339 non-null    float64\n",
      " 19  간기능(AST)단위(UL)  336 non-null    float64\n",
      " 20  간기능(ALT)단위(UL)  337 non-null    float64\n",
      " 21  혈색소(gdl)        578 non-null    float64\n",
      " 22  간염검사            831 non-null    object \n",
      " 23  수축기             3025 non-null   float64\n",
      " 24  이완기             3025 non-null   float64\n",
      "dtypes: float64(10), int64(4), object(11)\n",
      "memory usage: 1.8+ MB\n"
     ]
    }
   ],
   "source": [
    "df.info()   # 데이터 정보 확인 - 결측치 확인 및 데이터 타입 확인"
   ]
  },
  {
   "cell_type": "markdown",
   "metadata": {},
   "source": [
    "- 17  혈당식전(mgdl)      338 non-null    float64\n",
    "- 18  총콜레스테롤(mgdl)    339 non-null    float64\n",
    "- 19  간기능(AST)단위(UL)  336 non-null    float64"
   ]
  },
  {
   "cell_type": "code",
   "execution_count": 4,
   "metadata": {},
   "outputs": [
    {
     "data": {
      "text/html": [
       "<div>\n",
       "<style scoped>\n",
       "    .dataframe tbody tr th:only-of-type {\n",
       "        vertical-align: middle;\n",
       "    }\n",
       "\n",
       "    .dataframe tbody tr th {\n",
       "        vertical-align: top;\n",
       "    }\n",
       "\n",
       "    .dataframe thead th {\n",
       "        text-align: right;\n",
       "    }\n",
       "</style>\n",
       "<table border=\"1\" class=\"dataframe\">\n",
       "  <thead>\n",
       "    <tr style=\"text-align: right;\">\n",
       "      <th></th>\n",
       "      <th>학교고유번호(ID)</th>\n",
       "      <th>광역시도</th>\n",
       "      <th>학교명</th>\n",
       "      <th>학년</th>\n",
       "      <th>성별</th>\n",
       "      <th>키</th>\n",
       "      <th>몸무게</th>\n",
       "      <th>혈당식전(mgdl)</th>\n",
       "      <th>총콜레스테롤(mgdl)</th>\n",
       "      <th>간기능(AST)단위(UL)</th>\n",
       "    </tr>\n",
       "  </thead>\n",
       "  <tbody>\n",
       "    <tr>\n",
       "      <th>0</th>\n",
       "      <td>Aa01</td>\n",
       "      <td>서울</td>\n",
       "      <td>서울대도초등학교</td>\n",
       "      <td>1</td>\n",
       "      <td>남</td>\n",
       "      <td>125.8</td>\n",
       "      <td>27.3</td>\n",
       "      <td>NaN</td>\n",
       "      <td>NaN</td>\n",
       "      <td>NaN</td>\n",
       "    </tr>\n",
       "    <tr>\n",
       "      <th>1</th>\n",
       "      <td>Aa01</td>\n",
       "      <td>서울</td>\n",
       "      <td>서울대도초등학교</td>\n",
       "      <td>1</td>\n",
       "      <td>남</td>\n",
       "      <td>124.3</td>\n",
       "      <td>25.4</td>\n",
       "      <td>NaN</td>\n",
       "      <td>NaN</td>\n",
       "      <td>NaN</td>\n",
       "    </tr>\n",
       "    <tr>\n",
       "      <th>2</th>\n",
       "      <td>Aa01</td>\n",
       "      <td>서울</td>\n",
       "      <td>서울대도초등학교</td>\n",
       "      <td>1</td>\n",
       "      <td>남</td>\n",
       "      <td>119.2</td>\n",
       "      <td>23.5</td>\n",
       "      <td>NaN</td>\n",
       "      <td>NaN</td>\n",
       "      <td>NaN</td>\n",
       "    </tr>\n",
       "    <tr>\n",
       "      <th>3</th>\n",
       "      <td>Aa01</td>\n",
       "      <td>서울</td>\n",
       "      <td>서울대도초등학교</td>\n",
       "      <td>1</td>\n",
       "      <td>남</td>\n",
       "      <td>115.0</td>\n",
       "      <td>20.0</td>\n",
       "      <td>NaN</td>\n",
       "      <td>NaN</td>\n",
       "      <td>NaN</td>\n",
       "    </tr>\n",
       "    <tr>\n",
       "      <th>4</th>\n",
       "      <td>Aa01</td>\n",
       "      <td>서울</td>\n",
       "      <td>서울대도초등학교</td>\n",
       "      <td>1</td>\n",
       "      <td>남</td>\n",
       "      <td>120.0</td>\n",
       "      <td>33.5</td>\n",
       "      <td>NaN</td>\n",
       "      <td>NaN</td>\n",
       "      <td>NaN</td>\n",
       "    </tr>\n",
       "  </tbody>\n",
       "</table>\n",
       "</div>"
      ],
      "text/plain": [
       "  학교고유번호(ID) 광역시도       학교명  학년 성별      키   몸무게  혈당식전(mgdl)  총콜레스테롤(mgdl)  \\\n",
       "0       Aa01   서울  서울대도초등학교   1  남  125.8  27.3         NaN           NaN   \n",
       "1       Aa01   서울  서울대도초등학교   1  남  124.3  25.4         NaN           NaN   \n",
       "2       Aa01   서울  서울대도초등학교   1  남  119.2  23.5         NaN           NaN   \n",
       "3       Aa01   서울  서울대도초등학교   1  남  115.0  20.0         NaN           NaN   \n",
       "4       Aa01   서울  서울대도초등학교   1  남  120.0  33.5         NaN           NaN   \n",
       "\n",
       "   간기능(AST)단위(UL)  \n",
       "0             NaN  \n",
       "1             NaN  \n",
       "2             NaN  \n",
       "3             NaN  \n",
       "4             NaN  "
      ]
     },
     "execution_count": 4,
     "metadata": {},
     "output_type": "execute_result"
    }
   ],
   "source": [
    "# 실제 사용할 데이터만 추출 \n",
    "data = df.loc[:, ['학교고유번호(ID)','광역시도',\t'학교명',\t'학년',\t'성별',\t'키',\t'몸무게', '혈당식전(mgdl)', '총콜레스테롤(mgdl)', '간기능(AST)단위(UL)']]\n",
    "data.head()"
   ]
  },
  {
   "cell_type": "code",
   "execution_count": 5,
   "metadata": {},
   "outputs": [
    {
     "data": {
      "text/html": [
       "<div>\n",
       "<style scoped>\n",
       "    .dataframe tbody tr th:only-of-type {\n",
       "        vertical-align: middle;\n",
       "    }\n",
       "\n",
       "    .dataframe tbody tr th {\n",
       "        vertical-align: top;\n",
       "    }\n",
       "\n",
       "    .dataframe thead th {\n",
       "        text-align: right;\n",
       "    }\n",
       "</style>\n",
       "<table border=\"1\" class=\"dataframe\">\n",
       "  <thead>\n",
       "    <tr style=\"text-align: right;\">\n",
       "      <th></th>\n",
       "      <th>학교고유번호</th>\n",
       "      <th>광역시도</th>\n",
       "      <th>학교명</th>\n",
       "      <th>학년</th>\n",
       "      <th>성별</th>\n",
       "      <th>키</th>\n",
       "      <th>몸무게</th>\n",
       "      <th>혈당식전</th>\n",
       "      <th>총콜레스테롤</th>\n",
       "      <th>간기능</th>\n",
       "    </tr>\n",
       "  </thead>\n",
       "  <tbody>\n",
       "    <tr>\n",
       "      <th>0</th>\n",
       "      <td>Aa01</td>\n",
       "      <td>서울</td>\n",
       "      <td>서울대도초등학교</td>\n",
       "      <td>1</td>\n",
       "      <td>남</td>\n",
       "      <td>125.8</td>\n",
       "      <td>27.3</td>\n",
       "      <td>NaN</td>\n",
       "      <td>NaN</td>\n",
       "      <td>NaN</td>\n",
       "    </tr>\n",
       "    <tr>\n",
       "      <th>1</th>\n",
       "      <td>Aa01</td>\n",
       "      <td>서울</td>\n",
       "      <td>서울대도초등학교</td>\n",
       "      <td>1</td>\n",
       "      <td>남</td>\n",
       "      <td>124.3</td>\n",
       "      <td>25.4</td>\n",
       "      <td>NaN</td>\n",
       "      <td>NaN</td>\n",
       "      <td>NaN</td>\n",
       "    </tr>\n",
       "    <tr>\n",
       "      <th>2</th>\n",
       "      <td>Aa01</td>\n",
       "      <td>서울</td>\n",
       "      <td>서울대도초등학교</td>\n",
       "      <td>1</td>\n",
       "      <td>남</td>\n",
       "      <td>119.2</td>\n",
       "      <td>23.5</td>\n",
       "      <td>NaN</td>\n",
       "      <td>NaN</td>\n",
       "      <td>NaN</td>\n",
       "    </tr>\n",
       "    <tr>\n",
       "      <th>3</th>\n",
       "      <td>Aa01</td>\n",
       "      <td>서울</td>\n",
       "      <td>서울대도초등학교</td>\n",
       "      <td>1</td>\n",
       "      <td>남</td>\n",
       "      <td>115.0</td>\n",
       "      <td>20.0</td>\n",
       "      <td>NaN</td>\n",
       "      <td>NaN</td>\n",
       "      <td>NaN</td>\n",
       "    </tr>\n",
       "    <tr>\n",
       "      <th>4</th>\n",
       "      <td>Aa01</td>\n",
       "      <td>서울</td>\n",
       "      <td>서울대도초등학교</td>\n",
       "      <td>1</td>\n",
       "      <td>남</td>\n",
       "      <td>120.0</td>\n",
       "      <td>33.5</td>\n",
       "      <td>NaN</td>\n",
       "      <td>NaN</td>\n",
       "      <td>NaN</td>\n",
       "    </tr>\n",
       "  </tbody>\n",
       "</table>\n",
       "</div>"
      ],
      "text/plain": [
       "  학교고유번호 광역시도       학교명  학년 성별      키   몸무게  혈당식전  총콜레스테롤  간기능\n",
       "0   Aa01   서울  서울대도초등학교   1  남  125.8  27.3   NaN     NaN  NaN\n",
       "1   Aa01   서울  서울대도초등학교   1  남  124.3  25.4   NaN     NaN  NaN\n",
       "2   Aa01   서울  서울대도초등학교   1  남  119.2  23.5   NaN     NaN  NaN\n",
       "3   Aa01   서울  서울대도초등학교   1  남  115.0  20.0   NaN     NaN  NaN\n",
       "4   Aa01   서울  서울대도초등학교   1  남  120.0  33.5   NaN     NaN  NaN"
      ]
     },
     "execution_count": 5,
     "metadata": {},
     "output_type": "execute_result"
    }
   ],
   "source": [
    "# 컬럼 이름 변경 \n",
    "data.rename(columns={'학교고유번호(ID)':'학교고유번호', '혈당식전(mgdl)':'혈당식전', '총콜레스테롤(mgdl)':'총콜레스테롤', '간기능(AST)단위(UL)':'간기능'}, inplace=True)\n",
    "data.head()"
   ]
  },
  {
   "cell_type": "markdown",
   "metadata": {},
   "source": [
    "혈당식전 데이터가 있는 경우만 추출 - 338 개의 데이터에 대한 분석 "
   ]
  },
  {
   "cell_type": "code",
   "execution_count": 6,
   "metadata": {},
   "outputs": [
    {
     "name": "stdout",
     "output_type": "stream",
     "text": [
      "(338, 10)\n",
      "    학교고유번호 광역시도       학교명  학년 성별      키   몸무게   혈당식전  총콜레스테롤   간기능\n",
      "113   Aa01   서울  서울대도초등학교   4  남  145.3  52.2  102.0   177.0  21.0\n",
      "116   Aa01   서울  서울대도초등학교   4  남  141.0  45.0   94.0   188.0  24.0\n",
      "117   Aa01   서울  서울대도초등학교   4  남  133.5  37.5   94.0   144.0  30.0\n",
      "121   Aa01   서울  서울대도초등학교   4  남  140.0  55.0  101.0   185.0  28.0\n",
      "122   Aa01   서울  서울대도초등학교   4  남  136.2  48.0   93.0   171.0  22.0\n"
     ]
    }
   ],
   "source": [
    "# 형당식전이 null인 데이터 제거\n",
    "data2 = data[data['혈당식전'].notnull()]\n",
    "print(data2.shape)\n",
    "print(data2.head())\n"
   ]
  },
  {
   "cell_type": "code",
   "execution_count": 7,
   "metadata": {},
   "outputs": [
    {
     "name": "stderr",
     "output_type": "stream",
     "text": [
      "C:\\Users\\UserK\\AppData\\Local\\Temp\\ipykernel_10656\\1337148542.py:2: SettingWithCopyWarning: \n",
      "A value is trying to be set on a copy of a slice from a DataFrame.\n",
      "Try using .loc[row_indexer,col_indexer] = value instead\n",
      "\n",
      "See the caveats in the documentation: https://pandas.pydata.org/pandas-docs/stable/user_guide/indexing.html#returning-a-view-versus-a-copy\n",
      "  data2['BMI'] = data2['몸무게'] / (data2['키'] / 100) ** 2\n"
     ]
    },
    {
     "data": {
      "text/html": [
       "<div>\n",
       "<style scoped>\n",
       "    .dataframe tbody tr th:only-of-type {\n",
       "        vertical-align: middle;\n",
       "    }\n",
       "\n",
       "    .dataframe tbody tr th {\n",
       "        vertical-align: top;\n",
       "    }\n",
       "\n",
       "    .dataframe thead th {\n",
       "        text-align: right;\n",
       "    }\n",
       "</style>\n",
       "<table border=\"1\" class=\"dataframe\">\n",
       "  <thead>\n",
       "    <tr style=\"text-align: right;\">\n",
       "      <th></th>\n",
       "      <th>학교고유번호</th>\n",
       "      <th>광역시도</th>\n",
       "      <th>학교명</th>\n",
       "      <th>학년</th>\n",
       "      <th>성별</th>\n",
       "      <th>키</th>\n",
       "      <th>몸무게</th>\n",
       "      <th>혈당식전</th>\n",
       "      <th>총콜레스테롤</th>\n",
       "      <th>간기능</th>\n",
       "      <th>BMI</th>\n",
       "    </tr>\n",
       "  </thead>\n",
       "  <tbody>\n",
       "    <tr>\n",
       "      <th>113</th>\n",
       "      <td>Aa01</td>\n",
       "      <td>서울</td>\n",
       "      <td>서울대도초등학교</td>\n",
       "      <td>4</td>\n",
       "      <td>남</td>\n",
       "      <td>145.3</td>\n",
       "      <td>52.2</td>\n",
       "      <td>102.0</td>\n",
       "      <td>177.0</td>\n",
       "      <td>21.0</td>\n",
       "      <td>24.725169</td>\n",
       "    </tr>\n",
       "    <tr>\n",
       "      <th>116</th>\n",
       "      <td>Aa01</td>\n",
       "      <td>서울</td>\n",
       "      <td>서울대도초등학교</td>\n",
       "      <td>4</td>\n",
       "      <td>남</td>\n",
       "      <td>141.0</td>\n",
       "      <td>45.0</td>\n",
       "      <td>94.0</td>\n",
       "      <td>188.0</td>\n",
       "      <td>24.0</td>\n",
       "      <td>22.634676</td>\n",
       "    </tr>\n",
       "    <tr>\n",
       "      <th>117</th>\n",
       "      <td>Aa01</td>\n",
       "      <td>서울</td>\n",
       "      <td>서울대도초등학교</td>\n",
       "      <td>4</td>\n",
       "      <td>남</td>\n",
       "      <td>133.5</td>\n",
       "      <td>37.5</td>\n",
       "      <td>94.0</td>\n",
       "      <td>144.0</td>\n",
       "      <td>30.0</td>\n",
       "      <td>21.041114</td>\n",
       "    </tr>\n",
       "    <tr>\n",
       "      <th>121</th>\n",
       "      <td>Aa01</td>\n",
       "      <td>서울</td>\n",
       "      <td>서울대도초등학교</td>\n",
       "      <td>4</td>\n",
       "      <td>남</td>\n",
       "      <td>140.0</td>\n",
       "      <td>55.0</td>\n",
       "      <td>101.0</td>\n",
       "      <td>185.0</td>\n",
       "      <td>28.0</td>\n",
       "      <td>28.061224</td>\n",
       "    </tr>\n",
       "    <tr>\n",
       "      <th>122</th>\n",
       "      <td>Aa01</td>\n",
       "      <td>서울</td>\n",
       "      <td>서울대도초등학교</td>\n",
       "      <td>4</td>\n",
       "      <td>남</td>\n",
       "      <td>136.2</td>\n",
       "      <td>48.0</td>\n",
       "      <td>93.0</td>\n",
       "      <td>171.0</td>\n",
       "      <td>22.0</td>\n",
       "      <td>25.875397</td>\n",
       "    </tr>\n",
       "  </tbody>\n",
       "</table>\n",
       "</div>"
      ],
      "text/plain": [
       "    학교고유번호 광역시도       학교명  학년 성별      키   몸무게   혈당식전  총콜레스테롤   간기능        BMI\n",
       "113   Aa01   서울  서울대도초등학교   4  남  145.3  52.2  102.0   177.0  21.0  24.725169\n",
       "116   Aa01   서울  서울대도초등학교   4  남  141.0  45.0   94.0   188.0  24.0  22.634676\n",
       "117   Aa01   서울  서울대도초등학교   4  남  133.5  37.5   94.0   144.0  30.0  21.041114\n",
       "121   Aa01   서울  서울대도초등학교   4  남  140.0  55.0  101.0   185.0  28.0  28.061224\n",
       "122   Aa01   서울  서울대도초등학교   4  남  136.2  48.0   93.0   171.0  22.0  25.875397"
      ]
     },
     "execution_count": 7,
     "metadata": {},
     "output_type": "execute_result"
    }
   ],
   "source": [
    "#BMI 항목 추가\n",
    "data2['BMI'] = data2['몸무게'] / (data2['키'] / 100) ** 2\n",
    "data2.head()"
   ]
  },
  {
   "cell_type": "code",
   "execution_count": 8,
   "metadata": {},
   "outputs": [
    {
     "data": {
      "text/plain": [
       "array(['Aa01', 'Aa02', 'Aa04', 'Aa06', 'Aa08', 'Aa09', 'Aa10', 'Aa11',\n",
       "       'Aa12', 'Aa13', 'Aa14', 'Aa15', 'Aa16', 'Aa17', 'Aa19', 'Aa20',\n",
       "       'Aa21', 'Aa22', 'Aa23', 'Aa25', 'Ab01', 'Ab02', 'Ab03', 'Ab04',\n",
       "       'Ab05', 'Ab06', 'Ab07', 'Ab08', 'Ab09', 'Ab10', 'Ab12', 'Ab13',\n",
       "       'Ab14', 'Ab15', 'Ab16', 'Ab17', 'Ab20', 'Ab21', 'Ab22', 'Ab23',\n",
       "       'Ab24', 'Ab25', 'Ab26', 'Ab27', 'Ab28', 'Ab29', 'Ab30', 'Ac01',\n",
       "       'Ac02', 'Ac03', 'Ac04', 'Ac05', 'Ac07', 'Ac08', 'Ac09', 'Ac10',\n",
       "       'Ac12', 'Ac13', 'Ac14', 'Ac15', 'Ac16', 'Ac17', 'Ac18', 'Ac19',\n",
       "       'Ac20', 'Ac21', 'Ac22', 'Ac23', 'Ac24', 'Ac25', 'Ac26', 'Ac27',\n",
       "       'Ac28', 'Ac29', 'Ac30', 'Ac32', 'Ac33', 'Ac34'], dtype=object)"
      ]
     },
     "execution_count": 8,
     "metadata": {},
     "output_type": "execute_result"
    }
   ],
   "source": [
    "# 유일한 데이터 추출 \n",
    "data2['학교고유번호'].unique()  "
   ]
  },
  {
   "cell_type": "code",
   "execution_count": 9,
   "metadata": {},
   "outputs": [
    {
     "data": {
      "text/plain": [
       "array(['서울대도초등학교', '서울은빛초등학교', '서울길원초등학교', '서울원촌초등학교', '서울성내초등학교',\n",
       "       '서울구산초등학교', '서울강명초등학교', '서울삼전초등학교', '서울난향초등학교', '서울천호초등학교',\n",
       "       '서울독산초등학교', '서울쌍문초등학교', '서울영원초등학교', '경기초등학교', '서울중목초등학교',\n",
       "       '서울신구초등학교', '서울월천초등학교', '서울삼광초등학교', '서울백산초등학교', '서울창천초등학교',\n",
       "       '정신여자중학교', '숙명여자중학교', '서울여자중학교', '배명중학교', '휘문중학교', '동북중학교',\n",
       "       '경신중학교', '고척중학교', '양진중학교', '금옥중학교', '한천중학교', '창동중학교', '창일중학교',\n",
       "       '상봉중학교', '용강중학교', '창북중학교', '구룡중학교', '불광중학교', '도곡중학교', '대림중학교',\n",
       "       '강일중학교', '방학중학교', '고덕중학교', '한산중학교', '신연중학교', '태릉중학교', '관악중학교',\n",
       "       '숙명여자고등학교', '대진여자고등학교', '동명여자고등학교', '동국대학교사범대학부속여자고등학교',\n",
       "       '홍익대학교사범대학부속여자고등학교', '성심여자고등학교', '신정여자상업고등학교', '예일디자인고등학교',\n",
       "       '서라벌고등학교', '대일고등학교', '문일고등학교', '용산고등학교', '면목고등학교', '오산고등학교',\n",
       "       '영등포고등학교', '명지고등학교', '창동고등학교', '덕수고등학교', '불암고등학교', '선화예술고등학교',\n",
       "       '서울세종고등학교', '청담고등학교', '한영외국어고등학교', '강동고등학교', '세현고등학교', '신서고등학교',\n",
       "       '인덕공업고등학교', '서울문화고등학교', '고명경영고등학교', '은평메디텍고등학교', '세종과학고등학교'],\n",
       "      dtype=object)"
      ]
     },
     "execution_count": 9,
     "metadata": {},
     "output_type": "execute_result"
    }
   ],
   "source": [
    "# 유일한 데이터 추출 \n",
    "data2['학교명'].unique()"
   ]
  },
  {
   "cell_type": "markdown",
   "metadata": {},
   "source": [
    "위에 출력 내용에 따른 데이터를 확인하면 Aa로 시작하면 초등학교, Ab로 시작하면 중학교, Ac로 시작하면 고등학교인 것을 학인할 수 있다. "
   ]
  },
  {
   "cell_type": "code",
   "execution_count": 10,
   "metadata": {},
   "outputs": [
    {
     "name": "stdout",
     "output_type": "stream",
     "text": [
      "명지고등학교       16\n",
      "고명경영고등학교     12\n",
      "은평메디텍고등학교     9\n",
      "서울세종고등학교      9\n",
      "서울대도초등학교      8\n",
      "             ..\n",
      "정신여자중학교       1\n",
      "양진중학교         1\n",
      "서울독산초등학교      1\n",
      "휘문중학교         1\n",
      "한영외국어고등학교     1\n",
      "Name: 학교명, Length: 78, dtype: int64\n"
     ]
    }
   ],
   "source": [
    "school_count = data2['학교명'].value_counts()\n",
    "print(school_count)\n"
   ]
  },
  {
   "cell_type": "code",
   "execution_count": 11,
   "metadata": {},
   "outputs": [
    {
     "name": "stdout",
     "output_type": "stream",
     "text": [
      "(169, 11)\n",
      "     학교고유번호 광역시도       학교명  학년 성별      키   몸무게   혈당식전  총콜레스테롤   간기능        BMI\n",
      "6154   Ac01   서울  숙명여자고등학교   1  여  162.3  81.7   96.0   184.0  15.0  31.015945\n",
      "6161   Ac01   서울  숙명여자고등학교   1  여  155.3  61.3  132.0   163.0  17.0  25.416606\n",
      "6165   Ac01   서울  숙명여자고등학교   1  여  160.4  77.1   95.0   180.0  21.0  29.967164\n",
      "6169   Ac01   서울  숙명여자고등학교   1  여  157.6  65.9   82.0   177.0  17.0  26.532183\n",
      "6181   Ac01   서울  숙명여자고등학교   1  여  169.7  72.4   95.0   222.0  84.0  25.140556\n"
     ]
    }
   ],
   "source": [
    "# 학교고유번호가 Ac로 시작하는 경우 - 고등학생만 추출\n",
    "high = data2[data2['학교고유번호'].str.startswith('Ac')]\n",
    "print(high.shape)   # 형태 확인 (행, 열)\n",
    "print(high.head())"
   ]
  },
  {
   "cell_type": "code",
   "execution_count": 12,
   "metadata": {},
   "outputs": [],
   "source": [
    "# 판단 함수 \n",
    "def determination(bmi):\n",
    "    if bmi < 18.5:\n",
    "        decision = '저체중'\n",
    "    elif bmi < 23:\n",
    "        decision = '정상'\n",
    "    elif bmi < 25:\n",
    "        decision = '과체중'\n",
    "    else:\n",
    "        decision = '비만'\n",
    "    return decision"
   ]
  },
  {
   "cell_type": "code",
   "execution_count": 13,
   "metadata": {},
   "outputs": [
    {
     "name": "stderr",
     "output_type": "stream",
     "text": [
      "C:\\Users\\UserK\\AppData\\Local\\Temp\\ipykernel_10656\\2136972318.py:2: SettingWithCopyWarning: \n",
      "A value is trying to be set on a copy of a slice from a DataFrame.\n",
      "Try using .loc[row_indexer,col_indexer] = value instead\n",
      "\n",
      "See the caveats in the documentation: https://pandas.pydata.org/pandas-docs/stable/user_guide/indexing.html#returning-a-view-versus-a-copy\n",
      "  high['Result'] = high['BMI'].apply(determination)\n"
     ]
    },
    {
     "data": {
      "text/html": [
       "<div>\n",
       "<style scoped>\n",
       "    .dataframe tbody tr th:only-of-type {\n",
       "        vertical-align: middle;\n",
       "    }\n",
       "\n",
       "    .dataframe tbody tr th {\n",
       "        vertical-align: top;\n",
       "    }\n",
       "\n",
       "    .dataframe thead th {\n",
       "        text-align: right;\n",
       "    }\n",
       "</style>\n",
       "<table border=\"1\" class=\"dataframe\">\n",
       "  <thead>\n",
       "    <tr style=\"text-align: right;\">\n",
       "      <th></th>\n",
       "      <th>학교고유번호</th>\n",
       "      <th>광역시도</th>\n",
       "      <th>학교명</th>\n",
       "      <th>학년</th>\n",
       "      <th>성별</th>\n",
       "      <th>키</th>\n",
       "      <th>몸무게</th>\n",
       "      <th>혈당식전</th>\n",
       "      <th>총콜레스테롤</th>\n",
       "      <th>간기능</th>\n",
       "      <th>BMI</th>\n",
       "      <th>Result</th>\n",
       "    </tr>\n",
       "  </thead>\n",
       "  <tbody>\n",
       "    <tr>\n",
       "      <th>6154</th>\n",
       "      <td>Ac01</td>\n",
       "      <td>서울</td>\n",
       "      <td>숙명여자고등학교</td>\n",
       "      <td>1</td>\n",
       "      <td>여</td>\n",
       "      <td>162.3</td>\n",
       "      <td>81.7</td>\n",
       "      <td>96.0</td>\n",
       "      <td>184.0</td>\n",
       "      <td>15.0</td>\n",
       "      <td>31.015945</td>\n",
       "      <td>비만</td>\n",
       "    </tr>\n",
       "    <tr>\n",
       "      <th>6161</th>\n",
       "      <td>Ac01</td>\n",
       "      <td>서울</td>\n",
       "      <td>숙명여자고등학교</td>\n",
       "      <td>1</td>\n",
       "      <td>여</td>\n",
       "      <td>155.3</td>\n",
       "      <td>61.3</td>\n",
       "      <td>132.0</td>\n",
       "      <td>163.0</td>\n",
       "      <td>17.0</td>\n",
       "      <td>25.416606</td>\n",
       "      <td>비만</td>\n",
       "    </tr>\n",
       "    <tr>\n",
       "      <th>6165</th>\n",
       "      <td>Ac01</td>\n",
       "      <td>서울</td>\n",
       "      <td>숙명여자고등학교</td>\n",
       "      <td>1</td>\n",
       "      <td>여</td>\n",
       "      <td>160.4</td>\n",
       "      <td>77.1</td>\n",
       "      <td>95.0</td>\n",
       "      <td>180.0</td>\n",
       "      <td>21.0</td>\n",
       "      <td>29.967164</td>\n",
       "      <td>비만</td>\n",
       "    </tr>\n",
       "    <tr>\n",
       "      <th>6169</th>\n",
       "      <td>Ac01</td>\n",
       "      <td>서울</td>\n",
       "      <td>숙명여자고등학교</td>\n",
       "      <td>1</td>\n",
       "      <td>여</td>\n",
       "      <td>157.6</td>\n",
       "      <td>65.9</td>\n",
       "      <td>82.0</td>\n",
       "      <td>177.0</td>\n",
       "      <td>17.0</td>\n",
       "      <td>26.532183</td>\n",
       "      <td>비만</td>\n",
       "    </tr>\n",
       "    <tr>\n",
       "      <th>6181</th>\n",
       "      <td>Ac01</td>\n",
       "      <td>서울</td>\n",
       "      <td>숙명여자고등학교</td>\n",
       "      <td>1</td>\n",
       "      <td>여</td>\n",
       "      <td>169.7</td>\n",
       "      <td>72.4</td>\n",
       "      <td>95.0</td>\n",
       "      <td>222.0</td>\n",
       "      <td>84.0</td>\n",
       "      <td>25.140556</td>\n",
       "      <td>비만</td>\n",
       "    </tr>\n",
       "  </tbody>\n",
       "</table>\n",
       "</div>"
      ],
      "text/plain": [
       "     학교고유번호 광역시도       학교명  학년 성별      키   몸무게   혈당식전  총콜레스테롤   간기능  \\\n",
       "6154   Ac01   서울  숙명여자고등학교   1  여  162.3  81.7   96.0   184.0  15.0   \n",
       "6161   Ac01   서울  숙명여자고등학교   1  여  155.3  61.3  132.0   163.0  17.0   \n",
       "6165   Ac01   서울  숙명여자고등학교   1  여  160.4  77.1   95.0   180.0  21.0   \n",
       "6169   Ac01   서울  숙명여자고등학교   1  여  157.6  65.9   82.0   177.0  17.0   \n",
       "6181   Ac01   서울  숙명여자고등학교   1  여  169.7  72.4   95.0   222.0  84.0   \n",
       "\n",
       "            BMI Result  \n",
       "6154  31.015945     비만  \n",
       "6161  25.416606     비만  \n",
       "6165  29.967164     비만  \n",
       "6169  26.532183     비만  \n",
       "6181  25.140556     비만  "
      ]
     },
     "execution_count": 13,
     "metadata": {},
     "output_type": "execute_result"
    }
   ],
   "source": [
    "# 판단 함수 적용\n",
    "high['Result'] = high['BMI'].apply(determination)\n",
    "high.head()"
   ]
  },
  {
   "cell_type": "markdown",
   "metadata": {},
   "source": [
    "* 그래프 그리기\n",
    "* BMI와 콜레스테롤 관계 확인하기"
   ]
  },
  {
   "cell_type": "code",
   "execution_count": 14,
   "metadata": {},
   "outputs": [
    {
     "data": {
      "image/png": "[encoded data removed]",
      "text/plain": [
       "<Figure size 640x480 with 1 Axes>"
      ]
     },
     "metadata": {},
     "output_type": "display_data"
    }
   ],
   "source": [
    "plt.scatter(high['BMI'], high['총콜레스테롤'], c=high['BMI'])\n",
    "\n",
    "plt.show()"
   ]
  },
  {
   "cell_type": "markdown",
   "metadata": {},
   "source": [
    "* 인덱스 변경하기\n",
    "- BMI 결과가 비만, 정상, 과체중일 경우 몸무게와 혈당식전과의 관계 확인 하기 "
   ]
  },
  {
   "cell_type": "code",
   "execution_count": 15,
   "metadata": {},
   "outputs": [
    {
     "data": {
      "text/html": [
       "<div>\n",
       "<style scoped>\n",
       "    .dataframe tbody tr th:only-of-type {\n",
       "        vertical-align: middle;\n",
       "    }\n",
       "\n",
       "    .dataframe tbody tr th {\n",
       "        vertical-align: top;\n",
       "    }\n",
       "\n",
       "    .dataframe thead th {\n",
       "        text-align: right;\n",
       "    }\n",
       "</style>\n",
       "<table border=\"1\" class=\"dataframe\">\n",
       "  <thead>\n",
       "    <tr style=\"text-align: right;\">\n",
       "      <th></th>\n",
       "      <th>학교고유번호</th>\n",
       "      <th>광역시도</th>\n",
       "      <th>학교명</th>\n",
       "      <th>학년</th>\n",
       "      <th>성별</th>\n",
       "      <th>키</th>\n",
       "      <th>몸무게</th>\n",
       "      <th>혈당식전</th>\n",
       "      <th>총콜레스테롤</th>\n",
       "      <th>간기능</th>\n",
       "      <th>BMI</th>\n",
       "    </tr>\n",
       "    <tr>\n",
       "      <th>Result</th>\n",
       "      <th></th>\n",
       "      <th></th>\n",
       "      <th></th>\n",
       "      <th></th>\n",
       "      <th></th>\n",
       "      <th></th>\n",
       "      <th></th>\n",
       "      <th></th>\n",
       "      <th></th>\n",
       "      <th></th>\n",
       "      <th></th>\n",
       "    </tr>\n",
       "  </thead>\n",
       "  <tbody>\n",
       "    <tr>\n",
       "      <th>비만</th>\n",
       "      <td>Ac01</td>\n",
       "      <td>서울</td>\n",
       "      <td>숙명여자고등학교</td>\n",
       "      <td>1</td>\n",
       "      <td>여</td>\n",
       "      <td>162.3</td>\n",
       "      <td>81.7</td>\n",
       "      <td>96.0</td>\n",
       "      <td>184.0</td>\n",
       "      <td>15.0</td>\n",
       "      <td>31.015945</td>\n",
       "    </tr>\n",
       "    <tr>\n",
       "      <th>비만</th>\n",
       "      <td>Ac01</td>\n",
       "      <td>서울</td>\n",
       "      <td>숙명여자고등학교</td>\n",
       "      <td>1</td>\n",
       "      <td>여</td>\n",
       "      <td>155.3</td>\n",
       "      <td>61.3</td>\n",
       "      <td>132.0</td>\n",
       "      <td>163.0</td>\n",
       "      <td>17.0</td>\n",
       "      <td>25.416606</td>\n",
       "    </tr>\n",
       "    <tr>\n",
       "      <th>비만</th>\n",
       "      <td>Ac01</td>\n",
       "      <td>서울</td>\n",
       "      <td>숙명여자고등학교</td>\n",
       "      <td>1</td>\n",
       "      <td>여</td>\n",
       "      <td>160.4</td>\n",
       "      <td>77.1</td>\n",
       "      <td>95.0</td>\n",
       "      <td>180.0</td>\n",
       "      <td>21.0</td>\n",
       "      <td>29.967164</td>\n",
       "    </tr>\n",
       "    <tr>\n",
       "      <th>비만</th>\n",
       "      <td>Ac01</td>\n",
       "      <td>서울</td>\n",
       "      <td>숙명여자고등학교</td>\n",
       "      <td>1</td>\n",
       "      <td>여</td>\n",
       "      <td>157.6</td>\n",
       "      <td>65.9</td>\n",
       "      <td>82.0</td>\n",
       "      <td>177.0</td>\n",
       "      <td>17.0</td>\n",
       "      <td>26.532183</td>\n",
       "    </tr>\n",
       "    <tr>\n",
       "      <th>비만</th>\n",
       "      <td>Ac01</td>\n",
       "      <td>서울</td>\n",
       "      <td>숙명여자고등학교</td>\n",
       "      <td>1</td>\n",
       "      <td>여</td>\n",
       "      <td>169.7</td>\n",
       "      <td>72.4</td>\n",
       "      <td>95.0</td>\n",
       "      <td>222.0</td>\n",
       "      <td>84.0</td>\n",
       "      <td>25.140556</td>\n",
       "    </tr>\n",
       "  </tbody>\n",
       "</table>\n",
       "</div>"
      ],
      "text/plain": [
       "       학교고유번호 광역시도       학교명  학년 성별      키   몸무게   혈당식전  총콜레스테롤   간기능  \\\n",
       "Result                                                                  \n",
       "비만       Ac01   서울  숙명여자고등학교   1  여  162.3  81.7   96.0   184.0  15.0   \n",
       "비만       Ac01   서울  숙명여자고등학교   1  여  155.3  61.3  132.0   163.0  17.0   \n",
       "비만       Ac01   서울  숙명여자고등학교   1  여  160.4  77.1   95.0   180.0  21.0   \n",
       "비만       Ac01   서울  숙명여자고등학교   1  여  157.6  65.9   82.0   177.0  17.0   \n",
       "비만       Ac01   서울  숙명여자고등학교   1  여  169.7  72.4   95.0   222.0  84.0   \n",
       "\n",
       "              BMI  \n",
       "Result             \n",
       "비만      31.015945  \n",
       "비만      25.416606  \n",
       "비만      29.967164  \n",
       "비만      26.532183  \n",
       "비만      25.140556  "
      ]
     },
     "execution_count": 15,
     "metadata": {},
     "output_type": "execute_result"
    }
   ],
   "source": [
    "df_all = high.set_index(keys=['Result'], inplace=False)\n",
    "df_all.head()"
   ]
  },
  {
   "cell_type": "code",
   "execution_count": 16,
   "metadata": {},
   "outputs": [
    {
     "data": {
      "text/plain": [
       "Index(['비만', '정상', '과체중'], dtype='object', name='Result')"
      ]
     },
     "execution_count": 16,
     "metadata": {},
     "output_type": "execute_result"
    }
   ],
   "source": [
    "df_all.index.unique()"
   ]
  },
  {
   "cell_type": "code",
   "execution_count": 30,
   "metadata": {},
   "outputs": [],
   "source": [
    "def myScatter (label, color) : \n",
    "    la_data = df_all.loc[label]\n",
    "    plt.scatter(la_data['몸무게'],\n",
    "               la_data['혈당식전'],\n",
    "               c = color,\n",
    "               label = label)"
   ]
  },
  {
   "cell_type": "code",
   "execution_count": 32,
   "metadata": {},
   "outputs": [
    {
     "data": {
      "image/png": "[encoded data removed]",
      "text/plain": [
       "<Figure size 500x500 with 1 Axes>"
      ]
     },
     "metadata": {},
     "output_type": "display_data"
    }
   ],
   "source": [
    "plt.figure(figsize=(5,5))\n",
    "myScatter('비만','purple')\n",
    "myScatter('과체중','red')\n",
    "myScatter('정상','green')\n",
    "#myScatter('저체중','pink')\n",
    "plt.xlabel('몸무게')\n",
    "plt.ylabel('혈당식전')\n",
    "\n",
    "plt.legend()\n",
    "plt.show()"
   ]
  }
 ],
 "metadata": {
  "kernelspec": {
   "display_name": "Python 3.11.1 64-bit",
   "language": "python",
   "name": "python3"
  },
  "language_info": {
   "codemirror_mode": {
    "name": "ipython",
    "version": 3
   },
   "file_extension": ".py",
   "mimetype": "text/x-python",
   "name": "python",
   "nbconvert_exporter": "python",
   "pygments_lexer": "ipython3",
   "version": "3.11.1"
  },
  "orig_nbformat": 4,
  "vscode": {
   "interpreter": {
    "hash": "81eef19b52451e11e3f8bf6bc518dd5f147d5a651198624c9c211c83ec7c4923"
   }
  }
 },
 "nbformat": 4,
 "nbformat_minor": 2
}
