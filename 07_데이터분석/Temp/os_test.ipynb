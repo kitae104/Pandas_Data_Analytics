{
 "cells": [
  {
   "cell_type": "code",
   "execution_count": 1,
   "metadata": {},
   "outputs": [
    {
     "name": "stdout",
     "output_type": "stream",
     "text": [
      "['food_recommender.ipynb', 'food_recommender_단기예보변경_210930_빈칸.ipynb', 'imsi.py', 'openApi.py', 'os_test.ipynb', 'test']\n",
      "e:\\Github\\ML_DEEP_WS\\Pandas_Data_Analytics\\07_데이터분석\\Temp\\test\n"
     ]
    }
   ],
   "source": [
    "import os, glob, sys\n",
    "Fname = input(\"생성할 폴더명을 입력하세요\")\n",
    "os.mkdir(Fname)\n",
    "print(os.listdir())\n",
    "os.chdir(Fname)\n",
    "print(os.getcwd())\n"
   ]
  }
 ],
 "metadata": {
  "kernelspec": {
   "display_name": "Python 3",
   "language": "python",
   "name": "python3"
  },
  "language_info": {
   "codemirror_mode": {
    "name": "ipython",
    "version": 3
   },
   "file_extension": ".py",
   "mimetype": "text/x-python",
   "name": "python",
   "nbconvert_exporter": "python",
   "pygments_lexer": "ipython3",
   "version": "3.11.0"
  },
  "orig_nbformat": 4
 },
 "nbformat": 4,
 "nbformat_minor": 2
}
