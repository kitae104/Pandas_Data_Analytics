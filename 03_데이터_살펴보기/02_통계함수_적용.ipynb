{
 "cells": [
  {
   "cell_type": "markdown",
   "metadata": {},
   "source": [
    "### 통계 함수 적용"
   ]
  },
  {
   "cell_type": "markdown",
   "metadata": {},
   "source": [
    "평균값"
   ]
  },
  {
   "cell_type": "code",
   "execution_count": 1,
   "metadata": {},
   "outputs": [
    {
     "data": {
      "text/html": [
       "<div>\n",
       "<style scoped>\n",
       "    .dataframe tbody tr th:only-of-type {\n",
       "        vertical-align: middle;\n",
       "    }\n",
       "\n",
       "    .dataframe tbody tr th {\n",
       "        vertical-align: top;\n",
       "    }\n",
       "\n",
       "    .dataframe thead th {\n",
       "        text-align: right;\n",
       "    }\n",
       "</style>\n",
       "<table border=\"1\" class=\"dataframe\">\n",
       "  <thead>\n",
       "    <tr style=\"text-align: right;\">\n",
       "      <th></th>\n",
       "      <th>mpg</th>\n",
       "      <th>cylinders</th>\n",
       "      <th>displacement</th>\n",
       "      <th>horsepower</th>\n",
       "      <th>weight</th>\n",
       "      <th>acceleration</th>\n",
       "      <th>model year</th>\n",
       "      <th>origin</th>\n",
       "      <th>name</th>\n",
       "    </tr>\n",
       "  </thead>\n",
       "  <tbody>\n",
       "    <tr>\n",
       "      <th>0</th>\n",
       "      <td>18.0</td>\n",
       "      <td>8</td>\n",
       "      <td>307.0</td>\n",
       "      <td>130.0</td>\n",
       "      <td>3504.0</td>\n",
       "      <td>12.0</td>\n",
       "      <td>70</td>\n",
       "      <td>1</td>\n",
       "      <td>chevrolet chevelle malibu</td>\n",
       "    </tr>\n",
       "    <tr>\n",
       "      <th>1</th>\n",
       "      <td>15.0</td>\n",
       "      <td>8</td>\n",
       "      <td>350.0</td>\n",
       "      <td>165.0</td>\n",
       "      <td>3693.0</td>\n",
       "      <td>11.5</td>\n",
       "      <td>70</td>\n",
       "      <td>1</td>\n",
       "      <td>buick skylark 320</td>\n",
       "    </tr>\n",
       "    <tr>\n",
       "      <th>2</th>\n",
       "      <td>18.0</td>\n",
       "      <td>8</td>\n",
       "      <td>318.0</td>\n",
       "      <td>150.0</td>\n",
       "      <td>3436.0</td>\n",
       "      <td>11.0</td>\n",
       "      <td>70</td>\n",
       "      <td>1</td>\n",
       "      <td>plymouth satellite</td>\n",
       "    </tr>\n",
       "    <tr>\n",
       "      <th>3</th>\n",
       "      <td>16.0</td>\n",
       "      <td>8</td>\n",
       "      <td>304.0</td>\n",
       "      <td>150.0</td>\n",
       "      <td>3433.0</td>\n",
       "      <td>12.0</td>\n",
       "      <td>70</td>\n",
       "      <td>1</td>\n",
       "      <td>amc rebel sst</td>\n",
       "    </tr>\n",
       "    <tr>\n",
       "      <th>4</th>\n",
       "      <td>17.0</td>\n",
       "      <td>8</td>\n",
       "      <td>302.0</td>\n",
       "      <td>140.0</td>\n",
       "      <td>3449.0</td>\n",
       "      <td>10.5</td>\n",
       "      <td>70</td>\n",
       "      <td>1</td>\n",
       "      <td>ford torino</td>\n",
       "    </tr>\n",
       "    <tr>\n",
       "      <th>...</th>\n",
       "      <td>...</td>\n",
       "      <td>...</td>\n",
       "      <td>...</td>\n",
       "      <td>...</td>\n",
       "      <td>...</td>\n",
       "      <td>...</td>\n",
       "      <td>...</td>\n",
       "      <td>...</td>\n",
       "      <td>...</td>\n",
       "    </tr>\n",
       "    <tr>\n",
       "      <th>393</th>\n",
       "      <td>27.0</td>\n",
       "      <td>4</td>\n",
       "      <td>140.0</td>\n",
       "      <td>86.00</td>\n",
       "      <td>2790.0</td>\n",
       "      <td>15.6</td>\n",
       "      <td>82</td>\n",
       "      <td>1</td>\n",
       "      <td>ford mustang gl</td>\n",
       "    </tr>\n",
       "    <tr>\n",
       "      <th>394</th>\n",
       "      <td>44.0</td>\n",
       "      <td>4</td>\n",
       "      <td>97.0</td>\n",
       "      <td>52.00</td>\n",
       "      <td>2130.0</td>\n",
       "      <td>24.6</td>\n",
       "      <td>82</td>\n",
       "      <td>2</td>\n",
       "      <td>vw pickup</td>\n",
       "    </tr>\n",
       "    <tr>\n",
       "      <th>395</th>\n",
       "      <td>32.0</td>\n",
       "      <td>4</td>\n",
       "      <td>135.0</td>\n",
       "      <td>84.00</td>\n",
       "      <td>2295.0</td>\n",
       "      <td>11.6</td>\n",
       "      <td>82</td>\n",
       "      <td>1</td>\n",
       "      <td>dodge rampage</td>\n",
       "    </tr>\n",
       "    <tr>\n",
       "      <th>396</th>\n",
       "      <td>28.0</td>\n",
       "      <td>4</td>\n",
       "      <td>120.0</td>\n",
       "      <td>79.00</td>\n",
       "      <td>2625.0</td>\n",
       "      <td>18.6</td>\n",
       "      <td>82</td>\n",
       "      <td>1</td>\n",
       "      <td>ford ranger</td>\n",
       "    </tr>\n",
       "    <tr>\n",
       "      <th>397</th>\n",
       "      <td>31.0</td>\n",
       "      <td>4</td>\n",
       "      <td>119.0</td>\n",
       "      <td>82.00</td>\n",
       "      <td>2720.0</td>\n",
       "      <td>19.4</td>\n",
       "      <td>82</td>\n",
       "      <td>1</td>\n",
       "      <td>chevy s-10</td>\n",
       "    </tr>\n",
       "  </tbody>\n",
       "</table>\n",
       "<p>398 rows × 9 columns</p>\n",
       "</div>"
      ],
      "text/plain": [
       "      mpg  cylinders  displacement horsepower  weight  acceleration  \\\n",
       "0    18.0          8         307.0      130.0  3504.0          12.0   \n",
       "1    15.0          8         350.0      165.0  3693.0          11.5   \n",
       "2    18.0          8         318.0      150.0  3436.0          11.0   \n",
       "3    16.0          8         304.0      150.0  3433.0          12.0   \n",
       "4    17.0          8         302.0      140.0  3449.0          10.5   \n",
       "..    ...        ...           ...        ...     ...           ...   \n",
       "393  27.0          4         140.0      86.00  2790.0          15.6   \n",
       "394  44.0          4          97.0      52.00  2130.0          24.6   \n",
       "395  32.0          4         135.0      84.00  2295.0          11.6   \n",
       "396  28.0          4         120.0      79.00  2625.0          18.6   \n",
       "397  31.0          4         119.0      82.00  2720.0          19.4   \n",
       "\n",
       "     model year  origin                       name  \n",
       "0            70       1  chevrolet chevelle malibu  \n",
       "1            70       1          buick skylark 320  \n",
       "2            70       1         plymouth satellite  \n",
       "3            70       1              amc rebel sst  \n",
       "4            70       1                ford torino  \n",
       "..          ...     ...                        ...  \n",
       "393          82       1            ford mustang gl  \n",
       "394          82       2                  vw pickup  \n",
       "395          82       1              dodge rampage  \n",
       "396          82       1                ford ranger  \n",
       "397          82       1                 chevy s-10  \n",
       "\n",
       "[398 rows x 9 columns]"
      ]
     },
     "execution_count": 1,
     "metadata": {},
     "output_type": "execute_result"
    }
   ],
   "source": [
    "import pandas as pd\n",
    "\n",
    "# read_csv() 함수로 df 생성\n",
    "df = pd.read_csv('data/auto-mpg.csv', header=None)\n",
    "\n",
    "# 열 이름을 지정\n",
    "df.columns = ['mpg','cylinders','displacement','horsepower','weight',\n",
    "              'acceleration','model year','origin','name']\n",
    "\n",
    "df\n"
   ]
  },
  {
   "cell_type": "code",
   "execution_count": 5,
   "metadata": {},
   "outputs": [
    {
     "name": "stdout",
     "output_type": "stream",
     "text": [
      "mpg               23.514573\n",
      "cylinders          5.454774\n",
      "displacement     193.425879\n",
      "weight          2970.424623\n",
      "acceleration      15.568090\n",
      "model year        76.010050\n",
      "origin             1.572864\n",
      "dtype: float64\n"
     ]
    },
    {
     "name": "stderr",
     "output_type": "stream",
     "text": [
      "C:\\Users\\UserK\\AppData\\Local\\Temp\\ipykernel_8564\\1187432946.py:2: FutureWarning: The default value of numeric_only in DataFrame.mean is deprecated. In a future version, it will default to False. In addition, specifying 'numeric_only=None' is deprecated. Select only valid columns or specify the value of numeric_only to silence this warning.\n",
      "  print(df.mean())\n"
     ]
    }
   ],
   "source": [
    "# 전체 열의 평균값 \n",
    "print(df.mean())"
   ]
  },
  {
   "cell_type": "code",
   "execution_count": 6,
   "metadata": {},
   "outputs": [
    {
     "name": "stdout",
     "output_type": "stream",
     "text": [
      "23.514572864321607\n"
     ]
    }
   ],
   "source": [
    "# 특정 열의 평균값\n",
    "print(df['mpg'].mean())"
   ]
  },
  {
   "cell_type": "markdown",
   "metadata": {},
   "source": [
    "중간값"
   ]
  },
  {
   "cell_type": "code",
   "execution_count": 7,
   "metadata": {},
   "outputs": [
    {
     "name": "stdout",
     "output_type": "stream",
     "text": [
      "mpg               23.0\n",
      "cylinders          4.0\n",
      "displacement     148.5\n",
      "weight          2803.5\n",
      "acceleration      15.5\n",
      "model year        76.0\n",
      "origin             1.0\n",
      "dtype: float64\n"
     ]
    },
    {
     "name": "stderr",
     "output_type": "stream",
     "text": [
      "C:\\Users\\UserK\\AppData\\Local\\Temp\\ipykernel_8564\\1103532312.py:2: FutureWarning: The default value of numeric_only in DataFrame.median is deprecated. In a future version, it will default to False. In addition, specifying 'numeric_only=None' is deprecated. Select only valid columns or specify the value of numeric_only to silence this warning.\n",
      "  print(df.median())\n"
     ]
    }
   ],
   "source": [
    "# 모든 열의 중간값\n",
    "print(df.median())"
   ]
  },
  {
   "cell_type": "code",
   "execution_count": 8,
   "metadata": {},
   "outputs": [
    {
     "name": "stdout",
     "output_type": "stream",
     "text": [
      "23.0\n"
     ]
    }
   ],
   "source": [
    "# 특정 열의 중간값\n",
    "print(df['mpg'].median())"
   ]
  },
  {
   "cell_type": "code",
   "execution_count": 10,
   "metadata": {},
   "outputs": [
    {
     "name": "stdout",
     "output_type": "stream",
     "text": [
      "mpg                         46.6\n",
      "cylinders                      8\n",
      "displacement               455.0\n",
      "horsepower                     ?\n",
      "weight                    5140.0\n",
      "acceleration                24.8\n",
      "model year                    82\n",
      "origin                         3\n",
      "name            vw rabbit custom\n",
      "dtype: object\n",
      "\n",
      "46.6\n"
     ]
    }
   ],
   "source": [
    "# 최대값 \n",
    "print(df.max())\n",
    "print()\n",
    "print(df['mpg'].max())"
   ]
  },
  {
   "cell_type": "code",
   "execution_count": 11,
   "metadata": {},
   "outputs": [
    {
     "name": "stdout",
     "output_type": "stream",
     "text": [
      "mpg                                 9.0\n",
      "cylinders                             3\n",
      "displacement                       68.0\n",
      "horsepower                        100.0\n",
      "weight                           1613.0\n",
      "acceleration                        8.0\n",
      "model year                           70\n",
      "origin                                1\n",
      "name            amc ambassador brougham\n",
      "dtype: object\n",
      "\n",
      "\n",
      "9.0\n"
     ]
    }
   ],
   "source": [
    "# 최소값 \n",
    "print(df.min())\n",
    "print('\\n')\n",
    "print(df['mpg'].min())"
   ]
  },
  {
   "cell_type": "code",
   "execution_count": 14,
   "metadata": {},
   "outputs": [
    {
     "name": "stdout",
     "output_type": "stream",
     "text": [
      "mpg               7.815984\n",
      "cylinders         1.701004\n",
      "displacement    104.269838\n",
      "weight          846.841774\n",
      "acceleration      2.757689\n",
      "model year        3.697627\n",
      "origin            0.802055\n",
      "dtype: float64\n",
      "\n",
      "\n",
      "7.815984312565782\n"
     ]
    }
   ],
   "source": [
    "# 표준편차 \n",
    "print(df.std(numeric_only=True))  # Warning을 피하기 위해 옵션 추가 \n",
    "print('\\n')\n",
    "print(df['mpg'].std())"
   ]
  },
  {
   "cell_type": "code",
   "execution_count": 16,
   "metadata": {},
   "outputs": [
    {
     "name": "stdout",
     "output_type": "stream",
     "text": [
      "                   mpg  cylinders  displacement    weight  acceleration  \\\n",
      "mpg           1.000000  -0.775396     -0.804203 -0.831741      0.420289   \n",
      "cylinders    -0.775396   1.000000      0.950721  0.896017     -0.505419   \n",
      "displacement -0.804203   0.950721      1.000000  0.932824     -0.543684   \n",
      "weight       -0.831741   0.896017      0.932824  1.000000     -0.417457   \n",
      "acceleration  0.420289  -0.505419     -0.543684 -0.417457      1.000000   \n",
      "model year    0.579267  -0.348746     -0.370164 -0.306564      0.288137   \n",
      "origin        0.563450  -0.562543     -0.609409 -0.581024      0.205873   \n",
      "\n",
      "              model year    origin  \n",
      "mpg             0.579267  0.563450  \n",
      "cylinders      -0.348746 -0.562543  \n",
      "displacement   -0.370164 -0.609409  \n",
      "weight         -0.306564 -0.581024  \n",
      "acceleration    0.288137  0.205873  \n",
      "model year      1.000000  0.180662  \n",
      "origin          0.180662  1.000000  \n",
      "\n",
      "\n",
      "             mpg    weight\n",
      "mpg     1.000000 -0.831741\n",
      "weight -0.831741  1.000000\n"
     ]
    }
   ],
   "source": [
    "# 상관계수 \n",
    "print(df.corr(numeric_only=True))\n",
    "print('\\n')\n",
    "print(df[['mpg','weight']].corr())"
   ]
  }
 ],
 "metadata": {
  "kernelspec": {
   "display_name": "Python 3.11.1 64-bit",
   "language": "python",
   "name": "python3"
  },
  "language_info": {
   "codemirror_mode": {
    "name": "ipython",
    "version": 3
   },
   "file_extension": ".py",
   "mimetype": "text/x-python",
   "name": "python",
   "nbconvert_exporter": "python",
   "pygments_lexer": "ipython3",
   "version": "3.11.1"
  },
  "orig_nbformat": 4,
  "vscode": {
   "interpreter": {
    "hash": "81eef19b52451e11e3f8bf6bc518dd5f147d5a651198624c9c211c83ec7c4923"
   }
  }
 },
 "nbformat": 4,
 "nbformat_minor": 2
}
