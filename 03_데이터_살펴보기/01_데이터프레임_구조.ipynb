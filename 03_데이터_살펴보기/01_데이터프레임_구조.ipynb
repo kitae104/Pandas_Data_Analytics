{
 "cells": [
  {
   "cell_type": "markdown",
   "metadata": {},
   "source": [
    "### 데이터프레임 구조"
   ]
  },
  {
   "cell_type": "markdown",
   "metadata": {},
   "source": [
    "데이터 내용 미리 보기"
   ]
  },
  {
   "cell_type": "code",
   "execution_count": 1,
   "metadata": {},
   "outputs": [
    {
     "data": {
      "text/html": [
       "<div>\n",
       "<style scoped>\n",
       "    .dataframe tbody tr th:only-of-type {\n",
       "        vertical-align: middle;\n",
       "    }\n",
       "\n",
       "    .dataframe tbody tr th {\n",
       "        vertical-align: top;\n",
       "    }\n",
       "\n",
       "    .dataframe thead th {\n",
       "        text-align: right;\n",
       "    }\n",
       "</style>\n",
       "<table border=\"1\" class=\"dataframe\">\n",
       "  <thead>\n",
       "    <tr style=\"text-align: right;\">\n",
       "      <th></th>\n",
       "      <th>0</th>\n",
       "      <th>1</th>\n",
       "      <th>2</th>\n",
       "      <th>3</th>\n",
       "      <th>4</th>\n",
       "      <th>5</th>\n",
       "      <th>6</th>\n",
       "      <th>7</th>\n",
       "      <th>8</th>\n",
       "    </tr>\n",
       "  </thead>\n",
       "  <tbody>\n",
       "    <tr>\n",
       "      <th>0</th>\n",
       "      <td>18.0</td>\n",
       "      <td>8</td>\n",
       "      <td>307.0</td>\n",
       "      <td>130.0</td>\n",
       "      <td>3504.0</td>\n",
       "      <td>12.0</td>\n",
       "      <td>70</td>\n",
       "      <td>1</td>\n",
       "      <td>chevrolet chevelle malibu</td>\n",
       "    </tr>\n",
       "    <tr>\n",
       "      <th>1</th>\n",
       "      <td>15.0</td>\n",
       "      <td>8</td>\n",
       "      <td>350.0</td>\n",
       "      <td>165.0</td>\n",
       "      <td>3693.0</td>\n",
       "      <td>11.5</td>\n",
       "      <td>70</td>\n",
       "      <td>1</td>\n",
       "      <td>buick skylark 320</td>\n",
       "    </tr>\n",
       "    <tr>\n",
       "      <th>2</th>\n",
       "      <td>18.0</td>\n",
       "      <td>8</td>\n",
       "      <td>318.0</td>\n",
       "      <td>150.0</td>\n",
       "      <td>3436.0</td>\n",
       "      <td>11.0</td>\n",
       "      <td>70</td>\n",
       "      <td>1</td>\n",
       "      <td>plymouth satellite</td>\n",
       "    </tr>\n",
       "    <tr>\n",
       "      <th>3</th>\n",
       "      <td>16.0</td>\n",
       "      <td>8</td>\n",
       "      <td>304.0</td>\n",
       "      <td>150.0</td>\n",
       "      <td>3433.0</td>\n",
       "      <td>12.0</td>\n",
       "      <td>70</td>\n",
       "      <td>1</td>\n",
       "      <td>amc rebel sst</td>\n",
       "    </tr>\n",
       "    <tr>\n",
       "      <th>4</th>\n",
       "      <td>17.0</td>\n",
       "      <td>8</td>\n",
       "      <td>302.0</td>\n",
       "      <td>140.0</td>\n",
       "      <td>3449.0</td>\n",
       "      <td>10.5</td>\n",
       "      <td>70</td>\n",
       "      <td>1</td>\n",
       "      <td>ford torino</td>\n",
       "    </tr>\n",
       "    <tr>\n",
       "      <th>...</th>\n",
       "      <td>...</td>\n",
       "      <td>...</td>\n",
       "      <td>...</td>\n",
       "      <td>...</td>\n",
       "      <td>...</td>\n",
       "      <td>...</td>\n",
       "      <td>...</td>\n",
       "      <td>...</td>\n",
       "      <td>...</td>\n",
       "    </tr>\n",
       "    <tr>\n",
       "      <th>393</th>\n",
       "      <td>27.0</td>\n",
       "      <td>4</td>\n",
       "      <td>140.0</td>\n",
       "      <td>86.00</td>\n",
       "      <td>2790.0</td>\n",
       "      <td>15.6</td>\n",
       "      <td>82</td>\n",
       "      <td>1</td>\n",
       "      <td>ford mustang gl</td>\n",
       "    </tr>\n",
       "    <tr>\n",
       "      <th>394</th>\n",
       "      <td>44.0</td>\n",
       "      <td>4</td>\n",
       "      <td>97.0</td>\n",
       "      <td>52.00</td>\n",
       "      <td>2130.0</td>\n",
       "      <td>24.6</td>\n",
       "      <td>82</td>\n",
       "      <td>2</td>\n",
       "      <td>vw pickup</td>\n",
       "    </tr>\n",
       "    <tr>\n",
       "      <th>395</th>\n",
       "      <td>32.0</td>\n",
       "      <td>4</td>\n",
       "      <td>135.0</td>\n",
       "      <td>84.00</td>\n",
       "      <td>2295.0</td>\n",
       "      <td>11.6</td>\n",
       "      <td>82</td>\n",
       "      <td>1</td>\n",
       "      <td>dodge rampage</td>\n",
       "    </tr>\n",
       "    <tr>\n",
       "      <th>396</th>\n",
       "      <td>28.0</td>\n",
       "      <td>4</td>\n",
       "      <td>120.0</td>\n",
       "      <td>79.00</td>\n",
       "      <td>2625.0</td>\n",
       "      <td>18.6</td>\n",
       "      <td>82</td>\n",
       "      <td>1</td>\n",
       "      <td>ford ranger</td>\n",
       "    </tr>\n",
       "    <tr>\n",
       "      <th>397</th>\n",
       "      <td>31.0</td>\n",
       "      <td>4</td>\n",
       "      <td>119.0</td>\n",
       "      <td>82.00</td>\n",
       "      <td>2720.0</td>\n",
       "      <td>19.4</td>\n",
       "      <td>82</td>\n",
       "      <td>1</td>\n",
       "      <td>chevy s-10</td>\n",
       "    </tr>\n",
       "  </tbody>\n",
       "</table>\n",
       "<p>398 rows × 9 columns</p>\n",
       "</div>"
      ],
      "text/plain": [
       "        0  1      2      3       4     5   6  7                          8\n",
       "0    18.0  8  307.0  130.0  3504.0  12.0  70  1  chevrolet chevelle malibu\n",
       "1    15.0  8  350.0  165.0  3693.0  11.5  70  1          buick skylark 320\n",
       "2    18.0  8  318.0  150.0  3436.0  11.0  70  1         plymouth satellite\n",
       "3    16.0  8  304.0  150.0  3433.0  12.0  70  1              amc rebel sst\n",
       "4    17.0  8  302.0  140.0  3449.0  10.5  70  1                ford torino\n",
       "..    ... ..    ...    ...     ...   ...  .. ..                        ...\n",
       "393  27.0  4  140.0  86.00  2790.0  15.6  82  1            ford mustang gl\n",
       "394  44.0  4   97.0  52.00  2130.0  24.6  82  2                  vw pickup\n",
       "395  32.0  4  135.0  84.00  2295.0  11.6  82  1              dodge rampage\n",
       "396  28.0  4  120.0  79.00  2625.0  18.6  82  1                ford ranger\n",
       "397  31.0  4  119.0  82.00  2720.0  19.4  82  1                 chevy s-10\n",
       "\n",
       "[398 rows x 9 columns]"
      ]
     },
     "execution_count": 1,
     "metadata": {},
     "output_type": "execute_result"
    }
   ],
   "source": [
    "import pandas as pd\n",
    "\n",
    "# read_csv() 함수로 df 생성\n",
    "df = pd.read_csv('data/auto-mpg.csv', header=None)\n",
    "df"
   ]
  },
  {
   "cell_type": "code",
   "execution_count": 2,
   "metadata": {},
   "outputs": [
    {
     "name": "stdout",
     "output_type": "stream",
     "text": [
      "    mpg  cylinders  displacement horsepower  weight  acceleration  model year  \\\n",
      "0  18.0          8         307.0      130.0  3504.0          12.0          70   \n",
      "1  15.0          8         350.0      165.0  3693.0          11.5          70   \n",
      "2  18.0          8         318.0      150.0  3436.0          11.0          70   \n",
      "3  16.0          8         304.0      150.0  3433.0          12.0          70   \n",
      "4  17.0          8         302.0      140.0  3449.0          10.5          70   \n",
      "\n",
      "   origin                       name  \n",
      "0       1  chevrolet chevelle malibu  \n",
      "1       1          buick skylark 320  \n",
      "2       1         plymouth satellite  \n",
      "3       1              amc rebel sst  \n",
      "4       1                ford torino  \n",
      "      mpg  cylinders  displacement horsepower  weight  acceleration  \\\n",
      "393  27.0          4         140.0      86.00  2790.0          15.6   \n",
      "394  44.0          4          97.0      52.00  2130.0          24.6   \n",
      "395  32.0          4         135.0      84.00  2295.0          11.6   \n",
      "396  28.0          4         120.0      79.00  2625.0          18.6   \n",
      "397  31.0          4         119.0      82.00  2720.0          19.4   \n",
      "\n",
      "     model year  origin             name  \n",
      "393          82       1  ford mustang gl  \n",
      "394          82       2        vw pickup  \n",
      "395          82       1    dodge rampage  \n",
      "396          82       1      ford ranger  \n",
      "397          82       1       chevy s-10  \n"
     ]
    }
   ],
   "source": [
    "# 열 이름을 지정\n",
    "df.columns = ['mpg','cylinders','displacement','horsepower','weight',\n",
    "              'acceleration','model year','origin','name']\n",
    "\n",
    "# 데이터프레임 df의 내용을 일부 확인 \n",
    "print(df.head())     # 처음 5개의 행\n",
    "print(df.tail())     # 마지막 5개의 행"
   ]
  },
  {
   "cell_type": "markdown",
   "metadata": {},
   "source": [
    "데이터 요약 정보 확인하기"
   ]
  },
  {
   "cell_type": "code",
   "execution_count": 3,
   "metadata": {},
   "outputs": [
    {
     "name": "stdout",
     "output_type": "stream",
     "text": [
      "(398, 9)\n"
     ]
    }
   ],
   "source": [
    "# df의 모양과 크기 확인: (행의 개수, 열의 개수)를 투플로 반환 \n",
    "print(df.shape)"
   ]
  },
  {
   "cell_type": "code",
   "execution_count": 4,
   "metadata": {},
   "outputs": [
    {
     "name": "stdout",
     "output_type": "stream",
     "text": [
      "<class 'pandas.core.frame.DataFrame'>\n",
      "RangeIndex: 398 entries, 0 to 397\n",
      "Data columns (total 9 columns):\n",
      " #   Column        Non-Null Count  Dtype  \n",
      "---  ------        --------------  -----  \n",
      " 0   mpg           398 non-null    float64\n",
      " 1   cylinders     398 non-null    int64  \n",
      " 2   displacement  398 non-null    float64\n",
      " 3   horsepower    398 non-null    object \n",
      " 4   weight        398 non-null    float64\n",
      " 5   acceleration  398 non-null    float64\n",
      " 6   model year    398 non-null    int64  \n",
      " 7   origin        398 non-null    int64  \n",
      " 8   name          398 non-null    object \n",
      "dtypes: float64(4), int64(3), object(2)\n",
      "memory usage: 28.1+ KB\n",
      "None\n"
     ]
    }
   ],
   "source": [
    "# 데이터프레임 df의 내용 확인 \n",
    "print(df.info())"
   ]
  },
  {
   "cell_type": "code",
   "execution_count": 5,
   "metadata": {},
   "outputs": [
    {
     "data": {
      "text/plain": [
       "mpg             float64\n",
       "cylinders         int64\n",
       "displacement    float64\n",
       "horsepower       object\n",
       "weight          float64\n",
       "acceleration    float64\n",
       "model year        int64\n",
       "origin            int64\n",
       "name             object\n",
       "dtype: object"
      ]
     },
     "execution_count": 5,
     "metadata": {},
     "output_type": "execute_result"
    }
   ],
   "source": [
    "# 데이터프레임 df의 자료형 확인 \n",
    "df.dtypes"
   ]
  },
  {
   "cell_type": "code",
   "execution_count": 8,
   "metadata": {},
   "outputs": [
    {
     "name": "stdout",
     "output_type": "stream",
     "text": [
      "float64\n"
     ]
    }
   ],
   "source": [
    "# 시리즈(mog 열)의 자료형 확인 \n",
    "print(df.mpg.dtype)"
   ]
  },
  {
   "cell_type": "code",
   "execution_count": 12,
   "metadata": {},
   "outputs": [
    {
     "name": "stdout",
     "output_type": "stream",
     "text": [
      "              mpg   cylinders  displacement       weight  acceleration  \\\n",
      "count  398.000000  398.000000    398.000000   398.000000    398.000000   \n",
      "mean    23.514573    5.454774    193.425879  2970.424623     15.568090   \n",
      "std      7.815984    1.701004    104.269838   846.841774      2.757689   \n",
      "min      9.000000    3.000000     68.000000  1613.000000      8.000000   \n",
      "25%     17.500000    4.000000    104.250000  2223.750000     13.825000   \n",
      "50%     23.000000    4.000000    148.500000  2803.500000     15.500000   \n",
      "75%     29.000000    8.000000    262.000000  3608.000000     17.175000   \n",
      "max     46.600000    8.000000    455.000000  5140.000000     24.800000   \n",
      "\n",
      "       model year      origin  \n",
      "count  398.000000  398.000000  \n",
      "mean    76.010050    1.572864  \n",
      "std      3.697627    0.802055  \n",
      "min     70.000000    1.000000  \n",
      "25%     73.000000    1.000000  \n",
      "50%     76.000000    1.000000  \n",
      "75%     79.000000    2.000000  \n",
      "max     82.000000    3.000000  \n",
      "               mpg   cylinders  displacement horsepower       weight  \\\n",
      "count   398.000000  398.000000    398.000000        398   398.000000   \n",
      "unique         NaN         NaN           NaN         94          NaN   \n",
      "top            NaN         NaN           NaN      150.0          NaN   \n",
      "freq           NaN         NaN           NaN         22          NaN   \n",
      "mean     23.514573    5.454774    193.425879        NaN  2970.424623   \n",
      "std       7.815984    1.701004    104.269838        NaN   846.841774   \n",
      "min       9.000000    3.000000     68.000000        NaN  1613.000000   \n",
      "25%      17.500000    4.000000    104.250000        NaN  2223.750000   \n",
      "50%      23.000000    4.000000    148.500000        NaN  2803.500000   \n",
      "75%      29.000000    8.000000    262.000000        NaN  3608.000000   \n",
      "max      46.600000    8.000000    455.000000        NaN  5140.000000   \n",
      "\n",
      "        acceleration  model year      origin        name  \n",
      "count     398.000000  398.000000  398.000000         398  \n",
      "unique           NaN         NaN         NaN         305  \n",
      "top              NaN         NaN         NaN  ford pinto  \n",
      "freq             NaN         NaN         NaN           6  \n",
      "mean       15.568090   76.010050    1.572864         NaN  \n",
      "std         2.757689    3.697627    0.802055         NaN  \n",
      "min         8.000000   70.000000    1.000000         NaN  \n",
      "25%        13.825000   73.000000    1.000000         NaN  \n",
      "50%        15.500000   76.000000    1.000000         NaN  \n",
      "75%        17.175000   79.000000    2.000000         NaN  \n",
      "max        24.800000   82.000000    3.000000         NaN  \n"
     ]
    }
   ],
   "source": [
    "# 데이터프레임 df의 기술통계 정보 확인 \n",
    "print(df.describe())\n",
    "print(df.describe(include='all'))"
   ]
  },
  {
   "cell_type": "markdown",
   "metadata": {},
   "source": [
    "데이터 개수 확인"
   ]
  },
  {
   "cell_type": "code",
   "execution_count": 13,
   "metadata": {},
   "outputs": [
    {
     "name": "stdout",
     "output_type": "stream",
     "text": [
      "mpg             398\n",
      "cylinders       398\n",
      "displacement    398\n",
      "horsepower      398\n",
      "weight          398\n",
      "acceleration    398\n",
      "model year      398\n",
      "origin          398\n",
      "name            398\n",
      "dtype: int64\n"
     ]
    }
   ],
   "source": [
    "# 데이터프레임 df의 각 열이 가지고 있는 원소 개수 확인 \n",
    "print(df.count())"
   ]
  },
  {
   "cell_type": "code",
   "execution_count": 14,
   "metadata": {},
   "outputs": [
    {
     "name": "stdout",
     "output_type": "stream",
     "text": [
      "<class 'pandas.core.series.Series'>\n"
     ]
    }
   ],
   "source": [
    "# df.count()가 반환하는 객체 타입 출력\n",
    "print(type(df.count()))"
   ]
  },
  {
   "cell_type": "code",
   "execution_count": 16,
   "metadata": {},
   "outputs": [
    {
     "data": {
      "text/plain": [
       "0      1\n",
       "1      1\n",
       "2      1\n",
       "3      1\n",
       "4      1\n",
       "      ..\n",
       "393    1\n",
       "394    2\n",
       "395    1\n",
       "396    1\n",
       "397    1\n",
       "Name: origin, Length: 398, dtype: int64"
      ]
     },
     "execution_count": 16,
     "metadata": {},
     "output_type": "execute_result"
    }
   ],
   "source": [
    "df['origin']"
   ]
  },
  {
   "cell_type": "code",
   "execution_count": 15,
   "metadata": {},
   "outputs": [
    {
     "name": "stdout",
     "output_type": "stream",
     "text": [
      "1    249\n",
      "3     79\n",
      "2     70\n",
      "Name: origin, dtype: int64\n"
     ]
    }
   ],
   "source": [
    "# 데이터프레임 df의 특정 열이 가지고 있는 고유값 확인 \n",
    "unique_values = df['origin'].value_counts()\n",
    "print(unique_values)"
   ]
  },
  {
   "cell_type": "code",
   "execution_count": 17,
   "metadata": {},
   "outputs": [
    {
     "name": "stdout",
     "output_type": "stream",
     "text": [
      "<class 'pandas.core.series.Series'>\n"
     ]
    }
   ],
   "source": [
    "print(type(unique_values))"
   ]
  }
 ],
 "metadata": {
  "kernelspec": {
   "display_name": "Python 3.11.1 64-bit",
   "language": "python",
   "name": "python3"
  },
  "language_info": {
   "codemirror_mode": {
    "name": "ipython",
    "version": 3
   },
   "file_extension": ".py",
   "mimetype": "text/x-python",
   "name": "python",
   "nbconvert_exporter": "python",
   "pygments_lexer": "ipython3",
   "version": "3.11.1"
  },
  "orig_nbformat": 4,
  "vscode": {
   "interpreter": {
    "hash": "81eef19b52451e11e3f8bf6bc518dd5f147d5a651198624c9c211c83ec7c4923"
   }
  }
 },
 "nbformat": 4,
 "nbformat_minor": 2
}
